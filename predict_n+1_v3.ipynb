{
 "cells": [
  {
   "cell_type": "markdown",
   "metadata": {},
   "source": [
    "Notebook to predict N+1 command where N is 1..4 and command sets can be up to len 5"
   ]
  },
  {
   "cell_type": "markdown",
   "metadata": {},
   "source": [
    "Construct Graph Function"
   ]
  },
  {
   "cell_type": "code",
   "execution_count": 126,
   "metadata": {},
   "outputs": [],
   "source": [
    "from graph import Node\n",
    "\n",
    "def adjust_session(session, frequencies = []):\n",
    "    if len(session) == 2:\n",
    "        if session[0] == session[1]:\n",
    "            session = [session[0]]\n",
    "            frequencies = [2]\n",
    "        else:\n",
    "            frequencies = [1] * len(session)\n",
    "    elif len(session) == 3:\n",
    "        if session[0] == session[1] and session[0] == session[2]:\n",
    "            session = session[:1]\n",
    "            frequencies = [3]\n",
    "        else:\n",
    "            frequencies = [1] * len(session)\n",
    "    elif len(session) == 4:\n",
    "        if session[0] == session[2] and session[1] == session[3]:\n",
    "            session = [session[0], session[1]]\n",
    "            frequencies = [2, 2]\n",
    "        else:\n",
    "            frequencies = [1] * len(session)\n",
    "    elif len(session) == 5:\n",
    "        if session[0] == session[1] and session[0] == session[2]:\n",
    "            session = [session[0], session[3], session[4]]\n",
    "            frequencies = [3, 1, 1]\n",
    "        elif session[0] == session[2] and session[1] == session[3]:\n",
    "            session = [session[0], session[1], session[4]]\n",
    "            frequencies = [2, 2, 1]\n",
    "        else:\n",
    "            frequencies = [1] * len(session)\n",
    "    else:\n",
    "        frequencies = [1] * len(session)\n",
    "\n",
    "    return session, frequencies\n",
    "\n",
    "\n",
    "def construct_graph(command_list, command_dict={}):\n",
    "\n",
    "    filter_empty = lambda x: (len(x) > 0)\n",
    "    cur_node = None\n",
    "    child_node = None\n",
    "    \n",
    "    for session in command_list:\n",
    "        # remove commands of length 0 ( not good to modify list within loop )\n",
    "        session = list(filter(filter_empty, session))\n",
    "\n",
    "        try: \n",
    "            first_cmd = session[0]\n",
    "        except Exception as inst:\n",
    "            print(session)\n",
    "            continue\n",
    "\n",
    "        program = session[0].split()[0]\n",
    "\n",
    "        # change this to frequency array of length program\n",
    "        # and add frequency based on index to it    \n",
    "        freq_addition = []\n",
    "        _, freq_addition = adjust_session(session=session)\n",
    "\n",
    "        if command_dict.get(program) is None:\n",
    "            cur_node = Node(program=program, frequency=freq_addition[0])\n",
    "            command_dict[program] = cur_node \n",
    "        else:\n",
    "            cur_node = command_dict.get(program)\n",
    "            cur_node.frequency += freq_addition[0]\n",
    "\n",
    "        if cur_node.commands.get(first_cmd) is None:\n",
    "            cur_node.commands[first_cmd] = freq_addition[0]\n",
    "        else:\n",
    "            cur_node.commands[first_cmd] += freq_addition[0]\n",
    "\n",
    "        for cmd in range(1, len(session)):\n",
    "\n",
    "            if cmd >= len(freq_addition):\n",
    "                    print(session, len(session))\n",
    "                    print(freq_addition, len(freq_addition))\n",
    "\n",
    "            if session[cmd].isprintable() is False:\n",
    "                break\n",
    "            else:\n",
    "                program = session[cmd].split()[0]\n",
    "\n",
    "            if cur_node.children.get(program) is None:\n",
    "                child_node = Node(program = program, frequency=freq_addition[cmd])\n",
    "                cur_node.children[program] = child_node\n",
    "            else:\n",
    "                child_node = cur_node.children.get(program)\n",
    "                child_node.frequency += freq_addition[cmd]\n",
    "            \n",
    "            if child_node.commands.get(session[cmd]) is None:\n",
    "                child_node.commands[session[cmd]] = freq_addition[cmd]\n",
    "            else:\n",
    "                child_node.commands[session[cmd]] += freq_addition[cmd]\n",
    "            \n",
    "            cur_node = child_node\n",
    "        \n",
    "    return command_dict"
   ]
  },
  {
   "cell_type": "markdown",
   "metadata": {},
   "source": [
    "Get Prediction Function"
   ]
  },
  {
   "cell_type": "code",
   "execution_count": 76,
   "metadata": {},
   "outputs": [],
   "source": [
    "def get_prediction(command_list: list[str], graph, result_size=5, graph_depth=4):\n",
    "    if len(command_list) == 0:\n",
    "        return None\n",
    "\n",
    "    commands = command_list[:graph_depth]\n",
    "    # should be labeled last command\n",
    "    last_command = command_list[graph_depth]\n",
    "\n",
    "    if len(commands) == 0:\n",
    "        return None, [-1]\n",
    "\n",
    "    program = commands[0].split()[0]\n",
    "\n",
    "    frequencies = []\n",
    "    \n",
    "    if graph.get(program) is None:\n",
    "        frequencies.append(-1)\n",
    "        return None, frequencies\n",
    "    else:\n",
    "        node = graph[program]\n",
    "        frequencies.append(node.frequency)\n",
    "\n",
    "    for command in commands[1:]:\n",
    "        program = command.split()[0]\n",
    "        if node.children.get(program) is not None:\n",
    "            node = node.children[program]\n",
    "            frequencies.append(node.frequency)\n",
    "        else:\n",
    "            frequencies.append(-1)\n",
    "            return None, frequencies\n",
    "    \n",
    "    # last frequency if it has it\n",
    "    next_program = last_command.split()[0]\n",
    "\n",
    "    if node.children.get(next_program) is not None:\n",
    "        frequencies.append(node.children[next_program].frequency)\n",
    "    else:\n",
    "        frequencies.append(-1)\n",
    "    \n",
    "    return node.get_prediction(previous_command=last_command, num_to_return=result_size), frequencies"
   ]
  },
  {
   "cell_type": "markdown",
   "metadata": {},
   "source": [
    "Accuracy Function"
   ]
  },
  {
   "cell_type": "code",
   "execution_count": 96,
   "metadata": {},
   "outputs": [],
   "source": [
    "from thefuzz import fuzz\n",
    "from thefuzz import process\n",
    "\n",
    "from statistics import mean\n",
    "\n",
    "from tqdm import tqdm\n",
    "\n",
    "from sklearn.model_selection import train_test_split\n",
    "\n",
    "import pprint\n",
    "pp = pprint.PrettyPrinter(indent=4)\n",
    "\n",
    "def append_list(lst, results, commands, graph_depth):\n",
    "    lst.append({\"Results\": results, \"Expected\": commands[graph_depth], \"Command Sequence\": commands})\n",
    "\n",
    "def get_accuracy(command_subsets, fail_list = [], fail_frequencies= [], succeed_list = [], succeed_frequencies = [], correct_5_not_3= [], correct_15_not_5 = [], print_fails=False, graph_depth=-1):\n",
    "    train_data, test_data = train_test_split(command_subsets, test_size=0.2, train_size=0.8, random_state=42)\n",
    "\n",
    "    train_graph = construct_graph(train_data)\n",
    "\n",
    "    # filter out nodes that can't get prediction because not enough length so don't contribute and will cause error\n",
    "    if (graph_depth != -1):\n",
    "        test_data = [x for x in test_data if len(x) > graph_depth]\n",
    "    else:\n",
    "        test_data = [x for x in test_data if len(x) >= 2]\n",
    "        \n",
    "    test_size = len(test_data)\n",
    "\n",
    "    return_3 = 3\n",
    "    return_5 = 5\n",
    "    return_15 = 15\n",
    "\n",
    "    correct = 0\n",
    "    correct_with_5 = 0\n",
    "    correct_with_15 = 0\n",
    "    first_prediction = 0\n",
    "    has_prediction = 0\n",
    "    incorrect = 0\n",
    "    none_count = 0\n",
    "\n",
    "    for commands in tqdm(test_data, leave=False):\n",
    "        results_3, frequencies = get_prediction(commands, train_graph, return_3, graph_depth)\n",
    "        results_5, _ = get_prediction(commands, train_graph, return_5, graph_depth)\n",
    "        results_15, _ = get_prediction(commands, train_graph, return_15, graph_depth)\n",
    "\n",
    "        command_freq = [(commands[i], frequencies[i]) for i in range(len(frequencies))]\n",
    "        \n",
    "        prev_correct = correct\n",
    "        prev5_correct =  correct_with_5\n",
    "\n",
    "        if results_3 is not None:\n",
    "            has_prediction += 1\n",
    "\n",
    "            for i in range(len(results_3)):\n",
    "                if fuzz.ratio(results_3[i][0], commands[graph_depth]) > 85:\n",
    "                    correct += 1\n",
    "\n",
    "                    succeed_frequencies.append(mean(frequencies))\n",
    "\n",
    "                    if correct <= 100:\n",
    "                        append_list(succeed_list, results_5, command_freq, graph_depth)\n",
    "\n",
    "                    if i == 0:\n",
    "                        first_prediction += 1\n",
    "                \n",
    "                    break\n",
    "\n",
    "            if prev_correct == correct:\n",
    "                fail_frequencies.append(mean(frequencies))\n",
    "                incorrect += 1\n",
    "\n",
    "            for i in range(len(results_5)):\n",
    "                if fuzz.ratio(results_5[i][0], commands[graph_depth]) > 85:\n",
    "                    correct_with_5 += 1\n",
    "\n",
    "                    if correct_with_5 - correct <= 100 and prev_correct == correct:\n",
    "                        append_list(correct_5_not_3, results_5, command_freq, graph_depth)\n",
    "\n",
    "                    break\n",
    "\n",
    "            for i in range(len(results_15)):\n",
    "                if fuzz.ratio(results_15[i][0], commands[graph_depth]) > 85:\n",
    "                    correct_with_15 += 1\n",
    "\n",
    "                    if correct_with_15 - correct <= 100 and prev5_correct == correct_with_5:\n",
    "                        append_list(correct_15_not_5, results_15, command_freq, graph_depth)\n",
    "\n",
    "                    break\n",
    "\n",
    "        else:\n",
    "            none_count += 1\n",
    "\n",
    "        if results_5 is not None and prev_correct == correct and print_fails:\n",
    "            append_list(fail_list, results_5, command_freq, graph_depth)  \n",
    "                              \n",
    "    return 'Correct Proportion: {:.2f}% |\\n Correct in 5 not 3: {:.2f}% |\\n Correct in 15 not 5: {:.2f}% |\\n Has Prediction and is Correct: {:.2f}% |\\n Incorrect Proportion: {:.2f}% |\\n None Proportion: {:.2f}% |\\n First Prediction: {:.2f}% |\\n Average Success Freq: {:.2f} |\\n Average Fail Freq: {:.2f}'.format(100 * correct/(test_size-none_count), 100 * correct_with_5/(test_size-none_count), 100 * correct_with_15/(test_size-none_count), 100 * correct/has_prediction, 100 * incorrect/test_size, 100 * none_count/test_size, 100 * first_prediction/test_size, mean(succeed_frequencies)/len(train_data), mean(fail_frequencies)/len(train_data))\n"
   ]
  },
  {
   "cell_type": "code",
   "execution_count": 4,
   "metadata": {},
   "outputs": [
    {
     "name": "stderr",
     "output_type": "stream",
     "text": [
      "100%|██████████| 52/52 [00:09<00:00,  5.32it/s]\n",
      "100%|██████████| 36/36 [00:05<00:00,  6.48it/s]\n",
      "100%|██████████| 25/25 [00:02<00:00, 11.02it/s]\n",
      "100%|██████████| 56/56 [00:06<00:00,  8.78it/s]\n"
     ]
    }
   ],
   "source": [
    "from parse import Parser\n",
    "\n",
    "parser = Parser()"
   ]
  },
  {
   "cell_type": "markdown",
   "metadata": {},
   "source": [
    "All Commands Parse and Replace Args"
   ]
  },
  {
   "cell_type": "code",
   "execution_count": 5,
   "metadata": {},
   "outputs": [
    {
     "name": "stderr",
     "output_type": "stream",
     "text": [
      "100%|██████████| 52/52 [00:10<00:00,  4.90it/s]\n",
      "100%|██████████| 36/36 [00:05<00:00,  6.19it/s]\n",
      "100%|██████████| 25/25 [00:02<00:00, 10.65it/s]\n",
      "100%|██████████| 56/56 [00:06<00:00,  8.48it/s]\n"
     ]
    }
   ],
   "source": [
    "subset_size = 5\n",
    "\n",
    "science_session = parser.parse_commands_per_session(parser.scientists_files)\n",
    "science_session = parser.parse_commands_into_subsets_sliding_window(science_session, subset_size)\n",
    "science_session = parser.replace_args_nested(science_session)\n",
    "\n",
    "experienced_session = parser.parse_commands_per_session(parser.experienced_files)\n",
    "experienced_session = parser.parse_commands_into_subsets_sliding_window(experienced_session, subset_size)\n",
    "experienced_session = parser.replace_args_nested(experienced_session)\n",
    "\n",
    "non_session = parser.parse_commands_per_session(parser.non_programmers_files)\n",
    "non_session = parser.parse_commands_into_subsets_sliding_window(non_session, subset_size)\n",
    "non_session = parser.replace_args_nested(non_session)\n",
    "\n",
    "novice_session = parser.parse_commands_per_session(parser.novice_files)\n",
    "novice_session = parser.parse_commands_into_subsets_sliding_window(novice_session, subset_size)\n",
    "novice_session = parser.replace_args_nested(novice_session)"
   ]
  },
  {
   "cell_type": "markdown",
   "metadata": {},
   "source": [
    "Predicting last command from 1..n-1 commands"
   ]
  },
  {
   "cell_type": "code",
   "execution_count": 36,
   "metadata": {},
   "outputs": [
    {
     "name": "stderr",
     "output_type": "stream",
     "text": [
      "                                                      \r"
     ]
    },
    {
     "name": "stdout",
     "output_type": "stream",
     "text": [
      "Scientist session:\n",
      " Correct Proportion: 61.87% |\n",
      " Correct in 5 not 3: 66.69% |\n",
      " Correct in 15 not 5: 74.24% |\n",
      " Has Prediction and is Correct: 61.87% |\n",
      " Incorrect Proportion: 37.31% |\n",
      " None Proportion: 2.15% |\n",
      " First Prediction: 47.65% |\n",
      " Average Success Freq: 0.14 |\n",
      " Average Fail Freq: 0.20 \n",
      "\n"
     ]
    },
    {
     "name": "stderr",
     "output_type": "stream",
     "text": [
      "                                                      \r"
     ]
    },
    {
     "name": "stdout",
     "output_type": "stream",
     "text": [
      "Experienced session:\n",
      " Correct Proportion: 67.66% |\n",
      " Correct in 5 not 3: 71.67% |\n",
      " Correct in 15 not 5: 78.23% |\n",
      " Has Prediction and is Correct: 67.66% |\n",
      " Incorrect Proportion: 31.69% |\n",
      " None Proportion: 2.03% |\n",
      " First Prediction: 52.82% |\n",
      " Average Success Freq: 0.23 |\n",
      " Average Fail Freq: 0.34 \n",
      "\n"
     ]
    },
    {
     "name": "stderr",
     "output_type": "stream",
     "text": [
      "                                                      \r"
     ]
    },
    {
     "name": "stdout",
     "output_type": "stream",
     "text": [
      "Non programmer session:\n",
      " Correct Proportion: 63.28% |\n",
      " Correct in 5 not 3: 68.59% |\n",
      " Correct in 15 not 5: 75.80% |\n",
      " Has Prediction and is Correct: 63.28% |\n",
      " Incorrect Proportion: 36.17% |\n",
      " None Proportion: 1.48% |\n",
      " First Prediction: 48.34% |\n",
      " Average Success Freq: 0.74 |\n",
      " Average Fail Freq: 1.06 \n",
      "\n"
     ]
    },
    {
     "name": "stderr",
     "output_type": "stream",
     "text": [
      "                                                      \r"
     ]
    },
    {
     "name": "stdout",
     "output_type": "stream",
     "text": [
      "Novice session:\n",
      " Correct Proportion: 77.05% |\n",
      " Correct in 5 not 3: 80.96% |\n",
      " Correct in 15 not 5: 86.98% |\n",
      " Has Prediction and is Correct: 77.05% |\n",
      " Incorrect Proportion: 22.74% |\n",
      " None Proportion: 0.91% |\n",
      " First Prediction: 58.59% |\n",
      " Average Success Freq: 0.24 |\n",
      " Average Fail Freq: 0.33 \n",
      "\n"
     ]
    }
   ],
   "source": [
    "i = -1\n",
    "\n",
    "print(\"Scientist session:\\n\", get_accuracy(science_session, graph_depth=i), '\\n')\n",
    "print(\"Experienced session:\\n\", get_accuracy(experienced_session, graph_depth=i), '\\n')\n",
    "print(\"Non programmer session:\\n\", get_accuracy(non_session, graph_depth=i), '\\n')\n",
    "print(\"Novice session:\\n\", get_accuracy(novice_session, graph_depth=i), '\\n')"
   ]
  },
  {
   "cell_type": "markdown",
   "metadata": {},
   "source": [
    "Accuracy predicting N+1 command from N commands with all commands in graph"
   ]
  },
  {
   "cell_type": "code",
   "execution_count": 37,
   "metadata": {},
   "outputs": [
    {
     "name": "stdout",
     "output_type": "stream",
     "text": [
      "Accuracy predicting command 2 from commands 1 through 1:\n",
      "\n"
     ]
    },
    {
     "name": "stderr",
     "output_type": "stream",
     "text": [
      "                                                      \r"
     ]
    },
    {
     "name": "stdout",
     "output_type": "stream",
     "text": [
      "Scientist session:\n",
      " Correct Proportion: 58.51% |\n",
      " Correct in 5 not 3: 65.35% |\n",
      " Correct in 15 not 5: 78.97% |\n",
      " Has Prediction and is Correct: 58.51% |\n",
      " Incorrect Proportion: 41.48% |\n",
      " None Proportion: 0.02% |\n",
      " First Prediction: 41.58% |\n",
      " Average Success Freq: 0.17 |\n",
      " Average Fail Freq: 0.24 \n",
      "\n"
     ]
    },
    {
     "name": "stderr",
     "output_type": "stream",
     "text": [
      "                                                        \r"
     ]
    },
    {
     "name": "stdout",
     "output_type": "stream",
     "text": [
      "Experienced session:\n",
      " Correct Proportion: 64.84% |\n",
      " Correct in 5 not 3: 71.30% |\n",
      " Correct in 15 not 5: 83.42% |\n",
      " Has Prediction and is Correct: 64.84% |\n",
      " Incorrect Proportion: 35.15% |\n",
      " None Proportion: 0.01% |\n",
      " First Prediction: 45.70% |\n",
      " Average Success Freq: 0.30 |\n",
      " Average Fail Freq: 0.41 \n",
      "\n"
     ]
    },
    {
     "name": "stderr",
     "output_type": "stream",
     "text": [
      "                                                       \r"
     ]
    },
    {
     "name": "stdout",
     "output_type": "stream",
     "text": [
      "Non programmer session:\n",
      " Correct Proportion: 60.05% |\n",
      " Correct in 5 not 3: 67.01% |\n",
      " Correct in 15 not 5: 79.64% |\n",
      " Has Prediction and is Correct: 60.05% |\n",
      " Incorrect Proportion: 39.94% |\n",
      " None Proportion: 0.01% |\n",
      " First Prediction: 42.81% |\n",
      " Average Success Freq: 0.95 |\n",
      " Average Fail Freq: 1.32 \n",
      "\n"
     ]
    },
    {
     "name": "stderr",
     "output_type": "stream",
     "text": [
      "                                                      \r"
     ]
    },
    {
     "name": "stdout",
     "output_type": "stream",
     "text": [
      "Novice session:\n",
      " Correct Proportion: 73.67% |\n",
      " Correct in 5 not 3: 79.07% |\n",
      " Correct in 15 not 5: 89.26% |\n",
      " Has Prediction and is Correct: 73.67% |\n",
      " Incorrect Proportion: 26.32% |\n",
      " None Proportion: 0.03% |\n",
      " First Prediction: 50.31% |\n",
      " Average Success Freq: 0.32 |\n",
      " Average Fail Freq: 0.43 \n",
      "\n",
      "Accuracy predicting command 3 from commands 1 through 2:\n",
      "\n"
     ]
    },
    {
     "name": "stderr",
     "output_type": "stream",
     "text": [
      "                                                      \r"
     ]
    },
    {
     "name": "stdout",
     "output_type": "stream",
     "text": [
      "Scientist session:\n",
      " Correct Proportion: 73.36% |\n",
      " Correct in 5 not 3: 79.38% |\n",
      " Correct in 15 not 5: 88.85% |\n",
      " Has Prediction and is Correct: 73.36% |\n",
      " Incorrect Proportion: 26.62% |\n",
      " None Proportion: 0.06% |\n",
      " First Prediction: 55.86% |\n",
      " Average Success Freq: 0.20 |\n",
      " Average Fail Freq: 0.27 \n",
      "\n"
     ]
    },
    {
     "name": "stderr",
     "output_type": "stream",
     "text": [
      "                                                       \r"
     ]
    },
    {
     "name": "stdout",
     "output_type": "stream",
     "text": [
      "Experienced session:\n",
      " Correct Proportion: 78.20% |\n",
      " Correct in 5 not 3: 83.38% |\n",
      " Correct in 15 not 5: 91.45% |\n",
      " Has Prediction and is Correct: 78.20% |\n",
      " Incorrect Proportion: 21.79% |\n",
      " None Proportion: 0.06% |\n",
      " First Prediction: 61.37% |\n",
      " Average Success Freq: 0.33 |\n",
      " Average Fail Freq: 0.45 \n",
      "\n"
     ]
    },
    {
     "name": "stderr",
     "output_type": "stream",
     "text": [
      "                                                      \r"
     ]
    },
    {
     "name": "stdout",
     "output_type": "stream",
     "text": [
      "Non programmer session:\n",
      " Correct Proportion: 73.73% |\n",
      " Correct in 5 not 3: 79.43% |\n",
      " Correct in 15 not 5: 86.81% |\n",
      " Has Prediction and is Correct: 73.73% |\n",
      " Incorrect Proportion: 26.25% |\n",
      " None Proportion: 0.06% |\n",
      " First Prediction: 56.26% |\n",
      " Average Success Freq: 1.05 |\n",
      " Average Fail Freq: 1.41 \n",
      "\n"
     ]
    },
    {
     "name": "stderr",
     "output_type": "stream",
     "text": [
      "                                                       \r"
     ]
    },
    {
     "name": "stdout",
     "output_type": "stream",
     "text": [
      "Novice session:\n",
      " Correct Proportion: 81.99% |\n",
      " Correct in 5 not 3: 86.52% |\n",
      " Correct in 15 not 5: 93.84% |\n",
      " Has Prediction and is Correct: 81.99% |\n",
      " Incorrect Proportion: 18.00% |\n",
      " None Proportion: 0.05% |\n",
      " First Prediction: 62.96% |\n",
      " Average Success Freq: 0.34 |\n",
      " Average Fail Freq: 0.45 \n",
      "\n",
      "Accuracy predicting command 4 from commands 1 through 3:\n",
      "\n"
     ]
    },
    {
     "name": "stderr",
     "output_type": "stream",
     "text": [
      "                                                       \r"
     ]
    },
    {
     "name": "stdout",
     "output_type": "stream",
     "text": [
      "Scientist session:\n",
      " Correct Proportion: 78.10% |\n",
      " Correct in 5 not 3: 81.93% |\n",
      " Correct in 15 not 5: 87.07% |\n",
      " Has Prediction and is Correct: 78.10% |\n",
      " Incorrect Proportion: 21.71% |\n",
      " None Proportion: 0.90% |\n",
      " First Prediction: 64.45% |\n",
      " Average Success Freq: 0.21 |\n",
      " Average Fail Freq: 0.28 \n",
      "\n"
     ]
    },
    {
     "name": "stderr",
     "output_type": "stream",
     "text": [
      "                                                       \r"
     ]
    },
    {
     "name": "stdout",
     "output_type": "stream",
     "text": [
      "Experienced session:\n",
      " Correct Proportion: 82.71% |\n",
      " Correct in 5 not 3: 85.60% |\n",
      " Correct in 15 not 5: 89.38% |\n",
      " Has Prediction and is Correct: 82.71% |\n",
      " Incorrect Proportion: 17.13% |\n",
      " None Proportion: 0.92% |\n",
      " First Prediction: 69.74% |\n",
      " Average Success Freq: 0.34 |\n",
      " Average Fail Freq: 0.46 \n",
      "\n"
     ]
    },
    {
     "name": "stderr",
     "output_type": "stream",
     "text": [
      "                                                     \r"
     ]
    },
    {
     "name": "stdout",
     "output_type": "stream",
     "text": [
      "Non programmer session:\n",
      " Correct Proportion: 76.12% |\n",
      " Correct in 5 not 3: 81.14% |\n",
      " Correct in 15 not 5: 86.80% |\n",
      " Has Prediction and is Correct: 76.12% |\n",
      " Incorrect Proportion: 23.74% |\n",
      " None Proportion: 0.56% |\n",
      " First Prediction: 61.60% |\n",
      " Average Success Freq: 1.07 |\n",
      " Average Fail Freq: 1.43 \n",
      "\n"
     ]
    },
    {
     "name": "stderr",
     "output_type": "stream",
     "text": [
      "                                                       \r"
     ]
    },
    {
     "name": "stdout",
     "output_type": "stream",
     "text": [
      "Novice session:\n",
      " Correct Proportion: 85.99% |\n",
      " Correct in 5 not 3: 89.37% |\n",
      " Correct in 15 not 5: 93.93% |\n",
      " Has Prediction and is Correct: 85.99% |\n",
      " Incorrect Proportion: 13.96% |\n",
      " None Proportion: 0.38% |\n",
      " First Prediction: 68.33% |\n",
      " Average Success Freq: 0.34 |\n",
      " Average Fail Freq: 0.45 \n",
      "\n",
      "Accuracy predicting command 5 from commands 1 through 4:\n",
      "\n"
     ]
    },
    {
     "name": "stderr",
     "output_type": "stream",
     "text": [
      "                                                        \r"
     ]
    },
    {
     "name": "stdout",
     "output_type": "stream",
     "text": [
      "Scientist session:\n",
      " Correct Proportion: 37.39% |\n",
      " Correct in 5 not 3: 38.70% |\n",
      " Correct in 15 not 5: 39.66% |\n",
      " Has Prediction and is Correct: 37.39% |\n",
      " Incorrect Proportion: 57.59% |\n",
      " None Proportion: 8.02% |\n",
      " First Prediction: 30.21% |\n",
      " Average Success Freq: 0.21 |\n",
      " Average Fail Freq: 0.27 \n",
      "\n"
     ]
    },
    {
     "name": "stderr",
     "output_type": "stream",
     "text": [
      "                                                       \r"
     ]
    },
    {
     "name": "stdout",
     "output_type": "stream",
     "text": [
      "Experienced session:\n",
      " Correct Proportion: 43.29% |\n",
      " Correct in 5 not 3: 44.19% |\n",
      " Correct in 15 not 5: 44.92% |\n",
      " Has Prediction and is Correct: 43.29% |\n",
      " Incorrect Proportion: 52.45% |\n",
      " None Proportion: 7.52% |\n",
      " First Prediction: 35.60% |\n",
      " Average Success Freq: 0.35 |\n",
      " Average Fail Freq: 0.45 \n",
      "\n"
     ]
    },
    {
     "name": "stderr",
     "output_type": "stream",
     "text": [
      "                                                     \r"
     ]
    },
    {
     "name": "stdout",
     "output_type": "stream",
     "text": [
      "Non programmer session:\n",
      " Correct Proportion: 44.39% |\n",
      " Correct in 5 not 3: 46.24% |\n",
      " Correct in 15 not 5: 47.64% |\n",
      " Has Prediction and is Correct: 44.39% |\n",
      " Incorrect Proportion: 52.37% |\n",
      " None Proportion: 5.82% |\n",
      " First Prediction: 35.47% |\n",
      " Average Success Freq: 1.09 |\n",
      " Average Fail Freq: 1.41 \n",
      "\n"
     ]
    },
    {
     "name": "stderr",
     "output_type": "stream",
     "text": [
      "                                                       \r"
     ]
    },
    {
     "name": "stdout",
     "output_type": "stream",
     "text": [
      "Novice session:\n",
      " Correct Proportion: 68.38% |\n",
      " Correct in 5 not 3: 70.12% |\n",
      " Correct in 15 not 5: 71.78% |\n",
      " Has Prediction and is Correct: 68.38% |\n",
      " Incorrect Proportion: 30.61% |\n",
      " None Proportion: 3.20% |\n",
      " First Prediction: 54.41% |\n",
      " Average Success Freq: 0.34 |\n",
      " Average Fail Freq: 0.44 \n",
      "\n"
     ]
    }
   ],
   "source": [
    "for i in range(1, 5):\n",
    "    print(\"Accuracy predicting command {} from commands {} through {}:\\n\".format(i+1, 1, i))\n",
    "\n",
    "    print(\"Scientist session:\\n\", get_accuracy(science_session, graph_depth=i), '\\n')\n",
    "    print(\"Experienced session:\\n\", get_accuracy(experienced_session, graph_depth=i), '\\n')\n",
    "    print(\"Non programmer session:\\n\", get_accuracy(non_session, graph_depth=i), '\\n')\n",
    "    print(\"Novice session:\\n\", get_accuracy(novice_session, graph_depth=i), '\\n')"
   ]
  },
  {
   "cell_type": "markdown",
   "metadata": {},
   "source": [
    "Consolidated predicting next command. Graph depth of `-1` should accomplish this."
   ]
  },
  {
   "cell_type": "code",
   "execution_count": 17,
   "metadata": {},
   "outputs": [
    {
     "name": "stderr",
     "output_type": "stream",
     "text": [
      "                                                      \r"
     ]
    },
    {
     "name": "stdout",
     "output_type": "stream",
     "text": [
      "Correct Proportion: 59.32% |\n",
      " Correct in 5 not 3: 63.87% |\n",
      " Correct in 15 not 5: 71.45% |\n",
      " Has Prediction and is Correct: 59.32% |\n",
      " Incorrect Proportion: 39.57% |\n",
      " None Proportion: 2.71% |\n",
      " First Prediction: 44.68% |\n",
      " Average Success Freq: 69804 |\n",
      " Average Fail Freq: 77479\n"
     ]
    },
    {
     "name": "stderr",
     "output_type": "stream",
     "text": [
      "                                                      \r"
     ]
    },
    {
     "name": "stdout",
     "output_type": "stream",
     "text": [
      "Correct Proportion: 63.25% |\n",
      " Correct in 5 not 3: 67.22% |\n",
      " Correct in 15 not 5: 73.90% |\n",
      " Has Prediction and is Correct: 63.25% |\n",
      " Incorrect Proportion: 35.75% |\n",
      " None Proportion: 2.74% |\n",
      " First Prediction: 48.08% |\n",
      " Average Success Freq: 69131 |\n",
      " Average Fail Freq: 72145\n"
     ]
    },
    {
     "name": "stderr",
     "output_type": "stream",
     "text": [
      "                                                      \r"
     ]
    },
    {
     "name": "stdout",
     "output_type": "stream",
     "text": [
      "Correct Proportion: 64.40% |\n",
      " Correct in 5 not 3: 68.95% |\n",
      " Correct in 15 not 5: 75.78% |\n",
      " Has Prediction and is Correct: 64.40% |\n",
      " Incorrect Proportion: 35.02% |\n",
      " None Proportion: 1.64% |\n",
      " First Prediction: 48.39% |\n",
      " Average Success Freq: 81318 |\n",
      " Average Fail Freq: 86983\n"
     ]
    },
    {
     "name": "stderr",
     "output_type": "stream",
     "text": [
      "                                                      "
     ]
    },
    {
     "name": "stdout",
     "output_type": "stream",
     "text": [
      "Correct Proportion: 75.19% |\n",
      " Correct in 5 not 3: 78.62% |\n",
      " Correct in 15 not 5: 84.68% |\n",
      " Has Prediction and is Correct: 75.19% |\n",
      " Incorrect Proportion: 24.47% |\n",
      " None Proportion: 1.37% |\n",
      " First Prediction: 56.51% |\n",
      " Average Success Freq: 86806 |\n",
      " Average Fail Freq: 81448\n"
     ]
    },
    {
     "name": "stderr",
     "output_type": "stream",
     "text": [
      "\r"
     ]
    }
   ],
   "source": [
    "import os\n",
    "import csv\n",
    "\n",
    "dataset_names = [\"Science data\", \"Experienced data\", \"Non programmer data\", \"Novice data\"]\n",
    "datasets = [science_session, experienced_session, non_session, novice_session]\n",
    "\n",
    "for i in range(len(datasets)):\n",
    "    fail_frequencies = []\n",
    "    succeed_frequencies = []\n",
    "\n",
    "    print(get_accuracy(datasets[i], fail_frequencies=fail_frequencies, succeed_frequencies=succeed_frequencies, print_fails=True, graph_depth=-1))\n",
    "\n",
    "    os.makedirs(os.path.dirname(\"fails/frequencies_all/\" + dataset_names[i] + \".csv\"), exist_ok=True)\n",
    "    with open(\"fails/frequencies_all/\" + dataset_names[i] + \".csv\", \"w\", newline='') as file:\n",
    "        writer = csv.writer(file)\n",
    "        writer.writerow(fail_frequencies)\n",
    "\n",
    "    os.makedirs(os.path.dirname(\"successes/frequencies_all/\" + dataset_names[i] + \".csv\"), exist_ok=True)\n",
    "    with open(\"successes/frequencies_all/\" + dataset_names[i] + \".csv\", \"w\", newline='') as file:\n",
    "        writer = csv.writer(file)\n",
    "        writer.writerow(succeed_frequencies)\n"
   ]
  },
  {
   "cell_type": "markdown",
   "metadata": {},
   "source": [
    "Save files for all data"
   ]
  },
  {
   "cell_type": "code",
   "execution_count": 6,
   "metadata": {},
   "outputs": [
    {
     "name": "stderr",
     "output_type": "stream",
     "text": [
      "                                                       \r"
     ]
    }
   ],
   "source": [
    "import os\n",
    "import pprint\n",
    "\n",
    "pp = pprint.PrettyPrinter(indent=4)\n",
    "\n",
    "dataset_names = [\"Science data\", \"Experienced data\", \"Non programmer data\", \"Novice data\"]\n",
    "datasets = [science_session, experienced_session, non_session, novice_session]\n",
    "\n",
    "for i in range(len(datasets)):\n",
    "    for j in range (1, 5):\n",
    "        fail_list = []\n",
    "        succeed_list = []\n",
    "        correct_5_not_3 = []\n",
    "        correct_15_not_5 = []\n",
    "\n",
    "        get_accuracy(datasets[i], fail_list=fail_list, succeed_list=succeed_list, correct_5_not_3=correct_5_not_3, correct_15_not_5=correct_15_not_5, print_fails=True, graph_depth=j)\n",
    "\n",
    "        os.makedirs(os.path.dirname(\"fails/predicting_\" + str(j+1) + \"/\" + dataset_names[i] + \".txt\"), exist_ok=True)\n",
    "        with open(\"fails/predicting_\" + str(j+1) + \"/\" + dataset_names[i] + \".txt\", \"w\") as file:\n",
    "            file.write(pp.pformat(fail_list))\n",
    "\n",
    "        os.makedirs(os.path.dirname(\"successes/predicting_\" + str(j+1) + \"/\" + dataset_names[i] + \".txt\"), exist_ok=True)\n",
    "        with open(\"successes/predicting_\" + str(j+1) + \"/\" + dataset_names[i] + \".txt\", \"w\") as file:\n",
    "            file.write(pp.pformat(succeed_list))\n",
    "\n",
    "        os.makedirs(os.path.dirname(\"correct_5_not_3/predicting_\" + str(j+1) + \"/\" + dataset_names[i] + \".txt\"), exist_ok=True)\n",
    "        with open(\"correct_5_not_3/predicting_\" + str(j+1) + \"/\" + dataset_names[i] + \".txt\", \"w\") as file:\n",
    "            file.write(pp.pformat(correct_5_not_3))\n",
    "\n",
    "        os.makedirs(os.path.dirname(\"correct_15_not_5/predicting_\" + str(j+1) + \"/\" + dataset_names[i] + \".txt\"), exist_ok=True)\n",
    "        with open(\"correct_15_not_5/predicting_\" + str(j+1) + \"/\" + dataset_names[i] + \".txt\", \"w\") as file:\n",
    "            file.write(pp.pformat(correct_15_not_5))\n"
   ]
  },
  {
   "cell_type": "markdown",
   "metadata": {},
   "source": [
    "Save frequencies for successes and failures to CSV"
   ]
  },
  {
   "cell_type": "code",
   "execution_count": 14,
   "metadata": {},
   "outputs": [
    {
     "name": "stderr",
     "output_type": "stream",
     "text": [
      "                                                        \r"
     ]
    }
   ],
   "source": [
    "import os\n",
    "import csv\n",
    "\n",
    "dataset_names = [\"Science data\", \"Experienced data\", \"Non programmer data\", \"Novice data\"]\n",
    "datasets = [science_session, experienced_session, non_session, novice_session]\n",
    "\n",
    "for i in range(len(datasets)):\n",
    "    for j in range (1, 5):\n",
    "        fail_frequencies = []\n",
    "        succeed_frequencies = []\n",
    "\n",
    "        get_accuracy(datasets[i], fail_frequencies=fail_frequencies, succeed_frequencies=succeed_frequencies, print_fails=True, graph_depth=j)\n",
    "\n",
    "        os.makedirs(os.path.dirname(\"fails/frequencies_\" + str(j+1) + \"/\" + dataset_names[i] + \".csv\"), exist_ok=True)\n",
    "        with open(\"fails/frequencies_\" + str(j+1) + \"/\" + dataset_names[i] + \".csv\", \"w\", newline='') as file:\n",
    "            writer = csv.writer(file)\n",
    "            writer.writerow(fail_frequencies)\n",
    "\n",
    "        os.makedirs(os.path.dirname(\"successes/frequencies_\" + str(j+1) + \"/\" + dataset_names[i] + \".csv\"), exist_ok=True)\n",
    "        with open(\"successes/frequencies_\" + str(j+1) + \"/\" + dataset_names[i] + \".csv\", \"w\", newline='') as file:\n",
    "            writer = csv.writer(file)\n",
    "            writer.writerow(succeed_frequencies)\n"
   ]
  },
  {
   "cell_type": "markdown",
   "metadata": {},
   "source": [
    "Sampled Commands Parse and Replace Args"
   ]
  },
  {
   "cell_type": "code",
   "execution_count": 25,
   "metadata": {},
   "outputs": [
    {
     "name": "stderr",
     "output_type": "stream",
     "text": [
      "100%|██████████| 10/10 [00:03<00:00,  3.20it/s]\n",
      "100%|██████████| 7/7 [00:02<00:00,  3.25it/s]\n",
      "100%|██████████| 5/5 [00:00<00:00,  9.45it/s]\n",
      "100%|██████████| 11/11 [00:02<00:00,  3.73it/s]\n"
     ]
    }
   ],
   "source": [
    "from random import sample\n",
    "import math\n",
    "\n",
    "subset_size = 5\n",
    "\n",
    "science_session_sample = parser.parse_commands_per_session(sample(parser.scientists_files, math.floor(0.2 * len(parser.scientists_files))))\n",
    "science_session_sample = parser.parse_commands_into_subsets_sliding_window(science_session_sample, subset_size)\n",
    "science_session_sample = parser.replace_args_nested(science_session_sample)\n",
    "\n",
    "experienced_session_sample = parser.parse_commands_per_session(sample(parser.experienced_files, math.floor(0.2 * len(parser.experienced_files))))\n",
    "experienced_session_sample = parser.parse_commands_into_subsets_sliding_window(experienced_session_sample, subset_size)\n",
    "experienced_session_sample = parser.replace_args_nested(experienced_session_sample)\n",
    "\n",
    "non_session_sample = parser.parse_commands_per_session(sample(parser.non_programmers_files, math.floor(0.2 * len(parser.non_programmers_files))))\n",
    "non_session_sample = parser.parse_commands_into_subsets_sliding_window(non_session_sample, subset_size)\n",
    "non_session_sample = parser.replace_args_nested(non_session_sample)\n",
    "\n",
    "novice_session_sample = parser.parse_commands_per_session(sample(parser.novice_files, math.floor(0.2 * len(parser.novice_files))))\n",
    "novice_session_sample = parser.parse_commands_into_subsets_sliding_window(novice_session_sample, subset_size)\n",
    "novice_session_sample = parser.replace_args_nested(novice_session_sample)"
   ]
  },
  {
   "cell_type": "markdown",
   "metadata": {},
   "source": [
    "Accuracy predicting N+1 command from N commands with subset of data"
   ]
  },
  {
   "cell_type": "code",
   "execution_count": 34,
   "metadata": {},
   "outputs": [
    {
     "name": "stdout",
     "output_type": "stream",
     "text": [
      "Accuracy Predicting Command 2 from commands 1 through 1:\n",
      "\n"
     ]
    },
    {
     "name": "stderr",
     "output_type": "stream",
     "text": [
      "                                                      \r"
     ]
    },
    {
     "name": "stdout",
     "output_type": "stream",
     "text": [
      "Scientist session sample:\n",
      " Correct Proportion: 62.75% |\n",
      " Correct in 5 not 3: 69.17% |\n",
      " Correct in 15 not 5: 82.97% |\n",
      " Has Prediction and is Correct: 62.75% |\n",
      " Incorrect Proportion: 37.25% |\n",
      " None Proportion: 0.00% |\n",
      " First Prediction: 45.99% |\n",
      " Average Success Freq: 0.41 |\n",
      " Average Fail Freq: 0.74\n"
     ]
    },
    {
     "name": "stderr",
     "output_type": "stream",
     "text": [
      "                                                      \r"
     ]
    },
    {
     "name": "stdout",
     "output_type": "stream",
     "text": [
      "Experienced session sample:\n",
      " Correct Proportion: 65.86% |\n",
      " Correct in 5 not 3: 73.60% |\n",
      " Correct in 15 not 5: 86.97% |\n",
      " Has Prediction and is Correct: 65.86% |\n",
      " Incorrect Proportion: 34.14% |\n",
      " None Proportion: 0.00% |\n",
      " First Prediction: 45.30% |\n",
      " Average Success Freq: 0.63 |\n",
      " Average Fail Freq: 1.09\n"
     ]
    },
    {
     "name": "stderr",
     "output_type": "stream",
     "text": [
      "                                                   \r"
     ]
    },
    {
     "name": "stdout",
     "output_type": "stream",
     "text": [
      "Non programmer session sample:\n",
      " Correct Proportion: 59.77% |\n",
      " Correct in 5 not 3: 68.18% |\n",
      " Correct in 15 not 5: 83.48% |\n",
      " Has Prediction and is Correct: 59.77% |\n",
      " Incorrect Proportion: 40.23% |\n",
      " None Proportion: 0.00% |\n",
      " First Prediction: 41.34% |\n",
      " Average Success Freq: 3.59 |\n",
      " Average Fail Freq: 6.32\n"
     ]
    },
    {
     "name": "stderr",
     "output_type": "stream",
     "text": [
      "                                                      \r"
     ]
    },
    {
     "name": "stdout",
     "output_type": "stream",
     "text": [
      "Novice session sample:\n",
      " Correct Proportion: 70.98% |\n",
      " Correct in 5 not 3: 77.40% |\n",
      " Correct in 15 not 5: 87.91% |\n",
      " Has Prediction and is Correct: 70.98% |\n",
      " Incorrect Proportion: 29.01% |\n",
      " None Proportion: 0.01% |\n",
      " First Prediction: 46.98% |\n",
      " Average Success Freq: 0.51 |\n",
      " Average Fail Freq: 0.86\n",
      "Accuracy Predicting Command 3 from commands 1 through 2:\n",
      "\n"
     ]
    },
    {
     "name": "stderr",
     "output_type": "stream",
     "text": [
      "                                                      \r"
     ]
    },
    {
     "name": "stdout",
     "output_type": "stream",
     "text": [
      "Scientist session sample:\n",
      " Correct Proportion: 80.30% |\n",
      " Correct in 5 not 3: 86.25% |\n",
      " Correct in 15 not 5: 94.55% |\n",
      " Has Prediction and is Correct: 80.30% |\n",
      " Incorrect Proportion: 19.70% |\n",
      " None Proportion: 0.00% |\n",
      " First Prediction: 62.99% |\n",
      " Average Success Freq: 0.46 |\n",
      " Average Fail Freq: 0.78\n"
     ]
    },
    {
     "name": "stderr",
     "output_type": "stream",
     "text": [
      "                                                    \r"
     ]
    },
    {
     "name": "stdout",
     "output_type": "stream",
     "text": [
      "Experienced session sample:\n",
      " Correct Proportion: 84.59% |\n",
      " Correct in 5 not 3: 89.68% |\n",
      " Correct in 15 not 5: 96.49% |\n",
      " Has Prediction and is Correct: 84.59% |\n",
      " Incorrect Proportion: 15.41% |\n",
      " None Proportion: 0.00% |\n",
      " First Prediction: 64.71% |\n",
      " Average Success Freq: 0.66 |\n",
      " Average Fail Freq: 1.13\n"
     ]
    },
    {
     "name": "stderr",
     "output_type": "stream",
     "text": [
      "                                                    \r"
     ]
    },
    {
     "name": "stdout",
     "output_type": "stream",
     "text": [
      "Non programmer session sample:\n",
      " Correct Proportion: 75.08% |\n",
      " Correct in 5 not 3: 81.99% |\n",
      " Correct in 15 not 5: 91.57% |\n",
      " Has Prediction and is Correct: 75.08% |\n",
      " Incorrect Proportion: 24.92% |\n",
      " None Proportion: 0.00% |\n",
      " First Prediction: 57.07% |\n",
      " Average Success Freq: 3.75 |\n",
      " Average Fail Freq: 6.43\n"
     ]
    },
    {
     "name": "stderr",
     "output_type": "stream",
     "text": [
      "                                                      \r"
     ]
    },
    {
     "name": "stdout",
     "output_type": "stream",
     "text": [
      "Novice session sample:\n",
      " Correct Proportion: 81.68% |\n",
      " Correct in 5 not 3: 87.11% |\n",
      " Correct in 15 not 5: 94.29% |\n",
      " Has Prediction and is Correct: 81.68% |\n",
      " Incorrect Proportion: 18.32% |\n",
      " None Proportion: 0.00% |\n",
      " First Prediction: 63.41% |\n",
      " Average Success Freq: 0.51 |\n",
      " Average Fail Freq: 0.85\n",
      "Accuracy Predicting Command 4 from commands 1 through 3:\n",
      "\n"
     ]
    },
    {
     "name": "stderr",
     "output_type": "stream",
     "text": [
      "                                                     \r"
     ]
    },
    {
     "name": "stdout",
     "output_type": "stream",
     "text": [
      "Scientist session sample:\n",
      " Correct Proportion: 90.65% |\n",
      " Correct in 5 not 3: 94.06% |\n",
      " Correct in 15 not 5: 97.71% |\n",
      " Has Prediction and is Correct: 90.65% |\n",
      " Incorrect Proportion: 9.35% |\n",
      " None Proportion: 0.00% |\n",
      " First Prediction: 77.05% |\n",
      " Average Success Freq: 0.45 |\n",
      " Average Fail Freq: 0.77\n"
     ]
    },
    {
     "name": "stderr",
     "output_type": "stream",
     "text": [
      "                                                     \r"
     ]
    },
    {
     "name": "stdout",
     "output_type": "stream",
     "text": [
      "Experienced session sample:\n",
      " Correct Proportion: 92.92% |\n",
      " Correct in 5 not 3: 95.41% |\n",
      " Correct in 15 not 5: 98.38% |\n",
      " Has Prediction and is Correct: 92.92% |\n",
      " Incorrect Proportion: 7.08% |\n",
      " None Proportion: 0.02% |\n",
      " First Prediction: 80.81% |\n",
      " Average Success Freq: 0.65 |\n",
      " Average Fail Freq: 1.12\n"
     ]
    },
    {
     "name": "stderr",
     "output_type": "stream",
     "text": [
      "                                                   \r"
     ]
    },
    {
     "name": "stdout",
     "output_type": "stream",
     "text": [
      "Non programmer session sample:\n",
      " Correct Proportion: 83.77% |\n",
      " Correct in 5 not 3: 90.21% |\n",
      " Correct in 15 not 5: 96.78% |\n",
      " Has Prediction and is Correct: 83.77% |\n",
      " Incorrect Proportion: 16.23% |\n",
      " None Proportion: 0.00% |\n",
      " First Prediction: 65.63% |\n",
      " Average Success Freq: 3.68 |\n",
      " Average Fail Freq: 6.36\n"
     ]
    },
    {
     "name": "stderr",
     "output_type": "stream",
     "text": [
      "                                                     \r"
     ]
    },
    {
     "name": "stdout",
     "output_type": "stream",
     "text": [
      "Novice session sample:\n",
      " Correct Proportion: 90.72% |\n",
      " Correct in 5 not 3: 93.81% |\n",
      " Correct in 15 not 5: 97.99% |\n",
      " Has Prediction and is Correct: 90.72% |\n",
      " Incorrect Proportion: 9.28% |\n",
      " None Proportion: 0.04% |\n",
      " First Prediction: 72.93% |\n",
      " Average Success Freq: 0.49 |\n",
      " Average Fail Freq: 0.85\n",
      "Accuracy Predicting Command 5 from commands 1 through 4:\n",
      "\n"
     ]
    },
    {
     "name": "stderr",
     "output_type": "stream",
     "text": [
      "                                                     \r"
     ]
    },
    {
     "name": "stdout",
     "output_type": "stream",
     "text": [
      "Scientist session sample:\n",
      " Correct Proportion: 79.13% |\n",
      " Correct in 5 not 3: 80.96% |\n",
      " Correct in 15 not 5: 83.09% |\n",
      " Has Prediction and is Correct: 79.13% |\n",
      " Incorrect Proportion: 20.77% |\n",
      " None Proportion: 0.50% |\n",
      " First Prediction: 69.57% |\n",
      " Average Success Freq: 0.44 |\n",
      " Average Fail Freq: 0.76\n"
     ]
    },
    {
     "name": "stderr",
     "output_type": "stream",
     "text": [
      "                                                     \r"
     ]
    },
    {
     "name": "stdout",
     "output_type": "stream",
     "text": [
      "Experienced session sample:\n",
      " Correct Proportion: 81.25% |\n",
      " Correct in 5 not 3: 82.65% |\n",
      " Correct in 15 not 5: 83.65% |\n",
      " Has Prediction and is Correct: 81.25% |\n",
      " Incorrect Proportion: 18.72% |\n",
      " None Proportion: 0.16% |\n",
      " First Prediction: 72.56% |\n",
      " Average Success Freq: 0.64 |\n",
      " Average Fail Freq: 1.09\n"
     ]
    },
    {
     "name": "stderr",
     "output_type": "stream",
     "text": [
      "                                       \r"
     ]
    },
    {
     "name": "stdout",
     "output_type": "stream",
     "text": [
      "Non programmer session sample:\n",
      " Correct Proportion: 78.09% |\n",
      " Correct in 5 not 3: 81.61% |\n",
      " Correct in 15 not 5: 85.89% |\n",
      " Has Prediction and is Correct: 78.09% |\n",
      " Incorrect Proportion: 21.80% |\n",
      " None Proportion: 0.50% |\n",
      " First Prediction: 63.16% |\n",
      " Average Success Freq: 3.63 |\n",
      " Average Fail Freq: 6.20\n"
     ]
    },
    {
     "name": "stderr",
     "output_type": "stream",
     "text": [
      "                                                     "
     ]
    },
    {
     "name": "stdout",
     "output_type": "stream",
     "text": [
      "Novice session sample:\n",
      " Correct Proportion: 84.80% |\n",
      " Correct in 5 not 3: 87.42% |\n",
      " Correct in 15 not 5: 90.10% |\n",
      " Has Prediction and is Correct: 84.80% |\n",
      " Incorrect Proportion: 15.17% |\n",
      " None Proportion: 0.18% |\n",
      " First Prediction: 69.14% |\n",
      " Average Success Freq: 0.49 |\n",
      " Average Fail Freq: 0.83\n"
     ]
    },
    {
     "name": "stderr",
     "output_type": "stream",
     "text": [
      "\r"
     ]
    }
   ],
   "source": [
    "for i in range(1, 5):\n",
    "    print(\"Accuracy Predicting Command {} from commands {} through {}:\\n\".format(i+1, 1, i))\n",
    "\n",
    "    print(\"Scientist session sample:\\n\", get_accuracy(science_session_sample, graph_depth=i))\n",
    "    print(\"Experienced session sample:\\n\", get_accuracy(experienced_session_sample, graph_depth=i))\n",
    "    print(\"Non programmer session sample:\\n\", get_accuracy(non_session_sample, graph_depth=i))\n",
    "    print(\"Novice session sample:\\n\", get_accuracy(novice_session_sample, graph_depth=i))"
   ]
  },
  {
   "cell_type": "markdown",
   "metadata": {},
   "source": [
    "Predict N from 1..n-1 in samples"
   ]
  },
  {
   "cell_type": "code",
   "execution_count": 33,
   "metadata": {},
   "outputs": [
    {
     "name": "stderr",
     "output_type": "stream",
     "text": [
      "                                                      \r"
     ]
    },
    {
     "name": "stdout",
     "output_type": "stream",
     "text": [
      "Scientist session sample:\n",
      " Correct Proportion: 77.59% |\n",
      " Correct in 5 not 3: 82.15% |\n",
      " Correct in 15 not 5: 89.06% |\n",
      " Has Prediction and is Correct: 77.59% |\n",
      " Incorrect Proportion: 22.38% |\n",
      " None Proportion: 0.12% |\n",
      " First Prediction: 63.68% |\n",
      " Average Success Freq: 0.35 |\n",
      " Average Fail Freq: 0.68\n"
     ]
    },
    {
     "name": "stderr",
     "output_type": "stream",
     "text": [
      "                                                      \r"
     ]
    },
    {
     "name": "stdout",
     "output_type": "stream",
     "text": [
      "Experienced session sample:\n",
      " Correct Proportion: 80.30% |\n",
      " Correct in 5 not 3: 84.65% |\n",
      " Correct in 15 not 5: 91.14% |\n",
      " Has Prediction and is Correct: 80.30% |\n",
      " Incorrect Proportion: 19.69% |\n",
      " None Proportion: 0.05% |\n",
      " First Prediction: 65.05% |\n",
      " Average Success Freq: 0.52 |\n",
      " Average Fail Freq: 0.95\n"
     ]
    },
    {
     "name": "stderr",
     "output_type": "stream",
     "text": [
      "                                                    \r"
     ]
    },
    {
     "name": "stdout",
     "output_type": "stream",
     "text": [
      "Non programmer session sample:\n",
      " Correct Proportion: 71.33% |\n",
      " Correct in 5 not 3: 77.58% |\n",
      " Correct in 15 not 5: 88.24% |\n",
      " Has Prediction and is Correct: 71.33% |\n",
      " Incorrect Proportion: 28.64% |\n",
      " None Proportion: 0.11% |\n",
      " First Prediction: 54.21% |\n",
      " Average Success Freq: 2.95 |\n",
      " Average Fail Freq: 5.43\n"
     ]
    },
    {
     "name": "stderr",
     "output_type": "stream",
     "text": [
      "                                                      "
     ]
    },
    {
     "name": "stdout",
     "output_type": "stream",
     "text": [
      "Novice session sample:\n",
      " Correct Proportion: 81.20% |\n",
      " Correct in 5 not 3: 85.48% |\n",
      " Correct in 15 not 5: 91.90% |\n",
      " Has Prediction and is Correct: 81.20% |\n",
      " Incorrect Proportion: 18.79% |\n",
      " None Proportion: 0.06% |\n",
      " First Prediction: 62.20% |\n",
      " Average Success Freq: 0.40 |\n",
      " Average Fail Freq: 0.69\n"
     ]
    },
    {
     "name": "stderr",
     "output_type": "stream",
     "text": [
      "\r"
     ]
    }
   ],
   "source": [
    "i=-1\n",
    "\n",
    "print(\"Scientist session sample:\\n\", get_accuracy(science_session_sample, graph_depth=i))\n",
    "print(\"Experienced session sample:\\n\", get_accuracy(experienced_session_sample, graph_depth=i))\n",
    "print(\"Non programmer session sample:\\n\", get_accuracy(non_session_sample, graph_depth=i))\n",
    "print(\"Novice session sample:\\n\", get_accuracy(novice_session_sample, graph_depth=i))"
   ]
  },
  {
   "cell_type": "markdown",
   "metadata": {},
   "source": [
    "Expand pipes and replace args"
   ]
  },
  {
   "cell_type": "code",
   "execution_count": 39,
   "metadata": {},
   "outputs": [],
   "source": [
    "science = parser.filter_commands_with_pipe(parser.scientists_commands)\n",
    "experienced = parser.filter_commands_with_pipe(parser.experienced_commands)\n",
    "non = parser.filter_commands_with_pipe(parser.non_programmers_commands)\n",
    "novice = parser.filter_commands_with_pipe(parser.novice_commands)\n",
    "\n",
    "science_pipes = parser.expand_piped_commands(science)\n",
    "experienced_pipes = parser.expand_piped_commands(experienced)\n",
    "non_pipes = parser.expand_piped_commands(non)\n",
    "novice_pipes = parser.expand_piped_commands(novice)\n",
    "\n",
    "science_pipes_expand = parser.replace_arg_expanded_pipe(science_pipes)\n",
    "experienced_pipes_expand = parser.replace_arg_expanded_pipe(experienced_pipes)\n",
    "non_pipes_expand = parser.replace_arg_expanded_pipe(non_pipes)\n",
    "novice_pipes_expand = parser.replace_arg_expanded_pipe(novice_pipes)"
   ]
  },
  {
   "cell_type": "code",
   "execution_count": 127,
   "metadata": {},
   "outputs": [
    {
     "name": "stdout",
     "output_type": "stream",
     "text": [
      "[]\n"
     ]
    },
    {
     "name": "stderr",
     "output_type": "stream",
     "text": [
      "                                       \r"
     ]
    },
    {
     "name": "stdout",
     "output_type": "stream",
     "text": [
      "Science pipes metrics:\n",
      " Correct Proportion: 84.50% |\n",
      " Correct in 5 not 3: 87.34% |\n",
      " Correct in 15 not 5: 92.36% |\n",
      " Has Prediction and is Correct: 84.50% |\n",
      " Incorrect Proportion: 14.95% |\n",
      " None Proportion: 3.58% |\n",
      " First Prediction: 66.95% |\n",
      " Average Success Freq: 0.05 |\n",
      " Average Fail Freq: 0.06 \n",
      "\n"
     ]
    },
    {
     "name": "stderr",
     "output_type": "stream",
     "text": [
      "                                       \r"
     ]
    },
    {
     "name": "stdout",
     "output_type": "stream",
     "text": [
      "Experienced pipes metrics:\n",
      " Correct Proportion: 86.98% |\n",
      " Correct in 5 not 3: 93.02% |\n",
      " Correct in 15 not 5: 95.81% |\n",
      " Has Prediction and is Correct: 86.98% |\n",
      " Incorrect Proportion: 12.79% |\n",
      " None Proportion: 1.83% |\n",
      " First Prediction: 74.43% |\n",
      " Average Success Freq: 0.15 |\n",
      " Average Fail Freq: 0.14 \n",
      "\n"
     ]
    },
    {
     "name": "stderr",
     "output_type": "stream",
     "text": [
      "                                                   \r"
     ]
    },
    {
     "name": "stdout",
     "output_type": "stream",
     "text": [
      "Non programmers pipes metrics:\n",
      " Correct Proportion: 92.01% |\n",
      " Correct in 5 not 3: 93.37% |\n",
      " Correct in 15 not 5: 96.49% |\n",
      " Has Prediction and is Correct: 92.01% |\n",
      " Incorrect Proportion: 7.99% |\n",
      " None Proportion: 0.00% |\n",
      " First Prediction: 77.19% |\n",
      " Average Success Freq: 0.24 |\n",
      " Average Fail Freq: 0.15 \n",
      "\n"
     ]
    },
    {
     "name": "stderr",
     "output_type": "stream",
     "text": [
      "                                      "
     ]
    },
    {
     "name": "stdout",
     "output_type": "stream",
     "text": [
      "Novice pipes metrics:\n",
      " Correct Proportion: 90.48% |\n",
      " Correct in 5 not 3: 92.86% |\n",
      " Correct in 15 not 5: 95.24% |\n",
      " Has Prediction and is Correct: 90.48% |\n",
      " Incorrect Proportion: 9.09% |\n",
      " None Proportion: 4.55% |\n",
      " First Prediction: 52.27% |\n",
      " Average Success Freq: 2.82 |\n",
      " Average Fail Freq: 1.77 \n",
      "\n"
     ]
    },
    {
     "name": "stderr",
     "output_type": "stream",
     "text": [
      "\r"
     ]
    }
   ],
   "source": [
    "print(\"Science pipes metrics:\\n\", get_accuracy(science_pipes_expand), \"\\n\")\n",
    "print(\"Experienced pipes metrics:\\n\", get_accuracy(experienced_pipes_expand), \"\\n\")\n",
    "print(\"Non programmers pipes metrics:\\n\", get_accuracy(non_pipes_expand), \"\\n\")\n",
    "print(\"Novice pipes metrics:\\n\", get_accuracy(novice_pipes_expand), \"\\n\")"
   ]
  }
 ],
 "metadata": {
  "interpreter": {
   "hash": "d6a02243acaf6442a8dfab70d4c1e9169b9d22808d9e1a1dd816394099b97fa0"
  },
  "kernelspec": {
   "display_name": "Python 3.9.10 ('venv': venv)",
   "language": "python",
   "name": "python3"
  },
  "language_info": {
   "codemirror_mode": {
    "name": "ipython",
    "version": 3
   },
   "file_extension": ".py",
   "mimetype": "text/x-python",
   "name": "python",
   "nbconvert_exporter": "python",
   "pygments_lexer": "ipython3",
   "version": "3.9.12"
  },
  "orig_nbformat": 4
 },
 "nbformat": 4,
 "nbformat_minor": 2
}
