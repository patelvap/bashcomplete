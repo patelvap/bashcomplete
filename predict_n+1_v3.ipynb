{
 "cells": [
  {
   "cell_type": "markdown",
   "metadata": {},
   "source": [
    "Notebook to predict N+1 command where N is 1..4 and command sets can be up to len 5"
   ]
  },
  {
   "cell_type": "markdown",
   "metadata": {},
   "source": [
    "Construct Graph Function"
   ]
  },
  {
   "cell_type": "code",
   "execution_count": 1,
   "metadata": {},
   "outputs": [],
   "source": [
    "from graph import Node\n",
    "\n",
    "def construct_graph(command_list, command_dict={}):\n",
    "\n",
    "    filter_empty = lambda x: (len(x) > 0)\n",
    "    cur_node = None\n",
    "    child_node = None\n",
    "    \n",
    "    for session in command_list:\n",
    "        # remove commands of length 0 ( not good to modify list within loop )\n",
    "        \n",
    "        session = list(filter(filter_empty, session))\n",
    "\n",
    "        try: \n",
    "            first_cmd = session[0]\n",
    "        except Exception as inst:\n",
    "            print(session)\n",
    "            continue\n",
    "\n",
    "        program = session[0].split()[0]\n",
    "\n",
    "        if command_dict.get(program) is None:\n",
    "            cur_node = Node(program=program, frequency=1)\n",
    "            command_dict[program] = cur_node \n",
    "        else:\n",
    "            cur_node = command_dict.get(program)\n",
    "            cur_node.frequency += 1\n",
    "\n",
    "        if cur_node.commands.get(first_cmd) is None:\n",
    "            cur_node.commands[first_cmd] = 1\n",
    "        else:\n",
    "            cur_node.commands[first_cmd] += 1\n",
    "\n",
    "        for cmd in range(1, len(session)):\n",
    "\n",
    "            if session[cmd].isprintable() is False:\n",
    "                break\n",
    "            else:\n",
    "                program = session[cmd].split()[0]\n",
    "\n",
    "            if cur_node.children.get(program) is None:\n",
    "                child_node = Node(program = program, frequency=1)\n",
    "                cur_node.children[program] = child_node\n",
    "            else:\n",
    "                child_node = cur_node.children.get(program)\n",
    "                child_node.frequency += 1\n",
    "            \n",
    "            if child_node.commands.get(session[cmd]) is None:\n",
    "                child_node.commands[session[cmd]] = 1\n",
    "            else:\n",
    "                child_node.commands[session[cmd]] += 1\n",
    "            \n",
    "            cur_node = child_node\n",
    "        \n",
    "                \n",
    "        \n",
    "    return command_dict\n"
   ]
  },
  {
   "cell_type": "markdown",
   "metadata": {},
   "source": [
    "Get Prediction Function"
   ]
  },
  {
   "cell_type": "code",
   "execution_count": 16,
   "metadata": {},
   "outputs": [],
   "source": [
    "def get_prediction(command_list: list[str], graph, result_size=5, graph_depth=4):\n",
    "    if len(command_list) == 0:\n",
    "        return None\n",
    "\n",
    "    commands = command_list[:graph_depth]\n",
    "    # should be labeled last command\n",
    "    last_command = command_list[graph_depth]\n",
    "\n",
    "    if len(commands) == 0:\n",
    "        return None, [-1]\n",
    "\n",
    "    program = commands[0].split()[0]\n",
    "\n",
    "    frequencies = []\n",
    "    \n",
    "    if graph.get(program) is None:\n",
    "        frequencies.append(-1)\n",
    "        return None, frequencies\n",
    "    else:\n",
    "        node = graph[program]\n",
    "        frequencies.append(node.frequency)\n",
    "\n",
    "    for command in commands[1:]:\n",
    "        program = command.split()[0]\n",
    "        if node.children.get(program) is not None:\n",
    "            node = node.children[program]\n",
    "            frequencies.append(node.frequency)\n",
    "        else:\n",
    "            frequencies.append(-1)\n",
    "            return None, frequencies\n",
    "    \n",
    "    # last frequency if it has it\n",
    "    next_program = last_command.split()[0]\n",
    "\n",
    "    if node.children.get(next_program) is not None:\n",
    "        frequencies.append(node.children[next_program].frequency)\n",
    "    else:\n",
    "        frequencies.append(-1)\n",
    "    \n",
    "    return node.get_prediction(previous_command=last_command, num_to_return=result_size), frequencies"
   ]
  },
  {
   "cell_type": "markdown",
   "metadata": {},
   "source": [
    "Accuracy Function"
   ]
  },
  {
   "cell_type": "code",
   "execution_count": null,
   "metadata": {},
   "outputs": [],
   "source": [
    "from thefuzz import fuzz\n",
    "from thefuzz import process\n",
    "\n",
    "from statistics import mean\n",
    "\n",
    "from tqdm import tqdm\n",
    "\n",
    "from sklearn.model_selection import train_test_split\n",
    "\n",
    "import pprint\n",
    "pp = pprint.PrettyPrinter(indent=4)\n",
    "\n",
    "def append_list(lst, results, commands, graph_depth):\n",
    "    lst.append({\"Results\": results, \"Expected\": commands[graph_depth], \"Command Sequence\": commands})\n",
    "\n",
    "def get_accuracy(command_subsets, fail_list = [], fail_frequencies= [], succeed_list = [], succeed_frequencies = [], correct_5_not_3= [], correct_15_not_5 = [], print_fails=False, graph_depth=4):\n",
    "    train_data, test_data = train_test_split(command_subsets, test_size=0.2, train_size=0.8, random_state=42)\n",
    "\n",
    "    train_graph = construct_graph(train_data)\n",
    "\n",
    "    # filter out nodes that can't get prediction because not enough length so don't contribute and will cause error\n",
    "    if (graph_depth != -1):\n",
    "        test_data = [x for x in test_data if len(x) > graph_depth]\n",
    "    test_size = len(test_data)\n",
    "\n",
    "    return_3 = 3\n",
    "    return_5 = 5\n",
    "    return_15 = 15\n",
    "\n",
    "    correct = 0\n",
    "    correct_with_5 = 0\n",
    "    correct_with_15 = 0\n",
    "    first_prediction = 0\n",
    "    has_prediction = 0\n",
    "    incorrect = 0\n",
    "    none_count = 0\n",
    "\n",
    "    for commands in tqdm(test_data, leave=False):\n",
    "        results_3, frequencies = get_prediction(commands, train_graph, return_3, graph_depth)\n",
    "        results_5, _ = get_prediction(commands, train_graph, return_5, graph_depth)\n",
    "        results_15, _ = get_prediction(commands, train_graph, return_15, graph_depth)\n",
    "\n",
    "        command_freq = [(commands[i], frequencies[i]) for i in range(len(frequencies))]\n",
    "        \n",
    "        prev_correct = correct\n",
    "        prev5_correct =  correct_with_5\n",
    "\n",
    "        if results_3 is not None:\n",
    "            has_prediction += 1\n",
    "\n",
    "            for i in range(len(results_3)):\n",
    "                if fuzz.ratio(results_3[i][0], commands[graph_depth]) > 85:\n",
    "                    correct += 1\n",
    "\n",
    "                    succeed_frequencies.append(mean(frequencies))\n",
    "\n",
    "                    if correct <= 100:\n",
    "                        append_list(succeed_list, results_5, command_freq, graph_depth)\n",
    "\n",
    "                    if i == 0:\n",
    "                        first_prediction += 1\n",
    "                \n",
    "                    break\n",
    "\n",
    "            if prev_correct == correct:\n",
    "                fail_frequencies.append(mean(frequencies))\n",
    "                incorrect += 1\n",
    "\n",
    "            for i in range(len(results_5)):\n",
    "                if fuzz.ratio(results_5[i][0], commands[graph_depth]) > 85:\n",
    "                    correct_with_5 += 1\n",
    "\n",
    "                    if correct_with_5 - correct <= 100 and prev_correct == correct:\n",
    "                        append_list(correct_5_not_3, results_5, command_freq, graph_depth)\n",
    "\n",
    "                    break\n",
    "\n",
    "            for i in range(len(results_15)):\n",
    "                if fuzz.ratio(results_15[i][0], commands[graph_depth]) > 85:\n",
    "                    correct_with_15 += 1\n",
    "\n",
    "                    if correct_with_15 - correct <= 100 and prev5_correct == correct_with_5:\n",
    "                        append_list(correct_15_not_5, results_15, command_freq, graph_depth)\n",
    "\n",
    "                    break\n",
    "\n",
    "        else:\n",
    "            none_count += 1\n",
    "\n",
    "        if results_5 is not None and prev_correct == correct and print_fails:\n",
    "            append_list(fail_list, results_5, command_freq, graph_depth)  \n",
    "                      \n",
    "    return 'Correct Proportion: {:.2f}% |\\n Correct in 5 not 3: {:.2f}% |\\n Correct in 15 not 5: {:.2f}% |\\n Has Prediction and is Correct: {:.2f}% |\\n Incorrect Proportion: {:.2f}% |\\n None Proportion: {:.2f}% |\\n First Prediction: {:.2f}% |\\n Average Success Freq: {:.0f} |\\n Average Fail Freq: {:.0f}'.format(100 * correct/(test_size-none_count), 100 * correct_with_5/(test_size-none_count), 100 * correct_with_15/(test_size-none_count), 100 * correct/has_prediction, 100 * incorrect/test_size, 100 * none_count/test_size, 100 * first_prediction/test_size, mean(succeed_frequencies)/len(command_subsets), mean(fail_frequencies)/len(command_subsets))\n",
    "    # return 'Correct Proportion: {:.2f}% |\\n Correct in 5 not 3: {:.2f}% |\\n Correct in 15 not 5: {:.2f}% |\\n Has Prediction and is Correct: {:.2f}% |\\n Incorrect Proportion: {:.2f}% |\\n None Proportion: {:.2f}% |\\n First Prediction: {:.2f}% |\\n Average Success Freq: {:.0f} |\\n Average Fail Freq: {:.0f}'.format(100 * correct/test_size, 100 * correct_with_5/test_size, 100 * correct_with_15/test_size, 100 * correct/has_prediction, 100 * incorrect/test_size, 100 * none_count/test_size, 100 * first_prediction/test_size, mean(succeed_frequencies), mean(fail_frequencies))"
   ]
  },
  {
   "cell_type": "code",
   "execution_count": 4,
   "metadata": {},
   "outputs": [
    {
     "name": "stderr",
     "output_type": "stream",
     "text": [
      "100%|██████████| 52/52 [00:09<00:00,  5.32it/s]\n",
      "100%|██████████| 36/36 [00:05<00:00,  6.48it/s]\n",
      "100%|██████████| 25/25 [00:02<00:00, 11.02it/s]\n",
      "100%|██████████| 56/56 [00:06<00:00,  8.78it/s]\n"
     ]
    }
   ],
   "source": [
    "from parse import Parser\n",
    "\n",
    "parser = Parser()"
   ]
  },
  {
   "cell_type": "markdown",
   "metadata": {},
   "source": [
    "All Commands Parse and Replace Args"
   ]
  },
  {
   "cell_type": "code",
   "execution_count": 5,
   "metadata": {},
   "outputs": [
    {
     "name": "stderr",
     "output_type": "stream",
     "text": [
      "100%|██████████| 52/52 [00:10<00:00,  4.90it/s]\n",
      "100%|██████████| 36/36 [00:05<00:00,  6.19it/s]\n",
      "100%|██████████| 25/25 [00:02<00:00, 10.65it/s]\n",
      "100%|██████████| 56/56 [00:06<00:00,  8.48it/s]\n"
     ]
    }
   ],
   "source": [
    "subset_size = 5\n",
    "\n",
    "science_session = parser.parse_commands_per_session(parser.scientists_files)\n",
    "science_session = parser.parse_commands_into_subsets_sliding_window(science_session, subset_size)\n",
    "science_session = parser.replace_args_nested(science_session)\n",
    "\n",
    "experienced_session = parser.parse_commands_per_session(parser.experienced_files)\n",
    "experienced_session = parser.parse_commands_into_subsets_sliding_window(experienced_session, subset_size)\n",
    "experienced_session = parser.replace_args_nested(experienced_session)\n",
    "\n",
    "non_session = parser.parse_commands_per_session(parser.non_programmers_files)\n",
    "non_session = parser.parse_commands_into_subsets_sliding_window(non_session, subset_size)\n",
    "non_session = parser.replace_args_nested(non_session)\n",
    "\n",
    "novice_session = parser.parse_commands_per_session(parser.novice_files)\n",
    "novice_session = parser.parse_commands_into_subsets_sliding_window(novice_session, subset_size)\n",
    "novice_session = parser.replace_args_nested(novice_session)"
   ]
  },
  {
   "cell_type": "markdown",
   "metadata": {},
   "source": [
    "Accuracy predicting N+1 command from N commands with all commands in graph"
   ]
  },
  {
   "cell_type": "code",
   "execution_count": 9,
   "metadata": {},
   "outputs": [
    {
     "name": "stdout",
     "output_type": "stream",
     "text": [
      "Accuracy predicting command 2 from commands 1 through 1:\n",
      "\n"
     ]
    },
    {
     "name": "stderr",
     "output_type": "stream",
     "text": [
      "100%|██████████| 81083/81083 [08:17<00:00, 162.90it/s]\n"
     ]
    },
    {
     "name": "stdout",
     "output_type": "stream",
     "text": [
      "Scientist session:\n",
      " Correct Proportion: 61.33% |\n",
      " Correct in 5 not 3: 67.76% |\n",
      " Correct in 15 not 5: 81.82% |\n",
      " Has Prediction and is Correct: 61.33% |\n",
      " Incorrect Proportion: 38.66% |\n",
      " None Proportion: 0.03% |\n",
      " First Prediction: 43.70% |\n",
      " Average Success Freq: 8960 |\n",
      " Average Fail Freq: 11593 \n",
      "\n"
     ]
    },
    {
     "name": "stderr",
     "output_type": "stream",
     "text": [
      "100%|██████████| 48920/48920 [13:46<00:00, 59.18it/s]   \n"
     ]
    },
    {
     "name": "stdout",
     "output_type": "stream",
     "text": [
      "Experienced session:\n",
      " Correct Proportion: 64.94% |\n",
      " Correct in 5 not 3: 70.89% |\n",
      " Correct in 15 not 5: 83.98% |\n",
      " Has Prediction and is Correct: 64.94% |\n",
      " Incorrect Proportion: 35.05% |\n",
      " None Proportion: 0.03% |\n",
      " First Prediction: 46.17% |\n",
      " Average Success Freq: 10959 |\n",
      " Average Fail Freq: 13340 \n",
      "\n"
     ]
    },
    {
     "name": "stderr",
     "output_type": "stream",
     "text": [
      "100%|██████████| 15606/15606 [02:33<00:00, 101.79it/s]\n"
     ]
    },
    {
     "name": "stdout",
     "output_type": "stream",
     "text": [
      "Non programmer session:\n",
      " Correct Proportion: 64.08% |\n",
      " Correct in 5 not 3: 69.98% |\n",
      " Correct in 15 not 5: 81.40% |\n",
      " Has Prediction and is Correct: 64.08% |\n",
      " Incorrect Proportion: 35.91% |\n",
      " None Proportion: 0.03% |\n",
      " First Prediction: 43.85% |\n",
      " Average Success Freq: 11739 |\n",
      " Average Fail Freq: 14161 \n",
      "\n"
     ]
    },
    {
     "name": "stderr",
     "output_type": "stream",
     "text": [
      "100%|██████████| 49745/49745 [05:31<00:00, 150.09it/s]\n"
     ]
    },
    {
     "name": "stdout",
     "output_type": "stream",
     "text": [
      "Novice session:\n",
      " Correct Proportion: 75.57% |\n",
      " Correct in 5 not 3: 79.30% |\n",
      " Correct in 15 not 5: 89.84% |\n",
      " Has Prediction and is Correct: 75.57% |\n",
      " Incorrect Proportion: 24.43% |\n",
      " None Proportion: 0.03% |\n",
      " First Prediction: 52.18% |\n",
      " Average Success Freq: 14907 |\n",
      " Average Fail Freq: 15907 \n",
      "\n",
      "Accuracy predicting command 3 from commands 1 through 2:\n",
      "\n"
     ]
    },
    {
     "name": "stderr",
     "output_type": "stream",
     "text": [
      "100%|██████████| 59111/59111 [01:44<00:00, 564.51it/s]\n"
     ]
    },
    {
     "name": "stdout",
     "output_type": "stream",
     "text": [
      "Scientist session:\n",
      " Correct Proportion: 73.89% |\n",
      " Correct in 5 not 3: 80.06% |\n",
      " Correct in 15 not 5: 89.62% |\n",
      " Has Prediction and is Correct: 73.89% |\n",
      " Incorrect Proportion: 26.09% |\n",
      " None Proportion: 0.08% |\n",
      " First Prediction: 56.37% |\n",
      " Average Success Freq: 15746 |\n",
      " Average Fail Freq: 18250 \n",
      "\n"
     ]
    },
    {
     "name": "stderr",
     "output_type": "stream",
     "text": [
      "100%|██████████| 35803/35803 [00:55<00:00, 644.36it/s]\n"
     ]
    },
    {
     "name": "stdout",
     "output_type": "stream",
     "text": [
      "Experienced session:\n",
      " Correct Proportion: 77.73% |\n",
      " Correct in 5 not 3: 83.22% |\n",
      " Correct in 15 not 5: 91.53% |\n",
      " Has Prediction and is Correct: 77.73% |\n",
      " Incorrect Proportion: 22.25% |\n",
      " None Proportion: 0.10% |\n",
      " First Prediction: 60.74% |\n",
      " Average Success Freq: 16419 |\n",
      " Average Fail Freq: 19304 \n",
      "\n"
     ]
    },
    {
     "name": "stderr",
     "output_type": "stream",
     "text": [
      "100%|██████████| 11229/11229 [00:22<00:00, 495.34it/s]\n"
     ]
    },
    {
     "name": "stdout",
     "output_type": "stream",
     "text": [
      "Non programmer session:\n",
      " Correct Proportion: 74.26% |\n",
      " Correct in 5 not 3: 80.18% |\n",
      " Correct in 15 not 5: 88.21% |\n",
      " Has Prediction and is Correct: 74.26% |\n",
      " Incorrect Proportion: 25.73% |\n",
      " None Proportion: 0.05% |\n",
      " First Prediction: 56.24% |\n",
      " Average Success Freq: 16811 |\n",
      " Average Fail Freq: 19696 \n",
      "\n"
     ]
    },
    {
     "name": "stderr",
     "output_type": "stream",
     "text": [
      "100%|██████████| 36257/36257 [00:48<00:00, 745.15it/s]\n"
     ]
    },
    {
     "name": "stdout",
     "output_type": "stream",
     "text": [
      "Novice session:\n",
      " Correct Proportion: 82.73% |\n",
      " Correct in 5 not 3: 87.43% |\n",
      " Correct in 15 not 5: 94.38% |\n",
      " Has Prediction and is Correct: 82.73% |\n",
      " Incorrect Proportion: 17.25% |\n",
      " None Proportion: 0.07% |\n",
      " First Prediction: 62.92% |\n",
      " Average Success Freq: 18828 |\n",
      " Average Fail Freq: 20543 \n",
      "\n",
      "Accuracy predicting command 4 from commands 1 through 3:\n",
      "\n"
     ]
    },
    {
     "name": "stderr",
     "output_type": "stream",
     "text": [
      "100%|██████████| 38298/38298 [00:16<00:00, 2335.22it/s]\n"
     ]
    },
    {
     "name": "stdout",
     "output_type": "stream",
     "text": [
      "Scientist session:\n",
      " Correct Proportion: 78.34% |\n",
      " Correct in 5 not 3: 82.11% |\n",
      " Correct in 15 not 5: 86.94% |\n",
      " Has Prediction and is Correct: 78.34% |\n",
      " Incorrect Proportion: 21.46% |\n",
      " None Proportion: 0.95% |\n",
      " First Prediction: 64.68% |\n",
      " Average Success Freq: 19354 |\n",
      " Average Fail Freq: 21688 \n",
      "\n"
     ]
    },
    {
     "name": "stderr",
     "output_type": "stream",
     "text": [
      "100%|██████████| 23212/23212 [00:08<00:00, 2632.03it/s]\n"
     ]
    },
    {
     "name": "stdout",
     "output_type": "stream",
     "text": [
      "Experienced session:\n",
      " Correct Proportion: 80.10% |\n",
      " Correct in 5 not 3: 82.99% |\n",
      " Correct in 15 not 5: 87.06% |\n",
      " Has Prediction and is Correct: 80.10% |\n",
      " Incorrect Proportion: 19.68% |\n",
      " None Proportion: 1.09% |\n",
      " First Prediction: 66.81% |\n",
      " Average Success Freq: 19734 |\n",
      " Average Fail Freq: 22166 \n",
      "\n"
     ]
    },
    {
     "name": "stderr",
     "output_type": "stream",
     "text": [
      "100%|██████████| 7310/7310 [00:04<00:00, 1679.99it/s]\n"
     ]
    },
    {
     "name": "stdout",
     "output_type": "stream",
     "text": [
      "Non programmer session:\n",
      " Correct Proportion: 75.90% |\n",
      " Correct in 5 not 3: 81.64% |\n",
      " Correct in 15 not 5: 86.95% |\n",
      " Has Prediction and is Correct: 75.90% |\n",
      " Incorrect Proportion: 23.95% |\n",
      " None Proportion: 0.59% |\n",
      " First Prediction: 61.93% |\n",
      " Average Success Freq: 19912 |\n",
      " Average Fail Freq: 22430 \n",
      "\n"
     ]
    },
    {
     "name": "stderr",
     "output_type": "stream",
     "text": [
      "100%|██████████| 23474/23474 [00:12<00:00, 1898.76it/s]\n"
     ]
    },
    {
     "name": "stdout",
     "output_type": "stream",
     "text": [
      "Novice session:\n",
      " Correct Proportion: 84.73% |\n",
      " Correct in 5 not 3: 88.37% |\n",
      " Correct in 15 not 5: 92.55% |\n",
      " Has Prediction and is Correct: 84.73% |\n",
      " Incorrect Proportion: 15.19% |\n",
      " None Proportion: 0.54% |\n",
      " First Prediction: 67.30% |\n",
      " Average Success Freq: 21088 |\n",
      " Average Fail Freq: 22906 \n",
      "\n",
      "Accuracy predicting command 5 from commands 1 through 4:\n",
      "\n"
     ]
    },
    {
     "name": "stderr",
     "output_type": "stream",
     "text": [
      "100%|██████████| 18725/18725 [00:02<00:00, 7590.67it/s]\n"
     ]
    },
    {
     "name": "stdout",
     "output_type": "stream",
     "text": [
      "Scientist session:\n",
      " Correct Proportion: 32.84% |\n",
      " Correct in 5 not 3: 33.98% |\n",
      " Correct in 15 not 5: 35.30% |\n",
      " Has Prediction and is Correct: 32.84% |\n",
      " Incorrect Proportion: 61.49% |\n",
      " None Proportion: 8.44% |\n",
      " First Prediction: 25.78% |\n",
      " Average Success Freq: 21347 |\n",
      " Average Fail Freq: 23289 \n",
      "\n"
     ]
    },
    {
     "name": "stderr",
     "output_type": "stream",
     "text": [
      "100%|██████████| 11345/11345 [00:01<00:00, 7408.70it/s]\n"
     ]
    },
    {
     "name": "stdout",
     "output_type": "stream",
     "text": [
      "Experienced session:\n",
      " Correct Proportion: 28.95% |\n",
      " Correct in 5 not 3: 29.60% |\n",
      " Correct in 15 not 5: 30.21% |\n",
      " Has Prediction and is Correct: 28.95% |\n",
      " Incorrect Proportion: 64.30% |\n",
      " None Proportion: 9.49% |\n",
      " First Prediction: 22.94% |\n",
      " Average Success Freq: 21518 |\n",
      " Average Fail Freq: 23475 \n",
      "\n"
     ]
    },
    {
     "name": "stderr",
     "output_type": "stream",
     "text": [
      "100%|██████████| 3525/3525 [00:00<00:00, 5169.47it/s]\n"
     ]
    },
    {
     "name": "stdout",
     "output_type": "stream",
     "text": [
      "Non programmer session:\n",
      " Correct Proportion: 39.29% |\n",
      " Correct in 5 not 3: 40.62% |\n",
      " Correct in 15 not 5: 41.89% |\n",
      " Has Prediction and is Correct: 39.29% |\n",
      " Incorrect Proportion: 56.91% |\n",
      " None Proportion: 6.27% |\n",
      " First Prediction: 31.89% |\n",
      " Average Success Freq: 21597 |\n",
      " Average Fail Freq: 23575 \n",
      "\n"
     ]
    },
    {
     "name": "stderr",
     "output_type": "stream",
     "text": [
      "100%|██████████| 11447/11447 [00:03<00:00, 3380.49it/s]\n"
     ]
    },
    {
     "name": "stdout",
     "output_type": "stream",
     "text": [
      "Novice session:\n",
      " Correct Proportion: 59.96% |\n",
      " Correct in 5 not 3: 61.18% |\n",
      " Correct in 15 not 5: 62.57% |\n",
      " Has Prediction and is Correct: 59.96% |\n",
      " Incorrect Proportion: 38.14% |\n",
      " None Proportion: 4.74% |\n",
      " First Prediction: 46.85% |\n",
      " Average Success Freq: 22149 |\n",
      " Average Fail Freq: 23807 \n",
      "\n"
     ]
    }
   ],
   "source": [
    "for i in range(1, 5):\n",
    "    print(\"Accuracy predicting command {} from commands {} through {}:\\n\".format(i+1, 1, i))\n",
    "\n",
    "    print(\"Scientist session:\\n\", get_accuracy(science_session, graph_depth=i), '\\n')\n",
    "    print(\"Experienced session:\\n\", get_accuracy(experienced_session, graph_depth=i), '\\n')\n",
    "    print(\"Non programmer session:\\n\", get_accuracy(non_session, graph_depth=i), '\\n')\n",
    "    print(\"Novice session:\\n\", get_accuracy(novice_session, graph_depth=i), '\\n')"
   ]
  },
  {
   "cell_type": "markdown",
   "metadata": {},
   "source": [
    "Consolidated predicting next command. Graph depth of `-1` should accomplish this."
   ]
  },
  {
   "cell_type": "code",
   "execution_count": 17,
   "metadata": {},
   "outputs": [
    {
     "name": "stderr",
     "output_type": "stream",
     "text": [
      "  5%|▌         | 4338/81270 [00:13<03:46, 339.89it/s]"
     ]
    }
   ],
   "source": [
    "import os\n",
    "import csv\n",
    "\n",
    "dataset_names = [\"Science data\", \"Experienced data\", \"Non programmer data\", \"Novice data\"]\n",
    "datasets = [science_session, experienced_session, non_session, novice_session]\n",
    "\n",
    "for i in range(len(datasets)):\n",
    "    fail_frequencies = []\n",
    "    succeed_frequencies = []\n",
    "\n",
    "    print(get_accuracy(datasets[i], fail_frequencies=fail_frequencies, succeed_frequencies=succeed_frequencies, print_fails=True, graph_depth=-1))\n",
    "\n",
    "    os.makedirs(os.path.dirname(\"fails/frequencies_all/\" + dataset_names[i] + \".csv\"), exist_ok=True)\n",
    "    with open(\"fails/frequencies_all/\" + dataset_names[i] + \".csv\", \"w\", newline='') as file:\n",
    "        writer = csv.writer(file)\n",
    "        writer.writerow(fail_frequencies)\n",
    "\n",
    "    os.makedirs(os.path.dirname(\"successes/frequencies_all/\" + dataset_names[i] + \".csv\"), exist_ok=True)\n",
    "    with open(\"successes/frequencies_all/\" + dataset_names[i] + \".csv\", \"w\", newline='') as file:\n",
    "        writer = csv.writer(file)\n",
    "        writer.writerow(succeed_frequencies)\n"
   ]
  },
  {
   "cell_type": "markdown",
   "metadata": {},
   "source": [
    "Save files for all data"
   ]
  },
  {
   "cell_type": "code",
   "execution_count": 6,
   "metadata": {},
   "outputs": [
    {
     "name": "stderr",
     "output_type": "stream",
     "text": [
      "                                                       \r"
     ]
    }
   ],
   "source": [
    "import os\n",
    "import pprint\n",
    "\n",
    "pp = pprint.PrettyPrinter(indent=4)\n",
    "\n",
    "dataset_names = [\"Science data\", \"Experienced data\", \"Non programmer data\", \"Novice data\"]\n",
    "datasets = [science_session, experienced_session, non_session, novice_session]\n",
    "\n",
    "for i in range(len(datasets)):\n",
    "    for j in range (1, 5):\n",
    "        fail_list = []\n",
    "        succeed_list = []\n",
    "        correct_5_not_3 = []\n",
    "        correct_15_not_5 = []\n",
    "\n",
    "        get_accuracy(datasets[i], fail_list=fail_list, succeed_list=succeed_list, correct_5_not_3=correct_5_not_3, correct_15_not_5=correct_15_not_5, print_fails=True, graph_depth=j)\n",
    "\n",
    "        os.makedirs(os.path.dirname(\"fails/predicting_\" + str(j+1) + \"/\" + dataset_names[i] + \".txt\"), exist_ok=True)\n",
    "        with open(\"fails/predicting_\" + str(j+1) + \"/\" + dataset_names[i] + \".txt\", \"w\") as file:\n",
    "            file.write(pp.pformat(fail_list))\n",
    "\n",
    "        os.makedirs(os.path.dirname(\"successes/predicting_\" + str(j+1) + \"/\" + dataset_names[i] + \".txt\"), exist_ok=True)\n",
    "        with open(\"successes/predicting_\" + str(j+1) + \"/\" + dataset_names[i] + \".txt\", \"w\") as file:\n",
    "            file.write(pp.pformat(succeed_list))\n",
    "\n",
    "        os.makedirs(os.path.dirname(\"correct_5_not_3/predicting_\" + str(j+1) + \"/\" + dataset_names[i] + \".txt\"), exist_ok=True)\n",
    "        with open(\"correct_5_not_3/predicting_\" + str(j+1) + \"/\" + dataset_names[i] + \".txt\", \"w\") as file:\n",
    "            file.write(pp.pformat(correct_5_not_3))\n",
    "\n",
    "        os.makedirs(os.path.dirname(\"correct_15_not_5/predicting_\" + str(j+1) + \"/\" + dataset_names[i] + \".txt\"), exist_ok=True)\n",
    "        with open(\"correct_15_not_5/predicting_\" + str(j+1) + \"/\" + dataset_names[i] + \".txt\", \"w\") as file:\n",
    "            file.write(pp.pformat(correct_15_not_5))\n"
   ]
  },
  {
   "cell_type": "markdown",
   "metadata": {},
   "source": [
    "Save frequencies for successes and failures to CSV"
   ]
  },
  {
   "cell_type": "code",
   "execution_count": 14,
   "metadata": {},
   "outputs": [
    {
     "name": "stderr",
     "output_type": "stream",
     "text": [
      "                                                        \r"
     ]
    }
   ],
   "source": [
    "import os\n",
    "import csv\n",
    "\n",
    "dataset_names = [\"Science data\", \"Experienced data\", \"Non programmer data\", \"Novice data\"]\n",
    "datasets = [science_session, experienced_session, non_session, novice_session]\n",
    "\n",
    "for i in range(len(datasets)):\n",
    "    for j in range (1, 5):\n",
    "        fail_frequencies = []\n",
    "        succeed_frequencies = []\n",
    "\n",
    "        get_accuracy(datasets[i], fail_frequencies=fail_frequencies, succeed_frequencies=succeed_frequencies, print_fails=True, graph_depth=j)\n",
    "\n",
    "        os.makedirs(os.path.dirname(\"fails/frequencies_\" + str(j+1) + \"/\" + dataset_names[i] + \".csv\"), exist_ok=True)\n",
    "        with open(\"fails/frequencies_\" + str(j+1) + \"/\" + dataset_names[i] + \".csv\", \"w\", newline='') as file:\n",
    "            writer = csv.writer(file)\n",
    "            writer.writerow(fail_frequencies)\n",
    "\n",
    "        os.makedirs(os.path.dirname(\"successes/frequencies_\" + str(j+1) + \"/\" + dataset_names[i] + \".csv\"), exist_ok=True)\n",
    "        with open(\"successes/frequencies_\" + str(j+1) + \"/\" + dataset_names[i] + \".csv\", \"w\", newline='') as file:\n",
    "            writer = csv.writer(file)\n",
    "            writer.writerow(succeed_frequencies)\n"
   ]
  },
  {
   "cell_type": "markdown",
   "metadata": {},
   "source": [
    "Sampled Commands Parse and Replace Args"
   ]
  },
  {
   "cell_type": "code",
   "execution_count": null,
   "metadata": {},
   "outputs": [
    {
     "name": "stderr",
     "output_type": "stream",
     "text": [
      "100%|██████████| 10/10 [00:02<00:00,  4.12it/s]\n",
      "100%|██████████| 7/7 [00:01<00:00,  3.56it/s]\n",
      "100%|██████████| 5/5 [00:00<00:00, 10.96it/s]\n",
      "100%|██████████| 11/11 [00:02<00:00,  5.47it/s]\n"
     ]
    }
   ],
   "source": [
    "from random import sample\n",
    "import math\n",
    "\n",
    "subset_size = 5\n",
    "\n",
    "science_session_sample = parser.parse_commands_per_session(sample(parser.scientists_files, math.floor(0.2 * len(parser.scientists_files))))\n",
    "science_session_sample = parser.parse_commands_into_subsets_sliding_window(science_session_sample, subset_size)\n",
    "science_session_sample = parser.replace_args_nested(science_session_sample)\n",
    "\n",
    "experienced_session_sample = parser.parse_commands_per_session(sample(parser.experienced_files, math.floor(0.2 * len(parser.experienced_files))))\n",
    "experienced_session_sample = parser.parse_commands_into_subsets_sliding_window(experienced_session_sample, subset_size)\n",
    "experienced_session_sample = parser.replace_args_nested(experienced_session_sample)\n",
    "\n",
    "non_session_sample = parser.parse_commands_per_session(sample(parser.non_programmers_files, math.floor(0.2 * len(parser.non_programmers_files))))\n",
    "non_session_sample = parser.parse_commands_into_subsets_sliding_window(non_session_sample, subset_size)\n",
    "non_session_sample = parser.replace_args_nested(non_session_sample)\n",
    "\n",
    "novice_session_sample = parser.parse_commands_per_session(sample(parser.novice_files, math.floor(0.2 * len(parser.novice_files))))\n",
    "novice_session_sample = parser.parse_commands_into_subsets_sliding_window(novice_session_sample, subset_size)\n",
    "novice_session_sample = parser.replace_args_nested(novice_session_sample)"
   ]
  },
  {
   "cell_type": "markdown",
   "metadata": {},
   "source": [
    "Accuracy predicting N+1 command from N commands with subset of data"
   ]
  },
  {
   "cell_type": "code",
   "execution_count": null,
   "metadata": {},
   "outputs": [
    {
     "name": "stderr",
     "output_type": "stream",
     "text": [
      "  0%|          | 0/4 [00:00<?, ?it/s]"
     ]
    },
    {
     "name": "stdout",
     "output_type": "stream",
     "text": [
      "Accuracy Predicting Command 2 from commands 1 through 1:\n",
      "\n",
      "Scientist session sample:\n",
      " Correct Proportion: 68.81% |\n",
      " Correct in 15 not 5: 82.54% |\n",
      " Has Prediction and is Correct: 68.81% |\n",
      " Incorrect Proportion: 31.19% |\n",
      " None Proportion: 0.00% |\n",
      " First Prediction: 44.93%\n",
      "Experienced session sample:\n",
      " Correct Proportion: 70.46% |\n",
      " Correct in 15 not 5: 82.42% |\n",
      " Has Prediction and is Correct: 70.46% |\n",
      " Incorrect Proportion: 29.54% |\n",
      " None Proportion: 0.00% |\n",
      " First Prediction: 44.51%\n",
      "Non programmer session sample:\n",
      " Correct Proportion: 72.88% |\n",
      " Correct in 15 not 5: 84.91% |\n",
      " Has Prediction and is Correct: 72.88% |\n",
      " Incorrect Proportion: 27.12% |\n",
      " None Proportion: 0.00% |\n",
      " First Prediction: 46.52%\n"
     ]
    },
    {
     "name": "stderr",
     "output_type": "stream",
     "text": [
      " 25%|██▌       | 1/4 [14:46<44:18, 886.24s/it]"
     ]
    },
    {
     "name": "stdout",
     "output_type": "stream",
     "text": [
      "Novice session sample:\n",
      " Correct Proportion: 82.73% |\n",
      " Correct in 15 not 5: 92.47% |\n",
      " Has Prediction and is Correct: 82.73% |\n",
      " Incorrect Proportion: 17.27% |\n",
      " None Proportion: 0.00% |\n",
      " First Prediction: 51.90%\n",
      "Accuracy Predicting Command 3 from commands 1 through 2:\n",
      "\n",
      "Scientist session sample:\n",
      " Correct Proportion: 84.20% |\n",
      " Correct in 15 not 5: 93.33% |\n",
      " Has Prediction and is Correct: 84.21% |\n",
      " Incorrect Proportion: 15.79% |\n",
      " None Proportion: 0.01% |\n",
      " First Prediction: 60.52%\n",
      "Experienced session sample:\n",
      " Correct Proportion: 83.73% |\n",
      " Correct in 15 not 5: 92.60% |\n",
      " Has Prediction and is Correct: 83.74% |\n",
      " Incorrect Proportion: 16.26% |\n",
      " None Proportion: 0.01% |\n",
      " First Prediction: 61.59%\n",
      "Non programmer session sample:\n",
      " Correct Proportion: 86.02% |\n",
      " Correct in 15 not 5: 93.32% |\n",
      " Has Prediction and is Correct: 86.02% |\n",
      " Incorrect Proportion: 13.98% |\n",
      " None Proportion: 0.00% |\n",
      " First Prediction: 65.58%\n"
     ]
    },
    {
     "name": "stderr",
     "output_type": "stream",
     "text": [
      " 50%|█████     | 2/4 [15:18<12:47, 383.78s/it]"
     ]
    },
    {
     "name": "stdout",
     "output_type": "stream",
     "text": [
      "Novice session sample:\n",
      " Correct Proportion: 89.89% |\n",
      " Correct in 15 not 5: 96.25% |\n",
      " Has Prediction and is Correct: 89.89% |\n",
      " Incorrect Proportion: 10.11% |\n",
      " None Proportion: 0.00% |\n",
      " First Prediction: 66.82%\n",
      "Accuracy Predicting Command 4 from commands 1 through 3:\n",
      "\n",
      "Scientist session sample:\n",
      " Correct Proportion: 92.72% |\n",
      " Correct in 15 not 5: 97.28% |\n",
      " Has Prediction and is Correct: 92.72% |\n",
      " Incorrect Proportion: 7.28% |\n",
      " None Proportion: 0.01% |\n",
      " First Prediction: 74.85%\n",
      "Experienced session sample:\n",
      " Correct Proportion: 92.54% |\n",
      " Correct in 15 not 5: 96.33% |\n",
      " Has Prediction and is Correct: 92.54% |\n",
      " Incorrect Proportion: 7.46% |\n",
      " None Proportion: 0.00% |\n",
      " First Prediction: 76.20%\n",
      "Non programmer session sample:\n",
      " Correct Proportion: 93.66% |\n",
      " Correct in 15 not 5: 97.47% |\n",
      " Has Prediction and is Correct: 93.66% |\n",
      " Incorrect Proportion: 6.34% |\n",
      " None Proportion: 0.00% |\n",
      " First Prediction: 78.04%\n"
     ]
    },
    {
     "name": "stderr",
     "output_type": "stream",
     "text": [
      " 75%|███████▌  | 3/4 [15:23<03:31, 211.14s/it]"
     ]
    },
    {
     "name": "stdout",
     "output_type": "stream",
     "text": [
      "Novice session sample:\n",
      " Correct Proportion: 95.06% |\n",
      " Correct in 15 not 5: 98.90% |\n",
      " Has Prediction and is Correct: 95.06% |\n",
      " Incorrect Proportion: 4.94% |\n",
      " None Proportion: 0.00% |\n",
      " First Prediction: 73.70%\n",
      "Accuracy Predicting Command 5 from commands 1 through 4:\n",
      "\n",
      "Scientist session sample:\n",
      " Correct Proportion: 81.89% |\n",
      " Correct in 15 not 5: 84.08% |\n",
      " Has Prediction and is Correct: 82.17% |\n",
      " Incorrect Proportion: 17.77% |\n",
      " None Proportion: 0.34% |\n",
      " First Prediction: 69.53%\n",
      "Experienced session sample:\n",
      " Correct Proportion: 81.36% |\n",
      " Correct in 15 not 5: 83.26% |\n",
      " Has Prediction and is Correct: 81.59% |\n",
      " Incorrect Proportion: 18.35% |\n",
      " None Proportion: 0.29% |\n",
      " First Prediction: 71.52%\n",
      "Non programmer session sample:\n",
      " Correct Proportion: 85.71% |\n",
      " Correct in 15 not 5: 87.88% |\n",
      " Has Prediction and is Correct: 85.90% |\n",
      " Incorrect Proportion: 14.07% |\n",
      " None Proportion: 0.22% |\n",
      " First Prediction: 74.03%\n"
     ]
    },
    {
     "name": "stderr",
     "output_type": "stream",
     "text": [
      "100%|██████████| 4/4 [15:25<00:00, 231.35s/it]"
     ]
    },
    {
     "name": "stdout",
     "output_type": "stream",
     "text": [
      "Novice session sample:\n",
      " Correct Proportion: 90.95% |\n",
      " Correct in 15 not 5: 92.81% |\n",
      " Has Prediction and is Correct: 91.05% |\n",
      " Incorrect Proportion: 8.94% |\n",
      " None Proportion: 0.11% |\n",
      " First Prediction: 73.83%\n"
     ]
    },
    {
     "name": "stderr",
     "output_type": "stream",
     "text": [
      "\n"
     ]
    }
   ],
   "source": [
    "for i in range(1, 5):\n",
    "    print(\"Accuracy Predicting Command {} from commands {} through {}:\\n\".format(i+1, 1, i))\n",
    "\n",
    "    print(\"Scientist session sample:\\n\", get_accuracy(science_session_sample, graph_depth=i))\n",
    "    print(\"Experienced session sample:\\n\", get_accuracy(experienced_session_sample, graph_depth=i))\n",
    "    print(\"Non programmer session sample:\\n\", get_accuracy(non_session_sample, graph_depth=i))\n",
    "    print(\"Novice session sample:\\n\", get_accuracy(novice_session_sample, graph_depth=i))"
   ]
  }
 ],
 "metadata": {
  "interpreter": {
   "hash": "d6a02243acaf6442a8dfab70d4c1e9169b9d22808d9e1a1dd816394099b97fa0"
  },
  "kernelspec": {
   "display_name": "Python 3.9.10 ('venv': venv)",
   "language": "python",
   "name": "python3"
  },
  "language_info": {
   "codemirror_mode": {
    "name": "ipython",
    "version": 3
   },
   "file_extension": ".py",
   "mimetype": "text/x-python",
   "name": "python",
   "nbconvert_exporter": "python",
   "pygments_lexer": "ipython3",
   "version": "3.9.12"
  },
  "orig_nbformat": 4
 },
 "nbformat": 4,
 "nbformat_minor": 2
}
