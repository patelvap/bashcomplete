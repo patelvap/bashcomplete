{
 "cells": [
  {
   "cell_type": "markdown",
   "metadata": {},
   "source": [
    "Construct Graph function"
   ]
  },
  {
   "cell_type": "code",
   "execution_count": 4,
   "metadata": {},
   "outputs": [],
   "source": [
    "from graph import Node\n",
    "\n",
    "def construct_graph(command_list, command_dict={}):\n",
    "\n",
    "    filter_empty = lambda x: (len(x) > 0)\n",
    "    cur_node = None\n",
    "    child_node = None\n",
    "    \n",
    "    for session in command_list:\n",
    "        # remove commands of length 0 ( not good to modify list within loop )\n",
    "        \n",
    "        session = list(filter(filter_empty, session))\n",
    "\n",
    "        try: \n",
    "            first_cmd = session[0]\n",
    "        except Exception as inst:\n",
    "            print(session)\n",
    "            continue\n",
    "\n",
    "        program = session[0].split()[0]\n",
    "\n",
    "        if command_dict.get(program) is None:\n",
    "            cur_node = Node(program=program, frequency=1)\n",
    "            command_dict[program] = cur_node \n",
    "        else:\n",
    "            cur_node = command_dict.get(program)\n",
    "            cur_node.frequency += 1\n",
    "\n",
    "        if cur_node.commands.get(first_cmd) is None:\n",
    "            cur_node.commands[first_cmd] = 1\n",
    "        else:\n",
    "            cur_node.commands[first_cmd] += 1\n",
    "\n",
    "        for cmd in range(1, len(session)):\n",
    "\n",
    "            if session[cmd].isprintable() is False:\n",
    "                break\n",
    "            else:\n",
    "                program = session[cmd].split()[0]\n",
    "\n",
    "            if cur_node.children.get(program) is None:\n",
    "                child_node = Node(program = program, frequency=1)\n",
    "                cur_node.children[program] = child_node\n",
    "            else:\n",
    "                child_node = cur_node.children.get(program)\n",
    "                child_node.frequency += 1\n",
    "            \n",
    "            if child_node.commands.get(session[cmd]) is None:\n",
    "                child_node.commands[session[cmd]] = 1\n",
    "            else:\n",
    "                child_node.commands[session[cmd]] += 1\n",
    "            \n",
    "            cur_node = child_node\n",
    "        \n",
    "                \n",
    "        \n",
    "    return command_dict\n"
   ]
  },
  {
   "cell_type": "markdown",
   "metadata": {},
   "source": [
    "Get Prediction function"
   ]
  },
  {
   "cell_type": "code",
   "execution_count": 5,
   "metadata": {},
   "outputs": [],
   "source": [
    "def get_prediction(command_list, graph):\n",
    "    if len(command_list) == 0:\n",
    "        return None\n",
    "\n",
    "    commands = command_list[-3:-1]\n",
    "    previous_command = command_list[-1]\n",
    "\n",
    "    if len(commands) == 0:\n",
    "        return None\n",
    "\n",
    "    program = commands[0].split()[0]\n",
    "    \n",
    "    if graph.get(program) is None:\n",
    "        return None\n",
    "    else:\n",
    "        node = graph[program]\n",
    "\n",
    "    for command in commands[1:]:\n",
    "        program = command.split()[0]\n",
    "        if node.children.get(program) is not None:\n",
    "            node = node.children[program]\n",
    "        else:\n",
    "            return None\n",
    "\n",
    "    return node.get_prediction(previous_command)"
   ]
  },
  {
   "cell_type": "markdown",
   "metadata": {},
   "source": [
    "Accuracy function"
   ]
  },
  {
   "cell_type": "code",
   "execution_count": 51,
   "metadata": {},
   "outputs": [],
   "source": [
    "from thefuzz import fuzz\n",
    "from thefuzz import process\n",
    "from sklearn.model_selection import train_test_split\n",
    "\n",
    "import pprint\n",
    "pp = pprint.PrettyPrinter(indent=4)\n",
    "\n",
    "def get_accuracy(command_subsets, fail_list = [], print_fails = False):\n",
    "    train_data, test_data = train_test_split(command_subsets, test_size=0.2, train_size=0.8, random_state=42)\n",
    "\n",
    "    train_graph = construct_graph(train_data)\n",
    "\n",
    "    test_size = len(test_data)\n",
    "\n",
    "    correct = 0\n",
    "    has_prediction = 0\n",
    "    incorrect = 0\n",
    "    none_count = 0\n",
    "\n",
    "    for commands in test_data:\n",
    "        results = get_prediction(commands, train_graph)\n",
    "        \n",
    "        prev_correct = correct\n",
    "\n",
    "        if results is not None:\n",
    "            has_prediction += 1\n",
    "            \n",
    "            for result in results:\n",
    "                if fuzz.ratio(result[0], commands[-1]) > 75:\n",
    "                    correct += 1\n",
    "                    break\n",
    "            if prev_correct == correct:\n",
    "                incorrect += 1\n",
    "        else:\n",
    "            none_count += 1\n",
    "\n",
    "        if prev_correct == correct and print_fails:\n",
    "            fail_list.append((\"results:\", results, \"expected:\", commands[-1], \"command sequence:\", commands))\n",
    "                    \n",
    "\n",
    "    return 'Correct Proportion: {:.2f}% | Has Prediction and is Correct: {:.2f}% | Incorrect Proportion: {:.2f}% | None Proportion {:.2f}%'.format(100 * correct/test_size, 100 * correct/has_prediction, 100 * incorrect/test_size, 100 * none_count/test_size)"
   ]
  },
  {
   "cell_type": "code",
   "execution_count": 7,
   "metadata": {},
   "outputs": [
    {
     "name": "stderr",
     "output_type": "stream",
     "text": [
      "100%|██████████| 52/52 [00:17<00:00,  3.03it/s]\n",
      "100%|██████████| 36/36 [00:09<00:00,  3.86it/s]\n",
      "100%|██████████| 25/25 [00:03<00:00,  6.78it/s]\n",
      "100%|██████████| 56/56 [00:10<00:00,  5.50it/s]\n"
     ]
    }
   ],
   "source": [
    "from parse import Parser\n",
    "\n",
    "parser = Parser()"
   ]
  },
  {
   "cell_type": "code",
   "execution_count": 58,
   "metadata": {},
   "outputs": [
    {
     "name": "stdout",
     "output_type": "stream",
     "text": [
      "Correct Proportion: 87.42% | Has Prediction and is Correct: 88.72% | Incorrect Proportion: 11.11% | None Proportion 1.47%\n",
      "Correct Proportion: 90.41% | Has Prediction and is Correct: 90.41% | Incorrect Proportion: 9.59% | None Proportion 0.00%\n",
      "Correct Proportion: 88.76% | Has Prediction and is Correct: 93.47% | Incorrect Proportion: 6.20% | None Proportion 5.04%\n",
      "Correct Proportion: 77.27% | Has Prediction and is Correct: 79.07% | Incorrect Proportion: 20.45% | None Proportion 2.27%\n"
     ]
    }
   ],
   "source": [
    "science = parser.filter_commands_with_pipe(parser.scientists_commands)\n",
    "experienced = parser.filter_commands_with_pipe(parser.experienced_commands)\n",
    "non = parser.filter_commands_with_pipe(parser.non_programmers_commands)\n",
    "novice = parser.filter_commands_with_pipe(parser.novice_commands)\n",
    "\n",
    "science_pipes = parser.expand_piped_commands(science)\n",
    "experienced_pipes = parser.expand_piped_commands(experienced)\n",
    "non_pipes = parser.expand_piped_commands(non)\n",
    "novice_pipes = parser.expand_piped_commands(novice)\n",
    "\n",
    "print(get_accuracy(science_pipes))\n",
    "print(get_accuracy(experienced_pipes))\n",
    "print(get_accuracy(non_pipes))\n",
    "print(get_accuracy(novice_pipes))\n",
    "\n",
    "\"\"\"\n",
    "old, returning all potential commands - args not replaced\n",
    "\n",
    "91.19%\n",
    "96.35%\n",
    "90.31%\n",
    "93.18%\n",
    "\"\"\"\n",
    "\n",
    "science_pipes_expand = parser.replace_arg_expanded_pipe(science_pipes)\n",
    "experienced_pipes_expand = parser.replace_arg_expanded_pipe(experienced_pipes)\n",
    "non_pipes_expand = parser.replace_arg_expanded_pipe(non_pipes)\n",
    "novice_pipes_expand = parser.replace_arg_expanded_pipe(novice_pipes)"
   ]
  },
  {
   "cell_type": "code",
   "execution_count": 60,
   "metadata": {},
   "outputs": [
    {
     "name": "stdout",
     "output_type": "stream",
     "text": [
      "[]\n",
      "Correct Proportion: 84.28% | Has Prediction and is Correct: 85.71% | Incorrect Proportion: 14.05% | None Proportion 1.68%\n",
      "Correct Proportion: 91.78% | Has Prediction and is Correct: 91.78% | Incorrect Proportion: 8.22% | None Proportion 0.00%\n",
      "Correct Proportion: 87.60% | Has Prediction and is Correct: 92.43% | Incorrect Proportion: 7.17% | None Proportion 5.23%\n",
      "Correct Proportion: 86.36% | Has Prediction and is Correct: 86.36% | Incorrect Proportion: 13.64% | None Proportion 0.00%\n"
     ]
    },
    {
     "data": {
      "text/plain": [
       "'\\n[0:15]\\n\\n85.53%\\n95.43%\\n93.80%\\n90.91%\\n'"
      ]
     },
     "execution_count": 60,
     "metadata": {},
     "output_type": "execute_result"
    }
   ],
   "source": [
    "print(get_accuracy(science_pipes_expand))\n",
    "print(get_accuracy(experienced_pipes_expand))\n",
    "print(get_accuracy(non_pipes_expand))\n",
    "print(get_accuracy(novice_pipes_expand))\n",
    "\n",
    "\"\"\"\n",
    "[0:5]\n",
    "\n",
    "89.52%\n",
    "95.43%\n",
    "93.80%\n",
    "90.91%\n",
    "\"\"\"\n",
    "\n",
    "\"\"\"\n",
    "[0:15]\n",
    "\n",
    "85.53%\n",
    "95.43%\n",
    "93.80%\n",
    "90.91%\n",
    "\"\"\""
   ]
  },
  {
   "cell_type": "code",
   "execution_count": 33,
   "metadata": {},
   "outputs": [],
   "source": [
    "subset_size = 5\n",
    "\n",
    "science_replaced = parser.replace_args(parser.scientists_commands)\n",
    "science_replaced = parser.parse_commands_into_subsets(science_replaced, subset_size)\n",
    "\n",
    "experienced_replaced = parser.replace_args(parser.experienced_commands)\n",
    "experienced_replaced = parser.parse_commands_into_subsets(experienced_replaced, subset_size)\n",
    "\n",
    "non_replaced = parser.replace_args(parser.non_programmers_commands)\n",
    "non_replaced = parser.parse_commands_into_subsets(non_replaced, subset_size)\n",
    "\n",
    "novice_replaced = parser.replace_args(parser.novice_commands)\n",
    "novice_replaced = parser.parse_commands_into_subsets(novice_replaced, subset_size)"
   ]
  },
  {
   "cell_type": "code",
   "execution_count": 61,
   "metadata": {},
   "outputs": [
    {
     "name": "stdout",
     "output_type": "stream",
     "text": [
      "Scientist replaced: Correct Proportion: 96.88% | Has Prediction and is Correct: 96.88% | Incorrect Proportion: 3.12% | None Proportion 0.00%\n",
      "Experienced replaced: Correct Proportion: 97.17% | Has Prediction and is Correct: 97.17% | Incorrect Proportion: 2.83% | None Proportion 0.00%\n",
      "Non programmer replaced: Correct Proportion: 96.85% | Has Prediction and is Correct: 96.87% | Incorrect Proportion: 3.13% | None Proportion 0.02%\n",
      "Novice replaced: Correct Proportion: 98.15% | Has Prediction and is Correct: 98.15% | Incorrect Proportion: 1.85% | None Proportion 0.00%\n"
     ]
    },
    {
     "data": {
      "text/plain": [
       "'\\nTop 5 returned to match\\n\\nScientist replaced accuracy: 85.06%\\nExperienced replaced accuracy: 86.43%\\nNon programmer replaced accuracy: 89.36%\\nNovice replaced accuracy: 90.15%\\n'"
      ]
     },
     "execution_count": 61,
     "metadata": {},
     "output_type": "execute_result"
    }
   ],
   "source": [
    "print(\"Scientist replaced:\", get_accuracy(science_replaced))\n",
    "print(\"Experienced replaced:\", get_accuracy(experienced_replaced))\n",
    "print(\"Non programmer replaced:\", get_accuracy(non_replaced))\n",
    "print(\"Novice replaced:\", get_accuracy(novice_replaced))\n",
    "\n",
    "\"\"\"\n",
    "[0:15]:\n",
    "\n",
    "Scientist replaced accuracy: 91.83%\n",
    "Experienced replaced accuracy: 92.64%\n",
    "Non programmer replaced accuracy: 94.70%\n",
    "Novice replaced accuracy: 95.65%\n",
    "\"\"\"\n",
    "\n",
    "\"\"\"\n",
    "Returning all children commands to match\n",
    "\n",
    "Scientist replaced accuracy: 91.83%\n",
    "Experienced replaced accuracy: 92.64%\n",
    "Non programmer replaced accuracy: 94.70%\n",
    "Novice replaced accuracy: 95.65%\n",
    "\"\"\"\n",
    "\n",
    "\"\"\"\n",
    "Top 5 returned to match\n",
    "\n",
    "Scientist replaced accuracy: 85.06%\n",
    "Experienced replaced accuracy: 86.43%\n",
    "Non programmer replaced accuracy: 89.36%\n",
    "Novice replaced accuracy: 90.15%\n",
    "\"\"\""
   ]
  },
  {
   "cell_type": "markdown",
   "metadata": {},
   "source": [
    "Save not matching or none result to file"
   ]
  },
  {
   "cell_type": "code",
   "execution_count": 17,
   "metadata": {},
   "outputs": [
    {
     "name": "stderr",
     "output_type": "stream",
     "text": [
      " 50%|█████     | 4/8 [00:24<00:22,  5.54s/it]"
     ]
    },
    {
     "name": "stdout",
     "output_type": "stream",
     "text": [
      "[]\n"
     ]
    },
    {
     "name": "stderr",
     "output_type": "stream",
     "text": [
      "100%|██████████| 8/8 [00:27<00:00,  3.41s/it]\n"
     ]
    }
   ],
   "source": [
    "from tqdm import tqdm\n",
    "\n",
    "import pprint\n",
    "pp = pprint.PrettyPrinter(indent=4)\n",
    "\n",
    "dataset_names = [\"Scientist replaced\", \"Experienced replaced\", \"Non programmer replaced\", \"Novice replaced\", \"Scientist pipes replaced\", \"Experienced pipes replaced\",\" Non programmer pipes replaced\", \"Novice pipes replaced\"]\n",
    "datasets = [science_replaced, experienced_replaced, non_replaced, novice_replaced, science_pipes_expand, experienced_pipes_expand, non_pipes_expand, novice_pipes_expand]\n",
    "\n",
    "fail_list = []\n",
    "\n",
    "for i in tqdm(range(len(datasets))):\n",
    "    with open(\"./fails/\" + dataset_names[i] + \".txt\", \"w\") as file_object:\n",
    "        get_accuracy(datasets[i], fail_list = fail_list, print_fails=True)\n",
    "        file_object.write(pp.pformat(fail_list))\n"
   ]
  },
  {
   "cell_type": "markdown",
   "metadata": {},
   "source": [
    "Save training graphs to JSON files. Files are 48.9 MB and very hard to open.\n",
    "\n",
    "Instead of this, we can just save it into a list."
   ]
  },
  {
   "cell_type": "code",
   "execution_count": 39,
   "metadata": {},
   "outputs": [
    {
     "name": "stderr",
     "output_type": "stream",
     "text": [
      " 50%|█████     | 4/8 [02:06<02:05, 31.49s/it]"
     ]
    },
    {
     "name": "stdout",
     "output_type": "stream",
     "text": [
      "[]\n"
     ]
    },
    {
     "name": "stderr",
     "output_type": "stream",
     "text": [
      "100%|██████████| 8/8 [04:11<00:00, 31.38s/it]\n"
     ]
    }
   ],
   "source": [
    "import jsonpickle\n",
    "from tqdm import tqdm\n",
    "from sklearn.model_selection import train_test_split\n",
    "\n",
    "import pprint\n",
    "pp = pprint.PrettyPrinter(indent=4)\n",
    "\n",
    "dataset_names = [\"Scientist replaced\", \"Experienced replaced\", \"Non programmer replaced\", \"Novice replaced\", \"Scientist pipes replaced\", \"Experienced pipes replaced\",\"Non programmer pipes replaced\", \"Novice pipes replaced\"]\n",
    "datasets = [science_replaced, experienced_replaced, non_replaced, novice_replaced, science_pipes_expand, experienced_pipes_expand, non_pipes_expand, novice_pipes_expand]\n",
    "\n",
    "train_graphs = []\n",
    "test_graphs = []\n",
    "\n",
    "for i in tqdm(range(len(datasets))):\n",
    "    train_data, test_data = train_test_split(datasets[i], test_size=0.2, train_size=0.8, random_state=42)\n",
    "\n",
    "    train_graph = construct_graph(train_data)\n",
    "    test_graph = construct_graph(test_data)\n",
    "\n",
    "    train_graphs.append(train_graph)\n",
    "    test_graphs.append(test_graph)\n",
    "\n",
    "    train_object = jsonpickle.encode(train_graph)\n",
    "    test_object = jsonpickle.encode(test_graph)\n",
    "\n",
    "    with open(\"./train_graphs/\" + dataset_names[i] + \" train.json\", \"w\") as file_object:\n",
    "        file_object.write(train_object)\n",
    "\n",
    "    with open (\"./test_graphs/\" + dataset_names[i] + \" test.json\", \"w\") as file_object:\n",
    "        file_object.write(test_object)"
   ]
  },
  {
   "cell_type": "code",
   "execution_count": null,
   "metadata": {},
   "outputs": [],
   "source": [
    "import itertools\n",
    "\n",
    "all = list(itertools.combinations(parser.parse_commands_into_subsets(parser.novice_commands, 5), 5))\n"
   ]
  },
  {
   "cell_type": "code",
   "execution_count": null,
   "metadata": {},
   "outputs": [],
   "source": [
    "import sys\n",
    "\n",
    "sys.getsizeof(all)"
   ]
  }
 ],
 "metadata": {
  "interpreter": {
   "hash": "b0fa6594d8f4cbf19f97940f81e996739fb7646882a419484c72d19e05852a7e"
  },
  "kernelspec": {
   "display_name": "Python 3.9.10 64-bit",
   "language": "python",
   "name": "python3"
  },
  "language_info": {
   "codemirror_mode": {
    "name": "ipython",
    "version": 3
   },
   "file_extension": ".py",
   "mimetype": "text/x-python",
   "name": "python",
   "nbconvert_exporter": "python",
   "pygments_lexer": "ipython3",
   "version": "3.9.10"
  },
  "orig_nbformat": 4
 },
 "nbformat": 4,
 "nbformat_minor": 2
}
