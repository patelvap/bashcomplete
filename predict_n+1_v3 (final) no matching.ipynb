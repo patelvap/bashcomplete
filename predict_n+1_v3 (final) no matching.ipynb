{
 "cells": [
  {
   "cell_type": "markdown",
   "metadata": {},
   "source": [
    "Notebook to predict N+1 command where N is 1..4 and command sets can be up to len 5"
   ]
  },
  {
   "cell_type": "markdown",
   "metadata": {},
   "source": [
    "Construct Graph Function. Also contains `adjust_session` which removes duplicate commands in subsets."
   ]
  },
  {
   "cell_type": "code",
   "execution_count": 7,
   "metadata": {},
   "outputs": [],
   "source": [
    "from graph_no_fuzz import Node\n",
    "\n",
    "def adjust_session(session, frequencies = []):\n",
    "    if len(session) == 2:\n",
    "        if session[0] == session[1]:\n",
    "            session = [session[0]]\n",
    "            frequencies = [2]\n",
    "        else:\n",
    "            frequencies = [1] * len(session)\n",
    "    elif len(session) == 3:\n",
    "        if session[0] == session[1] and session[0] == session[2]:\n",
    "            session = session[:1]\n",
    "            frequencies = [3]\n",
    "        else:\n",
    "            frequencies = [1] * len(session)\n",
    "    elif len(session) == 4:\n",
    "        if session[0] == session[2] and session[1] == session[3]:\n",
    "            session = [session[0], session[1]]\n",
    "            frequencies = [2, 2]\n",
    "        else:\n",
    "            frequencies = [1] * len(session)\n",
    "    elif len(session) == 5:\n",
    "        if session[0] == session[1] and session[0] == session[2]:\n",
    "            session = [session[0], session[3], session[4]]\n",
    "            frequencies = [3, 1, 1]\n",
    "        elif session[0] == session[2] and session[1] == session[3]:\n",
    "            session = [session[0], session[1], session[4]]\n",
    "            frequencies = [2, 2, 1]\n",
    "        else:\n",
    "            frequencies = [1] * len(session)\n",
    "    else:\n",
    "        frequencies = [1] * len(session)\n",
    "\n",
    "    return session, frequencies\n",
    "\n",
    "\n",
    "def construct_graph(command_list, command_dict={}):\n",
    "\n",
    "    filter_empty = lambda x: (len(x) > 0)\n",
    "    cur_node = None\n",
    "    child_node = None\n",
    "    \n",
    "    for session in command_list:\n",
    "        # remove commands of length 0 ( not good to modify list within loop )\n",
    "        session = list(filter(filter_empty, session))\n",
    "\n",
    "        try: \n",
    "            first_cmd = session[0]\n",
    "        except Exception as inst:\n",
    "            print(session)\n",
    "            continue\n",
    "\n",
    "        program = session[0].split()[0]\n",
    "\n",
    "        # change this to frequency array of length program\n",
    "        # and add frequency based on index to it    \n",
    "        freq_addition = []\n",
    "        session, freq_addition = adjust_session(session=session)\n",
    "\n",
    "        if command_dict.get(program) is None:\n",
    "            cur_node = Node(program=program, frequency=freq_addition[0])\n",
    "            command_dict[program] = cur_node \n",
    "        else:\n",
    "            cur_node = command_dict.get(program)\n",
    "            cur_node.frequency += freq_addition[0]\n",
    "\n",
    "        # what does this do?\n",
    "        if cur_node.commands.get(first_cmd) is None:\n",
    "            cur_node.commands[first_cmd] = freq_addition[0]\n",
    "        else:\n",
    "            cur_node.commands[first_cmd] += freq_addition[0]\n",
    "\n",
    "        for cmd in range(1, len(session)):\n",
    "\n",
    "            # remove\n",
    "            if cmd >= len(freq_addition):\n",
    "                    print(session, len(session))\n",
    "                    print(freq_addition, len(freq_addition))\n",
    "\n",
    "            if session[cmd].isprintable() is False:\n",
    "                break\n",
    "            else:\n",
    "                program = session[cmd].split()[0]\n",
    "\n",
    "            if cur_node.children.get(program) is None:\n",
    "                child_node = Node(program = program, frequency=freq_addition[cmd])\n",
    "                cur_node.children[program] = child_node\n",
    "            else:\n",
    "                child_node = cur_node.children.get(program)\n",
    "                child_node.frequency += freq_addition[cmd]\n",
    "            \n",
    "            # ?????\n",
    "            if child_node.commands.get(session[cmd]) is None:\n",
    "                child_node.commands[session[cmd]] = freq_addition[cmd]\n",
    "            else:\n",
    "                child_node.commands[session[cmd]] += freq_addition[cmd]\n",
    "            \n",
    "            cur_node = child_node\n",
    "        \n",
    "    return command_dict"
   ]
  },
  {
   "cell_type": "markdown",
   "metadata": {},
   "source": [
    "Get Prediction Function. Traverses down graph and returns prediction if there is one, else returns None"
   ]
  },
  {
   "cell_type": "code",
   "execution_count": 8,
   "metadata": {},
   "outputs": [],
   "source": [
    "def get_prediction(command_list: list[str], graph, result_size=5, graph_depth=4):\n",
    "    if len(command_list) == 0:\n",
    "        return None\n",
    "\n",
    "    commands = command_list[:graph_depth]\n",
    "    # should be labeled last command\n",
    "    last_command = command_list[graph_depth]\n",
    "\n",
    "    if len(commands) == 0:\n",
    "        return None, [-1]\n",
    "\n",
    "    program = commands[0].split()[0]\n",
    "\n",
    "    frequencies = []\n",
    "    \n",
    "    if graph.get(program) is None:\n",
    "        frequencies.append(-1)\n",
    "        return None, frequencies\n",
    "    else:\n",
    "        node = graph[program]\n",
    "        frequencies.append(node.frequency)\n",
    "\n",
    "    for command in commands[1:]:\n",
    "        program = command.split()[0]\n",
    "        if node.children.get(program) is not None:\n",
    "            node = node.children[program]\n",
    "            frequencies.append(node.frequency)\n",
    "        else:\n",
    "            frequencies.append(-1)\n",
    "            return None, frequencies\n",
    "    \n",
    "    # last frequency if it has it\n",
    "    next_program = last_command.split()[0]\n",
    "\n",
    "    if node.children.get(next_program) is not None:\n",
    "        frequencies.append(node.children[next_program].frequency)\n",
    "    else:\n",
    "        frequencies.append(-1)\n",
    "    \n",
    "    # previous command should be command_list[depth-1]\n",
    "    return node.get_prediction(previous_command=command_list[graph_depth-1], num_to_return=result_size), frequencies"
   ]
  },
  {
   "cell_type": "markdown",
   "metadata": {},
   "source": [
    "Accuracy Function. Uses fuzzy matching to determine accuracy up to a threshold. Boolean parameters in `get_accuracy` determine logging successes and fails to lists that can be printed later. `get_accuracy` checks if the correct prediction was in the first 3, 5, and 15 predictions. "
   ]
  },
  {
   "cell_type": "code",
   "execution_count": 9,
   "metadata": {},
   "outputs": [],
   "source": [
    "from thefuzz import fuzz\n",
    "from thefuzz import process\n",
    "\n",
    "from statistics import mean\n",
    "\n",
    "from tqdm import tqdm\n",
    "\n",
    "from sklearn.model_selection import train_test_split\n",
    "\n",
    "import pprint\n",
    "pp = pprint.PrettyPrinter(indent=4)\n",
    "\n",
    "def append_list(lst, results, commands, graph_depth):\n",
    "    lst.append({\"Results\": results, \"Expected\": commands[graph_depth], \"Command Sequence\": commands})\n",
    "\n",
    "def get_accuracy(command_subsets, fail_list = [], fail_frequencies= [], succeed_list = [], succeed_frequencies = [], correct_5_not_3= [], correct_15_not_5 = [], print_fails=False, graph_depth=-1):\n",
    "    train_data, test_data = train_test_split(command_subsets, test_size=0.2, train_size=0.8, random_state=42)\n",
    "\n",
    "    train_graph = construct_graph(train_data)\n",
    "\n",
    "    # filter out nodes that can't get prediction because not enough length so don't contribute and will cause error\n",
    "    if (graph_depth != -1):\n",
    "        test_data = [x for x in test_data if len(x) > graph_depth]\n",
    "    else:\n",
    "        test_data = [x for x in test_data if len(x) >= 2]\n",
    "        \n",
    "    test_size = len(test_data)\n",
    "\n",
    "    return_3 = 3\n",
    "    return_5 = 5\n",
    "    return_15 = 15\n",
    "\n",
    "    correct = 0\n",
    "    correct_with_5 = 0\n",
    "    correct_with_15 = 0\n",
    "    first_prediction = 0\n",
    "    has_prediction = 0\n",
    "    incorrect = 0\n",
    "    none_count = 0\n",
    "\n",
    "    for commands in tqdm(test_data, leave=False):\n",
    "        results_3, frequencies = get_prediction(commands, train_graph, return_3, graph_depth)\n",
    "        results_5, _ = get_prediction(commands, train_graph, return_5, graph_depth)\n",
    "        results_15, _ = get_prediction(commands, train_graph, return_15, graph_depth)\n",
    "\n",
    "        command_freq = [(commands[i], frequencies[i]) for i in range(len(frequencies))]\n",
    "        \n",
    "        prev_correct = correct\n",
    "        prev5_correct =  correct_with_5\n",
    "\n",
    "        if results_3 is not None:\n",
    "            has_prediction += 1\n",
    "\n",
    "            for i in range(len(results_3)):\n",
    "                if fuzz.ratio(results_3[i][0], commands[graph_depth]) > 85:\n",
    "                    correct += 1\n",
    "\n",
    "                    succeed_frequencies.append(mean(frequencies))\n",
    "\n",
    "                    if correct <= 100:\n",
    "                        append_list(succeed_list, results_5, command_freq, graph_depth)\n",
    "\n",
    "                    if i == 0:\n",
    "                        first_prediction += 1\n",
    "                \n",
    "                    break\n",
    "\n",
    "            if prev_correct == correct:\n",
    "                fail_frequencies.append(mean(frequencies))\n",
    "                incorrect += 1\n",
    "\n",
    "            for i in range(len(results_5)):\n",
    "                if fuzz.ratio(results_5[i][0], commands[graph_depth]) > 85:\n",
    "                    correct_with_5 += 1\n",
    "\n",
    "                    if correct_with_5 - correct <= 100 and prev_correct == correct:\n",
    "                        append_list(correct_5_not_3, results_5, command_freq, graph_depth)\n",
    "\n",
    "                    break\n",
    "\n",
    "            for i in range(len(results_15)):\n",
    "                if fuzz.ratio(results_15[i][0], commands[graph_depth]) > 85:\n",
    "                    correct_with_15 += 1\n",
    "\n",
    "                    if correct_with_15 - correct <= 100 and prev5_correct == correct_with_5:\n",
    "                        append_list(correct_15_not_5, results_15, command_freq, graph_depth)\n",
    "\n",
    "                    break\n",
    "\n",
    "        else:\n",
    "            none_count += 1\n",
    "\n",
    "        if results_5 is not None and prev_correct == correct and print_fails:\n",
    "            append_list(fail_list, results_5, command_freq, graph_depth)  \n",
    "                              \n",
    "    return 'Correct Proportion: {:.2f}% |\\n Correct in 5 not 3: {:.2f}% |\\n Correct in 15 not 5: {:.2f}% |\\n Has Prediction and is Correct: {:.2f}% |\\n Incorrect Proportion: {:.2f}% |\\n None Proportion: {:.2f}% |\\n First Prediction: {:.2f}% |\\n Average Success Freq: {:.2f} |\\n Average Fail Freq: {:.2f}'.format(100 * correct/(test_size-none_count), 100 * correct_with_5/(test_size-none_count), 100 * correct_with_15/(test_size-none_count), 100 * correct/has_prediction, 100 * incorrect/(test_size-none_count), 100 * none_count/test_size, 100 * first_prediction/test_size, mean(succeed_frequencies)/len(train_data), mean(fail_frequencies)/len(train_data))\n"
   ]
  },
  {
   "cell_type": "markdown",
   "metadata": {},
   "source": [
    "Init parser"
   ]
  },
  {
   "cell_type": "code",
   "execution_count": 10,
   "metadata": {},
   "outputs": [
    {
     "name": "stderr",
     "output_type": "stream",
     "text": [
      "100%|██████████| 52/52 [00:10<00:00,  5.09it/s]\n",
      "100%|██████████| 36/36 [00:05<00:00,  6.25it/s]\n",
      "100%|██████████| 25/25 [00:02<00:00, 10.82it/s]\n",
      "100%|██████████| 56/56 [00:06<00:00,  8.73it/s]\n"
     ]
    }
   ],
   "source": [
    "from parse import Parser\n",
    "\n",
    "parser = Parser()"
   ]
  },
  {
   "cell_type": "markdown",
   "metadata": {},
   "source": [
    "All Commands Parse and Replace Args"
   ]
  },
  {
   "cell_type": "code",
   "execution_count": 11,
   "metadata": {},
   "outputs": [
    {
     "name": "stderr",
     "output_type": "stream",
     "text": [
      "100%|██████████| 52/52 [00:10<00:00,  4.96it/s]\n",
      "100%|██████████| 36/36 [00:05<00:00,  6.14it/s]\n",
      "100%|██████████| 25/25 [00:02<00:00, 10.30it/s]\n",
      "100%|██████████| 56/56 [00:06<00:00,  8.30it/s]\n"
     ]
    }
   ],
   "source": [
    "subset_size = 5\n",
    "\n",
    "science_session = parser.parse_commands_per_session(parser.scientists_files)\n",
    "science_session = parser.parse_commands_into_subsets_sliding_window(science_session, subset_size)\n",
    "science_session = parser.replace_args_nested(science_session)\n",
    "\n",
    "experienced_session = parser.parse_commands_per_session(parser.experienced_files)\n",
    "experienced_session = parser.parse_commands_into_subsets_sliding_window(experienced_session, subset_size)\n",
    "experienced_session = parser.replace_args_nested(experienced_session)\n",
    "\n",
    "non_session = parser.parse_commands_per_session(parser.non_programmers_files)\n",
    "non_session = parser.parse_commands_into_subsets_sliding_window(non_session, subset_size)\n",
    "non_session = parser.replace_args_nested(non_session)\n",
    "\n",
    "novice_session = parser.parse_commands_per_session(parser.novice_files)\n",
    "novice_session = parser.parse_commands_into_subsets_sliding_window(novice_session, subset_size)\n",
    "novice_session = parser.replace_args_nested(novice_session)"
   ]
  },
  {
   "cell_type": "markdown",
   "metadata": {},
   "source": [
    "Predicting last command from 1..n-1 commands"
   ]
  },
  {
   "cell_type": "code",
   "execution_count": 6,
   "metadata": {},
   "outputs": [
    {
     "name": "stderr",
     "output_type": "stream",
     "text": [
      "                                                       \r"
     ]
    },
    {
     "name": "stdout",
     "output_type": "stream",
     "text": [
      "Scientist session:\n",
      " Correct Proportion: 41.87% |\n",
      " Correct in 5 not 3: 48.35% |\n",
      " Correct in 15 not 5: 60.57% |\n",
      " Has Prediction and is Correct: 41.87% |\n",
      " Incorrect Proportion: 56.23% |\n",
      " None Proportion: 3.27% |\n",
      " First Prediction: 26.27% |\n",
      " Average Success Freq: 0.02 |\n",
      " Average Fail Freq: 0.02 \n",
      "\n"
     ]
    },
    {
     "name": "stderr",
     "output_type": "stream",
     "text": [
      "                                                       \r"
     ]
    },
    {
     "name": "stdout",
     "output_type": "stream",
     "text": [
      "Experienced session:\n",
      " Correct Proportion: 44.55% |\n",
      " Correct in 5 not 3: 51.53% |\n",
      " Correct in 15 not 5: 62.86% |\n",
      " Has Prediction and is Correct: 44.55% |\n",
      " Incorrect Proportion: 53.61% |\n",
      " None Proportion: 3.31% |\n",
      " First Prediction: 27.23% |\n",
      " Average Success Freq: 0.04 |\n",
      " Average Fail Freq: 0.04 \n",
      "\n"
     ]
    },
    {
     "name": "stderr",
     "output_type": "stream",
     "text": [
      "                                                       \r"
     ]
    },
    {
     "name": "stdout",
     "output_type": "stream",
     "text": [
      "Non programmer session:\n",
      " Correct Proportion: 45.25% |\n",
      " Correct in 5 not 3: 53.45% |\n",
      " Correct in 15 not 5: 65.63% |\n",
      " Has Prediction and is Correct: 45.25% |\n",
      " Incorrect Proportion: 53.73% |\n",
      " None Proportion: 1.87% |\n",
      " First Prediction: 27.29% |\n",
      " Average Success Freq: 0.14 |\n",
      " Average Fail Freq: 0.14 \n",
      "\n"
     ]
    },
    {
     "name": "stderr",
     "output_type": "stream",
     "text": [
      "                                                       \r"
     ]
    },
    {
     "name": "stdout",
     "output_type": "stream",
     "text": [
      "Novice session:\n",
      " Correct Proportion: 64.12% |\n",
      " Correct in 5 not 3: 70.11% |\n",
      " Correct in 15 not 5: 78.49% |\n",
      " Has Prediction and is Correct: 64.12% |\n",
      " Incorrect Proportion: 35.33% |\n",
      " None Proportion: 1.51% |\n",
      " First Prediction: 40.91% |\n",
      " Average Success Freq: 0.06 |\n",
      " Average Fail Freq: 0.05 \n",
      "\n"
     ]
    }
   ],
   "source": [
    "i = -1\n",
    "\n",
    "print(\"Scientist session:\\n\", get_accuracy(science_session, graph_depth=i), '\\n')\n",
    "print(\"Experienced session:\\n\", get_accuracy(experienced_session, graph_depth=i), '\\n')\n",
    "print(\"Non programmer session:\\n\", get_accuracy(non_session, graph_depth=i), '\\n')\n",
    "print(\"Novice session:\\n\", get_accuracy(novice_session, graph_depth=i), '\\n')"
   ]
  },
  {
   "cell_type": "markdown",
   "metadata": {},
   "source": [
    "Predicting N from 1..N-1 for all"
   ]
  },
  {
   "cell_type": "code",
   "execution_count": 7,
   "metadata": {},
   "outputs": [
    {
     "name": "stderr",
     "output_type": "stream",
     "text": [
      "                                                         \r"
     ]
    },
    {
     "name": "stdout",
     "output_type": "stream",
     "text": [
      "Correct Proportion: 59.05% |\n",
      " Correct in 5 not 3: 66.01% |\n",
      " Correct in 15 not 5: 77.76% |\n",
      " Has Prediction and is Correct: 59.05% |\n",
      " Incorrect Proportion: 40.78% |\n",
      " None Proportion: 0.43% |\n",
      " First Prediction: 39.82% |\n",
      " Average Success Freq: 0.03 |\n",
      " Average Fail Freq: 0.03\n"
     ]
    }
   ],
   "source": [
    "i = -1\n",
    "\n",
    "all = science_session + experienced_session + non_session + novice_session\n",
    "\n",
    "print(get_accuracy(all, graph_depth=i))"
   ]
  },
  {
   "cell_type": "markdown",
   "metadata": {},
   "source": [
    "Predicting for all"
   ]
  },
  {
   "cell_type": "code",
   "execution_count": 8,
   "metadata": {},
   "outputs": [
    {
     "name": "stdout",
     "output_type": "stream",
     "text": [
      "Accuracy predicting command 2 from commands 1 through 1:\n",
      "\n"
     ]
    },
    {
     "name": "stderr",
     "output_type": "stream",
     "text": [
      "                                                        \r"
     ]
    },
    {
     "name": "stdout",
     "output_type": "stream",
     "text": [
      "Correct Proportion: 42.63% |\n",
      " Correct in 5 not 3: 50.50% |\n",
      " Correct in 15 not 5: 66.32% |\n",
      " Has Prediction and is Correct: 42.63% |\n",
      " Incorrect Proportion: 57.37% |\n",
      " None Proportion: 0.00% |\n",
      " First Prediction: 25.77% |\n",
      " Average Success Freq: 0.05 |\n",
      " Average Fail Freq: 0.05 \n",
      "\n",
      "Accuracy predicting command 3 from commands 1 through 2:\n",
      "\n"
     ]
    },
    {
     "name": "stderr",
     "output_type": "stream",
     "text": [
      "                                                         \r"
     ]
    },
    {
     "name": "stdout",
     "output_type": "stream",
     "text": [
      "Correct Proportion: 56.81% |\n",
      " Correct in 5 not 3: 64.96% |\n",
      " Correct in 15 not 5: 79.43% |\n",
      " Has Prediction and is Correct: 56.81% |\n",
      " Incorrect Proportion: 43.19% |\n",
      " None Proportion: 0.00% |\n",
      " First Prediction: 36.53% |\n",
      " Average Success Freq: 0.05 |\n",
      " Average Fail Freq: 0.05 \n",
      "\n",
      "Accuracy predicting command 4 from commands 1 through 3:\n",
      "\n"
     ]
    },
    {
     "name": "stderr",
     "output_type": "stream",
     "text": [
      "                                                       \r"
     ]
    },
    {
     "name": "stdout",
     "output_type": "stream",
     "text": [
      "Correct Proportion: 68.78% |\n",
      " Correct in 5 not 3: 76.36% |\n",
      " Correct in 15 not 5: 87.73% |\n",
      " Has Prediction and is Correct: 68.78% |\n",
      " Incorrect Proportion: 31.21% |\n",
      " None Proportion: 0.03% |\n",
      " First Prediction: 44.13% |\n",
      " Average Success Freq: 0.05 |\n",
      " Average Fail Freq: 0.05 \n",
      "\n",
      "Accuracy predicting command 5 from commands 1 through 4:\n",
      "\n"
     ]
    },
    {
     "name": "stderr",
     "output_type": "stream",
     "text": [
      "                                                        \r"
     ]
    },
    {
     "name": "stdout",
     "output_type": "stream",
     "text": [
      "Correct Proportion: 70.00% |\n",
      " Correct in 5 not 3: 74.27% |\n",
      " Correct in 15 not 5: 79.57% |\n",
      " Has Prediction and is Correct: 70.00% |\n",
      " Incorrect Proportion: 29.45% |\n",
      " None Proportion: 1.81% |\n",
      " First Prediction: 53.59% |\n",
      " Average Success Freq: 0.06 |\n",
      " Average Fail Freq: 0.06 \n",
      "\n"
     ]
    }
   ],
   "source": [
    "all = science_session + experienced_session + non_session + novice_session\n",
    "\n",
    "for i in range(1, 5):\n",
    "    print(\"Accuracy predicting command {} from commands {} through {}:\\n\".format(i+1, 1, i))\n",
    "\n",
    "    print(get_accuracy(all, graph_depth=i), '\\n')"
   ]
  },
  {
   "cell_type": "markdown",
   "metadata": {},
   "source": [
    "~500 command sets"
   ]
  },
  {
   "cell_type": "code",
   "execution_count": 11,
   "metadata": {},
   "outputs": [
    {
     "name": "stdout",
     "output_type": "stream",
     "text": [
      "978861\n",
      "489\n",
      "Accuracy predicting command 2 from commands 1 through 1:\n",
      "\n"
     ]
    },
    {
     "name": "stderr",
     "output_type": "stream",
     "text": [
      "                                                \r"
     ]
    },
    {
     "name": "stdout",
     "output_type": "stream",
     "text": [
      "Correct Proportion: 53.06% |\n",
      " Correct in 5 not 3: 56.12% |\n",
      " Correct in 15 not 5: 78.57% |\n",
      " Has Prediction and is Correct: 53.06% |\n",
      " Incorrect Proportion: 46.94% |\n",
      " None Proportion: 0.00% |\n",
      " First Prediction: 36.73% |\n",
      " Average Success Freq: 141.21 |\n",
      " Average Fail Freq: 145.96 \n",
      "\n",
      "Accuracy predicting command 3 from commands 1 through 2:\n",
      "\n"
     ]
    },
    {
     "name": "stderr",
     "output_type": "stream",
     "text": [
      "                                      \r"
     ]
    },
    {
     "name": "stdout",
     "output_type": "stream",
     "text": [
      "Correct Proportion: 60.00% |\n",
      " Correct in 5 not 3: 65.71% |\n",
      " Correct in 15 not 5: 81.43% |\n",
      " Has Prediction and is Correct: 60.00% |\n",
      " Incorrect Proportion: 40.00% |\n",
      " None Proportion: 0.00% |\n",
      " First Prediction: 42.86% |\n",
      " Average Success Freq: 141.22 |\n",
      " Average Fail Freq: 145.97 \n",
      "\n",
      "Accuracy predicting command 4 from commands 1 through 3:\n",
      "\n"
     ]
    },
    {
     "name": "stderr",
     "output_type": "stream",
     "text": [
      "                                      \r"
     ]
    },
    {
     "name": "stdout",
     "output_type": "stream",
     "text": [
      "Correct Proportion: 75.00% |\n",
      " Correct in 5 not 3: 81.25% |\n",
      " Correct in 15 not 5: 91.67% |\n",
      " Has Prediction and is Correct: 75.00% |\n",
      " Incorrect Proportion: 25.00% |\n",
      " None Proportion: 0.00% |\n",
      " First Prediction: 50.00% |\n",
      " Average Success Freq: 141.22 |\n",
      " Average Fail Freq: 145.97 \n",
      "\n",
      "Accuracy predicting command 5 from commands 1 through 4:\n",
      "\n"
     ]
    },
    {
     "name": "stderr",
     "output_type": "stream",
     "text": [
      "                                      \r"
     ]
    },
    {
     "name": "stdout",
     "output_type": "stream",
     "text": [
      "Correct Proportion: 86.36% |\n",
      " Correct in 5 not 3: 86.36% |\n",
      " Correct in 15 not 5: 95.45% |\n",
      " Has Prediction and is Correct: 86.36% |\n",
      " Incorrect Proportion: 13.64% |\n",
      " None Proportion: 0.00% |\n",
      " First Prediction: 72.73% |\n",
      " Average Success Freq: 141.22 |\n",
      " Average Fail Freq: 145.97 \n",
      "\n"
     ]
    },
    {
     "name": "stderr",
     "output_type": "stream",
     "text": [
      "                                      \r"
     ]
    },
    {
     "name": "stdout",
     "output_type": "stream",
     "text": [
      "Correct Proportion: 67.35% |\n",
      " Correct in 5 not 3: 70.41% |\n",
      " Correct in 15 not 5: 84.69% |\n",
      " Has Prediction and is Correct: 67.35% |\n",
      " Incorrect Proportion: 32.65% |\n",
      " None Proportion: 0.00% |\n",
      " First Prediction: 50.00% |\n",
      " Average Success Freq: 141.24 |\n",
      " Average Fail Freq: 145.98 \n",
      "\n"
     ]
    }
   ],
   "source": [
    "from random import sample \n",
    "import math\n",
    "\n",
    "all = science_session + experienced_session + non_session + novice_session\n",
    "print(len(all))\n",
    "\n",
    "all = sample(all, math.floor(.0005 * len(all)))\n",
    "print(len(all))\n",
    "\n",
    "for i in range(1, 5):\n",
    "    print(\"Accuracy predicting command {} from commands {} through {}:\\n\".format(i+1, 1, i))\n",
    "\n",
    "    print(get_accuracy(all, graph_depth=i), '\\n')\n",
    "\n",
    "print(get_accuracy(all, graph_depth=-1), '\\n')"
   ]
  },
  {
   "cell_type": "markdown",
   "metadata": {},
   "source": [
    "Around 15000 command subsets"
   ]
  },
  {
   "cell_type": "code",
   "execution_count": 20,
   "metadata": {},
   "outputs": [
    {
     "name": "stdout",
     "output_type": "stream",
     "text": [
      "Accuracy predicting command 2 from commands 1 through 1:\n"
     ]
    },
    {
     "name": "stderr",
     "output_type": "stream",
     "text": [
      "                                                    \r"
     ]
    },
    {
     "name": "stdout",
     "output_type": "stream",
     "text": [
      "Scientist session:\n",
      " Correct Proportion: 33.64% |\n",
      " Correct in 5 not 3: 41.20% |\n",
      " Correct in 15 not 5: 58.49% |\n",
      " Has Prediction and is Correct: 33.64% |\n",
      " Incorrect Proportion: 66.14% |\n",
      " None Proportion: 0.33% |\n",
      " First Prediction: 19.48% |\n",
      " Average Success Freq: 0.20 |\n",
      " Average Fail Freq: 0.18\n"
     ]
    },
    {
     "name": "stderr",
     "output_type": "stream",
     "text": [
      "                                                    \r"
     ]
    },
    {
     "name": "stdout",
     "output_type": "stream",
     "text": [
      "Experienced session:\n",
      " Correct Proportion: 37.54% |\n",
      " Correct in 5 not 3: 46.13% |\n",
      " Correct in 15 not 5: 62.18% |\n",
      " Has Prediction and is Correct: 37.54% |\n",
      " Incorrect Proportion: 62.26% |\n",
      " None Proportion: 0.33% |\n",
      " First Prediction: 20.34% |\n",
      " Average Success Freq: 0.35 |\n",
      " Average Fail Freq: 0.32\n"
     ]
    },
    {
     "name": "stderr",
     "output_type": "stream",
     "text": [
      "                                                    \r"
     ]
    },
    {
     "name": "stdout",
     "output_type": "stream",
     "text": [
      "Non programmer session:\n",
      " Correct Proportion: 41.00% |\n",
      " Correct in 5 not 3: 47.60% |\n",
      " Correct in 15 not 5: 63.93% |\n",
      " Has Prediction and is Correct: 41.00% |\n",
      " Incorrect Proportion: 58.85% |\n",
      " None Proportion: 0.26% |\n",
      " First Prediction: 22.43% |\n",
      " Average Success Freq: 1.12 |\n",
      " Average Fail Freq: 1.04\n"
     ]
    },
    {
     "name": "stderr",
     "output_type": "stream",
     "text": [
      "                                                    \r"
     ]
    },
    {
     "name": "stdout",
     "output_type": "stream",
     "text": [
      "Novice session:\n",
      " Correct Proportion: 59.63% |\n",
      " Correct in 5 not 3: 67.78% |\n",
      " Correct in 15 not 5: 79.82% |\n",
      " Has Prediction and is Correct: 59.63% |\n",
      " Incorrect Proportion: 40.23% |\n",
      " None Proportion: 0.36% |\n",
      " First Prediction: 39.91% |\n",
      " Average Success Freq: 0.40 |\n",
      " Average Fail Freq: 0.35\n"
     ]
    },
    {
     "name": "stderr",
     "output_type": "stream",
     "text": [
      "                                                    \r"
     ]
    },
    {
     "name": "stdout",
     "output_type": "stream",
     "text": [
      "All commands:\n",
      " Correct Proportion: 42.76% |\n",
      " Correct in 5 not 3: 50.79% |\n",
      " Correct in 15 not 5: 66.19% |\n",
      " Has Prediction and is Correct: 42.76% |\n",
      " Incorrect Proportion: 57.15% |\n",
      " None Proportion: 0.15% |\n",
      " First Prediction: 25.33% |\n",
      " Average Success Freq: 1.05 |\n",
      " Average Fail Freq: 0.90\n",
      "Accuracy predicting command 3 from commands 1 through 2:\n"
     ]
    },
    {
     "name": "stderr",
     "output_type": "stream",
     "text": [
      "                                                     \r"
     ]
    },
    {
     "name": "stdout",
     "output_type": "stream",
     "text": [
      "Scientist session:\n",
      " Correct Proportion: 46.93% |\n",
      " Correct in 5 not 3: 54.08% |\n",
      " Correct in 15 not 5: 68.66% |\n",
      " Has Prediction and is Correct: 46.93% |\n",
      " Incorrect Proportion: 52.04% |\n",
      " None Proportion: 1.94% |\n",
      " First Prediction: 29.30% |\n",
      " Average Success Freq: 0.26 |\n",
      " Average Fail Freq: 0.23\n"
     ]
    },
    {
     "name": "stderr",
     "output_type": "stream",
     "text": [
      "                                                     \r"
     ]
    },
    {
     "name": "stdout",
     "output_type": "stream",
     "text": [
      "Experienced session:\n",
      " Correct Proportion: 51.46% |\n",
      " Correct in 5 not 3: 59.03% |\n",
      " Correct in 15 not 5: 71.65% |\n",
      " Has Prediction and is Correct: 51.46% |\n",
      " Incorrect Proportion: 47.34% |\n",
      " None Proportion: 2.46% |\n",
      " First Prediction: 31.18% |\n",
      " Average Success Freq: 0.43 |\n",
      " Average Fail Freq: 0.38\n"
     ]
    },
    {
     "name": "stderr",
     "output_type": "stream",
     "text": [
      "                                                    \r"
     ]
    },
    {
     "name": "stdout",
     "output_type": "stream",
     "text": [
      "Non programmer session:\n",
      " Correct Proportion: 50.49% |\n",
      " Correct in 5 not 3: 59.10% |\n",
      " Correct in 15 not 5: 72.74% |\n",
      " Has Prediction and is Correct: 50.49% |\n",
      " Incorrect Proportion: 48.98% |\n",
      " None Proportion: 1.06% |\n",
      " First Prediction: 30.70% |\n",
      " Average Success Freq: 1.35 |\n",
      " Average Fail Freq: 1.20\n"
     ]
    },
    {
     "name": "stderr",
     "output_type": "stream",
     "text": [
      "                                                     \r"
     ]
    },
    {
     "name": "stdout",
     "output_type": "stream",
     "text": [
      "Novice session:\n",
      " Correct Proportion: 69.00% |\n",
      " Correct in 5 not 3: 75.55% |\n",
      " Correct in 15 not 5: 85.70% |\n",
      " Has Prediction and is Correct: 69.00% |\n",
      " Incorrect Proportion: 30.57% |\n",
      " None Proportion: 1.37% |\n",
      " First Prediction: 47.04% |\n",
      " Average Success Freq: 0.45 |\n",
      " Average Fail Freq: 0.38\n"
     ]
    },
    {
     "name": "stderr",
     "output_type": "stream",
     "text": [
      "                                                     \r"
     ]
    },
    {
     "name": "stdout",
     "output_type": "stream",
     "text": [
      "All commands:\n",
      " Correct Proportion: 58.81% |\n",
      " Correct in 5 not 3: 67.27% |\n",
      " Correct in 15 not 5: 81.19% |\n",
      " Has Prediction and is Correct: 58.81% |\n",
      " Incorrect Proportion: 40.93% |\n",
      " None Proportion: 0.63% |\n",
      " First Prediction: 38.92% |\n",
      " Average Success Freq: 1.14 |\n",
      " Average Fail Freq: 0.98\n",
      "Accuracy predicting command 4 from commands 1 through 3:\n"
     ]
    },
    {
     "name": "stderr",
     "output_type": "stream",
     "text": [
      "                                                      \r"
     ]
    },
    {
     "name": "stdout",
     "output_type": "stream",
     "text": [
      "Scientist session:\n",
      " Correct Proportion: 52.17% |\n",
      " Correct in 5 not 3: 57.08% |\n",
      " Correct in 15 not 5: 64.73% |\n",
      " Has Prediction and is Correct: 52.17% |\n",
      " Incorrect Proportion: 42.30% |\n",
      " None Proportion: 11.55% |\n",
      " First Prediction: 34.00% |\n",
      " Average Success Freq: 0.28 |\n",
      " Average Fail Freq: 0.24\n"
     ]
    },
    {
     "name": "stderr",
     "output_type": "stream",
     "text": [
      "                                                      \r"
     ]
    },
    {
     "name": "stdout",
     "output_type": "stream",
     "text": [
      "Experienced session:\n",
      " Correct Proportion: 54.22% |\n",
      " Correct in 5 not 3: 59.90% |\n",
      " Correct in 15 not 5: 66.99% |\n",
      " Has Prediction and is Correct: 54.22% |\n",
      " Incorrect Proportion: 40.77% |\n",
      " None Proportion: 10.94% |\n",
      " First Prediction: 33.95% |\n",
      " Average Success Freq: 0.46 |\n",
      " Average Fail Freq: 0.40\n"
     ]
    },
    {
     "name": "stderr",
     "output_type": "stream",
     "text": [
      "                                       \r"
     ]
    },
    {
     "name": "stdout",
     "output_type": "stream",
     "text": [
      "Non programmer session:\n",
      " Correct Proportion: 54.69% |\n",
      " Correct in 5 not 3: 61.14% |\n",
      " Correct in 15 not 5: 71.99% |\n",
      " Has Prediction and is Correct: 54.69% |\n",
      " Incorrect Proportion: 42.16% |\n",
      " None Proportion: 6.96% |\n",
      " First Prediction: 31.51% |\n",
      " Average Success Freq: 1.44 |\n",
      " Average Fail Freq: 1.26\n"
     ]
    },
    {
     "name": "stderr",
     "output_type": "stream",
     "text": [
      "                                                      \r"
     ]
    },
    {
     "name": "stdout",
     "output_type": "stream",
     "text": [
      "Novice session:\n",
      " Correct Proportion: 69.75% |\n",
      " Correct in 5 not 3: 75.10% |\n",
      " Correct in 15 not 5: 83.04% |\n",
      " Has Prediction and is Correct: 69.75% |\n",
      " Incorrect Proportion: 28.61% |\n",
      " None Proportion: 5.44% |\n",
      " First Prediction: 33.84% |\n",
      " Average Success Freq: 0.46 |\n",
      " Average Fail Freq: 0.40\n"
     ]
    },
    {
     "name": "stderr",
     "output_type": "stream",
     "text": [
      "                                       \r"
     ]
    },
    {
     "name": "stdout",
     "output_type": "stream",
     "text": [
      "All commands:\n",
      " Correct Proportion: 72.28% |\n",
      " Correct in 5 not 3: 79.54% |\n",
      " Correct in 15 not 5: 87.46% |\n",
      " Has Prediction and is Correct: 72.28% |\n",
      " Incorrect Proportion: 27.01% |\n",
      " None Proportion: 2.57% |\n",
      " First Prediction: 50.80% |\n",
      " Average Success Freq: 1.17 |\n",
      " Average Fail Freq: 1.01\n",
      "Accuracy predicting command 5 from commands 1 through 4:\n"
     ]
    },
    {
     "name": "stderr",
     "output_type": "stream",
     "text": [
      "                                        \r"
     ]
    },
    {
     "name": "stdout",
     "output_type": "stream",
     "text": [
      "Scientist session:\n",
      " Correct Proportion: 47.11% |\n",
      " Correct in 5 not 3: 50.44% |\n",
      " Correct in 15 not 5: 52.82% |\n",
      " Has Prediction and is Correct: 47.11% |\n",
      " Incorrect Proportion: 35.73% |\n",
      " None Proportion: 32.46% |\n",
      " First Prediction: 25.98% |\n",
      " Average Success Freq: 0.28 |\n",
      " Average Fail Freq: 0.25\n"
     ]
    },
    {
     "name": "stderr",
     "output_type": "stream",
     "text": [
      "                                        \r"
     ]
    },
    {
     "name": "stdout",
     "output_type": "stream",
     "text": [
      "Experienced session:\n",
      " Correct Proportion: 51.53% |\n",
      " Correct in 5 not 3: 54.34% |\n",
      " Correct in 15 not 5: 56.38% |\n",
      " Has Prediction and is Correct: 51.53% |\n",
      " Incorrect Proportion: 33.57% |\n",
      " None Proportion: 30.74% |\n",
      " First Prediction: 29.77% |\n",
      " Average Success Freq: 0.47 |\n",
      " Average Fail Freq: 0.41\n"
     ]
    },
    {
     "name": "stderr",
     "output_type": "stream",
     "text": [
      "                                       \r"
     ]
    },
    {
     "name": "stdout",
     "output_type": "stream",
     "text": [
      "Non programmer session:\n",
      " Correct Proportion: 48.53% |\n",
      " Correct in 5 not 3: 54.04% |\n",
      " Correct in 15 not 5: 58.46% |\n",
      " Has Prediction and is Correct: 48.53% |\n",
      " Incorrect Proportion: 40.00% |\n",
      " None Proportion: 22.29% |\n",
      " First Prediction: 28.29% |\n",
      " Average Success Freq: 1.47 |\n",
      " Average Fail Freq: 1.28\n"
     ]
    },
    {
     "name": "stderr",
     "output_type": "stream",
     "text": [
      "                                        \r"
     ]
    },
    {
     "name": "stdout",
     "output_type": "stream",
     "text": [
      "Novice session:\n",
      " Correct Proportion: 66.21% |\n",
      " Correct in 5 not 3: 68.53% |\n",
      " Correct in 15 not 5: 71.07% |\n",
      " Has Prediction and is Correct: 66.21% |\n",
      " Incorrect Proportion: 28.47% |\n",
      " None Proportion: 15.75% |\n",
      " First Prediction: 43.86% |\n",
      " Average Success Freq: 0.47 |\n",
      " Average Fail Freq: 0.40\n"
     ]
    },
    {
     "name": "stderr",
     "output_type": "stream",
     "text": [
      "                                       \r"
     ]
    },
    {
     "name": "stdout",
     "output_type": "stream",
     "text": [
      "All commands:\n",
      " Correct Proportion: 84.82% |\n",
      " Correct in 5 not 3: 86.99% |\n",
      " Correct in 15 not 5: 89.16% |\n",
      " Has Prediction and is Correct: 84.82% |\n",
      " Incorrect Proportion: 14.06% |\n",
      " None Proportion: 7.37% |\n",
      " First Prediction: 66.52% |\n",
      " Average Success Freq: 1.18 |\n",
      " Average Fail Freq: 1.02\n",
      "Accuracy predicting command N from commands 1 through N-1:\n"
     ]
    },
    {
     "name": "stderr",
     "output_type": "stream",
     "text": [
      "                                                     \r"
     ]
    },
    {
     "name": "stdout",
     "output_type": "stream",
     "text": [
      "Scientist session:\n",
      " Correct Proportion: 43.73% |\n",
      " Correct in 5 not 3: 49.59% |\n",
      " Correct in 15 not 5: 61.20% |\n",
      " Has Prediction and is Correct: 43.73% |\n",
      " Incorrect Proportion: 50.10% |\n",
      " None Proportion: 10.95% |\n",
      " First Prediction: 26.18% |\n",
      " Average Success Freq: 0.29 |\n",
      " Average Fail Freq: 0.26\n"
     ]
    },
    {
     "name": "stderr",
     "output_type": "stream",
     "text": [
      "                                                     \r"
     ]
    },
    {
     "name": "stdout",
     "output_type": "stream",
     "text": [
      "Experienced session:\n",
      " Correct Proportion: 47.99% |\n",
      " Correct in 5 not 3: 54.70% |\n",
      " Correct in 15 not 5: 64.64% |\n",
      " Has Prediction and is Correct: 47.99% |\n",
      " Incorrect Proportion: 46.53% |\n",
      " None Proportion: 10.53% |\n",
      " First Prediction: 28.36% |\n",
      " Average Success Freq: 0.50 |\n",
      " Average Fail Freq: 0.45\n"
     ]
    },
    {
     "name": "stderr",
     "output_type": "stream",
     "text": [
      "                                                     \r"
     ]
    },
    {
     "name": "stdout",
     "output_type": "stream",
     "text": [
      "Non programmer session:\n",
      " Correct Proportion: 48.32% |\n",
      " Correct in 5 not 3: 55.38% |\n",
      " Correct in 15 not 5: 66.83% |\n",
      " Has Prediction and is Correct: 48.32% |\n",
      " Incorrect Proportion: 48.18% |\n",
      " None Proportion: 6.77% |\n",
      " First Prediction: 28.18% |\n",
      " Average Success Freq: 1.56 |\n",
      " Average Fail Freq: 1.42\n"
     ]
    },
    {
     "name": "stderr",
     "output_type": "stream",
     "text": [
      "                                                     \r"
     ]
    },
    {
     "name": "stdout",
     "output_type": "stream",
     "text": [
      "Novice session:\n",
      " Correct Proportion: 65.33% |\n",
      " Correct in 5 not 3: 70.84% |\n",
      " Correct in 15 not 5: 79.60% |\n",
      " Has Prediction and is Correct: 65.33% |\n",
      " Incorrect Proportion: 32.80% |\n",
      " None Proportion: 5.38% |\n",
      " First Prediction: 40.31% |\n",
      " Average Success Freq: 0.52 |\n",
      " Average Fail Freq: 0.46\n"
     ]
    },
    {
     "name": "stderr",
     "output_type": "stream",
     "text": [
      "                                                     \r"
     ]
    },
    {
     "name": "stdout",
     "output_type": "stream",
     "text": [
      "All commands:\n",
      " Correct Proportion: 64.18% |\n",
      " Correct in 5 not 3: 70.69% |\n",
      " Correct in 15 not 5: 81.72% |\n",
      " Has Prediction and is Correct: 64.18% |\n",
      " Incorrect Proportion: 34.83% |\n",
      " None Proportion: 2.76% |\n",
      " First Prediction: 45.61% |\n",
      " Average Success Freq: 1.34 |\n",
      " Average Fail Freq: 1.18\n"
     ]
    }
   ],
   "source": [
    "from random import sample\n",
    "import math\n",
    "\n",
    "sample_size = .1\n",
    "\n",
    "science_sample = sample(science_session, math.floor(sample_size * len(science_session)))\n",
    "experienced_sample = sample(experienced_session, math.floor(sample_size * len(experienced_session)))\n",
    "non_sample = sample(non_session, math.floor(sample_size * len(non_session)))\n",
    "novice_sample = sample(novice_session, math.floor(sample_size * len(novice_session)))\n",
    "\n",
    "all = science_sample + experienced_sample + non_sample + novice_sample\n",
    "all_sample = sample(all, math.floor(sample_size * len(all)))\n",
    "\n",
    "for i in range(1, 5):\n",
    "    print(\"Accuracy predicting command {} from commands {} through {}:\".format(i+1, 1, i))\n",
    "\n",
    "    print(\"Scientist session:\\n\", get_accuracy(science_sample, graph_depth=i))\n",
    "    print(\"Experienced session:\\n\", get_accuracy(experienced_sample, graph_depth=i))\n",
    "    print(\"Non programmer session:\\n\", get_accuracy(non_sample, graph_depth=i))\n",
    "    print(\"Novice session:\\n\", get_accuracy(novice_sample, graph_depth=i))\n",
    "    print(\"All commands:\\n\", get_accuracy(all_sample, graph_depth=i))\n",
    "\n",
    "i = -1\n",
    "\n",
    "print(\"Accuracy predicting command N from commands 1 through N-1:\")\n",
    "\n",
    "print(\"Scientist session:\\n\", get_accuracy(science_sample, graph_depth=i))\n",
    "print(\"Experienced session:\\n\", get_accuracy(experienced_sample, graph_depth=i))\n",
    "print(\"Non programmer session:\\n\", get_accuracy(non_sample, graph_depth=i))\n",
    "print(\"Novice session:\\n\", get_accuracy(novice_sample, graph_depth=i))\n",
    "print(\"All commands:\\n\", get_accuracy(all_sample, graph_depth=i))"
   ]
  },
  {
   "cell_type": "markdown",
   "metadata": {},
   "source": [
    "Accuracy predicting N+1 command from N commands with all commands in graph"
   ]
  },
  {
   "cell_type": "code",
   "execution_count": 13,
   "metadata": {},
   "outputs": [
    {
     "name": "stdout",
     "output_type": "stream",
     "text": [
      "Accuracy predicting command 2 from commands 1 through 1:\n",
      "\n"
     ]
    },
    {
     "name": "stderr",
     "output_type": "stream",
     "text": [
      "                                                      \r"
     ]
    },
    {
     "name": "stdout",
     "output_type": "stream",
     "text": [
      "Scientist session:\n",
      " Correct Proportion: 35.74% |\n",
      " Correct in 5 not 3: 42.81% |\n",
      " Correct in 15 not 5: 60.13% |\n",
      " Has Prediction and is Correct: 35.74% |\n",
      " Incorrect Proportion: 64.26% |\n",
      " None Proportion: 0.00% |\n",
      " First Prediction: 20.47% |\n",
      " Average Success Freq: 0.19 |\n",
      " Average Fail Freq: 0.21 \n",
      "\n"
     ]
    },
    {
     "name": "stderr",
     "output_type": "stream",
     "text": [
      "                                                      \r"
     ]
    },
    {
     "name": "stdout",
     "output_type": "stream",
     "text": [
      "Experienced session:\n",
      " Correct Proportion: 37.64% |\n",
      " Correct in 5 not 3: 46.63% |\n",
      " Correct in 15 not 5: 64.04% |\n",
      " Has Prediction and is Correct: 37.64% |\n",
      " Incorrect Proportion: 62.36% |\n",
      " None Proportion: 0.00% |\n",
      " First Prediction: 20.66% |\n",
      " Average Success Freq: 0.33 |\n",
      " Average Fail Freq: 0.37 \n",
      "\n"
     ]
    },
    {
     "name": "stderr",
     "output_type": "stream",
     "text": [
      "                                                      \r"
     ]
    },
    {
     "name": "stdout",
     "output_type": "stream",
     "text": [
      "Non programmer session:\n",
      " Correct Proportion: 39.30% |\n",
      " Correct in 5 not 3: 46.44% |\n",
      " Correct in 15 not 5: 65.05% |\n",
      " Has Prediction and is Correct: 39.30% |\n",
      " Incorrect Proportion: 60.70% |\n",
      " None Proportion: 0.00% |\n",
      " First Prediction: 22.07% |\n",
      " Average Success Freq: 1.04 |\n",
      " Average Fail Freq: 1.19 \n",
      "\n"
     ]
    },
    {
     "name": "stderr",
     "output_type": "stream",
     "text": [
      "                                                      \r"
     ]
    },
    {
     "name": "stdout",
     "output_type": "stream",
     "text": [
      "Novice session:\n",
      " Correct Proportion: 60.57% |\n",
      " Correct in 5 not 3: 68.89% |\n",
      " Correct in 15 not 5: 80.18% |\n",
      " Has Prediction and is Correct: 60.57% |\n",
      " Incorrect Proportion: 39.43% |\n",
      " None Proportion: 0.00% |\n",
      " First Prediction: 40.90% |\n",
      " Average Success Freq: 0.37 |\n",
      " Average Fail Freq: 0.39 \n",
      "\n",
      "Accuracy predicting command 3 from commands 1 through 2:\n",
      "\n"
     ]
    },
    {
     "name": "stderr",
     "output_type": "stream",
     "text": [
      "                                                       \r"
     ]
    },
    {
     "name": "stdout",
     "output_type": "stream",
     "text": [
      "Scientist session:\n",
      " Correct Proportion: 51.78% |\n",
      " Correct in 5 not 3: 60.29% |\n",
      " Correct in 15 not 5: 76.80% |\n",
      " Has Prediction and is Correct: 51.78% |\n",
      " Incorrect Proportion: 48.22% |\n",
      " None Proportion: 0.00% |\n",
      " First Prediction: 32.43% |\n",
      " Average Success Freq: 0.23 |\n",
      " Average Fail Freq: 0.25 \n",
      "\n"
     ]
    },
    {
     "name": "stderr",
     "output_type": "stream",
     "text": [
      "                                                       \r"
     ]
    },
    {
     "name": "stdout",
     "output_type": "stream",
     "text": [
      "Experienced session:\n",
      " Correct Proportion: 56.31% |\n",
      " Correct in 5 not 3: 64.66% |\n",
      " Correct in 15 not 5: 80.20% |\n",
      " Has Prediction and is Correct: 56.31% |\n",
      " Incorrect Proportion: 43.69% |\n",
      " None Proportion: 0.00% |\n",
      " First Prediction: 35.00% |\n",
      " Average Success Freq: 0.39 |\n",
      " Average Fail Freq: 0.42 \n",
      "\n"
     ]
    },
    {
     "name": "stderr",
     "output_type": "stream",
     "text": [
      "                                                       \r"
     ]
    },
    {
     "name": "stdout",
     "output_type": "stream",
     "text": [
      "Non programmer session:\n",
      " Correct Proportion: 55.15% |\n",
      " Correct in 5 not 3: 64.35% |\n",
      " Correct in 15 not 5: 79.24% |\n",
      " Has Prediction and is Correct: 55.15% |\n",
      " Incorrect Proportion: 44.85% |\n",
      " None Proportion: 0.00% |\n",
      " First Prediction: 32.87% |\n",
      " Average Success Freq: 1.23 |\n",
      " Average Fail Freq: 1.34 \n",
      "\n"
     ]
    },
    {
     "name": "stderr",
     "output_type": "stream",
     "text": [
      "                                                       \r"
     ]
    },
    {
     "name": "stdout",
     "output_type": "stream",
     "text": [
      "Novice session:\n",
      " Correct Proportion: 71.38% |\n",
      " Correct in 5 not 3: 77.87% |\n",
      " Correct in 15 not 5: 88.37% |\n",
      " Has Prediction and is Correct: 71.38% |\n",
      " Incorrect Proportion: 28.62% |\n",
      " None Proportion: 0.00% |\n",
      " First Prediction: 49.40% |\n",
      " Average Success Freq: 0.40 |\n",
      " Average Fail Freq: 0.43 \n",
      "\n",
      "Accuracy predicting command 4 from commands 1 through 3:\n",
      "\n"
     ]
    },
    {
     "name": "stderr",
     "output_type": "stream",
     "text": [
      "                                                        \r"
     ]
    },
    {
     "name": "stdout",
     "output_type": "stream",
     "text": [
      "Scientist session:\n",
      " Correct Proportion: 68.03% |\n",
      " Correct in 5 not 3: 75.52% |\n",
      " Correct in 15 not 5: 87.03% |\n",
      " Has Prediction and is Correct: 68.03% |\n",
      " Incorrect Proportion: 31.95% |\n",
      " None Proportion: 0.04% |\n",
      " First Prediction: 47.98% |\n",
      " Average Success Freq: 0.25 |\n",
      " Average Fail Freq: 0.26 \n",
      "\n"
     ]
    },
    {
     "name": "stderr",
     "output_type": "stream",
     "text": [
      "                                                        \r"
     ]
    },
    {
     "name": "stdout",
     "output_type": "stream",
     "text": [
      "Experienced session:\n",
      " Correct Proportion: 70.60% |\n",
      " Correct in 5 not 3: 78.44% |\n",
      " Correct in 15 not 5: 89.01% |\n",
      " Has Prediction and is Correct: 70.60% |\n",
      " Incorrect Proportion: 29.40% |\n",
      " None Proportion: 0.01% |\n",
      " First Prediction: 50.40% |\n",
      " Average Success Freq: 0.41 |\n",
      " Average Fail Freq: 0.44 \n",
      "\n"
     ]
    },
    {
     "name": "stderr",
     "output_type": "stream",
     "text": [
      "                                                     \r"
     ]
    },
    {
     "name": "stdout",
     "output_type": "stream",
     "text": [
      "Non programmer session:\n",
      " Correct Proportion: 65.27% |\n",
      " Correct in 5 not 3: 74.24% |\n",
      " Correct in 15 not 5: 87.08% |\n",
      " Has Prediction and is Correct: 65.27% |\n",
      " Incorrect Proportion: 34.73% |\n",
      " None Proportion: 0.00% |\n",
      " First Prediction: 42.10% |\n",
      " Average Success Freq: 1.30 |\n",
      " Average Fail Freq: 1.39 \n",
      "\n"
     ]
    },
    {
     "name": "stderr",
     "output_type": "stream",
     "text": [
      "                                                       \r"
     ]
    },
    {
     "name": "stdout",
     "output_type": "stream",
     "text": [
      "Novice session:\n",
      " Correct Proportion: 78.04% |\n",
      " Correct in 5 not 3: 84.18% |\n",
      " Correct in 15 not 5: 92.69% |\n",
      " Has Prediction and is Correct: 78.04% |\n",
      " Incorrect Proportion: 21.95% |\n",
      " None Proportion: 0.02% |\n",
      " First Prediction: 41.89% |\n",
      " Average Success Freq: 0.41 |\n",
      " Average Fail Freq: 0.44 \n",
      "\n",
      "Accuracy predicting command 5 from commands 1 through 4:\n",
      "\n"
     ]
    },
    {
     "name": "stderr",
     "output_type": "stream",
     "text": [
      "                                                        \r"
     ]
    },
    {
     "name": "stdout",
     "output_type": "stream",
     "text": [
      "Scientist session:\n",
      " Correct Proportion: 70.55% |\n",
      " Correct in 5 not 3: 74.53% |\n",
      " Correct in 15 not 5: 80.12% |\n",
      " Has Prediction and is Correct: 70.55% |\n",
      " Incorrect Proportion: 28.85% |\n",
      " None Proportion: 2.03% |\n",
      " First Prediction: 54.76% |\n",
      " Average Success Freq: 0.25 |\n",
      " Average Fail Freq: 0.27 \n",
      "\n"
     ]
    },
    {
     "name": "stderr",
     "output_type": "stream",
     "text": [
      "                                                       \r"
     ]
    },
    {
     "name": "stdout",
     "output_type": "stream",
     "text": [
      "Experienced session:\n",
      " Correct Proportion: 73.89% |\n",
      " Correct in 5 not 3: 78.08% |\n",
      " Correct in 15 not 5: 82.62% |\n",
      " Has Prediction and is Correct: 73.89% |\n",
      " Incorrect Proportion: 25.57% |\n",
      " None Proportion: 2.09% |\n",
      " First Prediction: 57.73% |\n",
      " Average Success Freq: 0.42 |\n",
      " Average Fail Freq: 0.45 \n",
      "\n"
     ]
    },
    {
     "name": "stderr",
     "output_type": "stream",
     "text": [
      "                                                      \r"
     ]
    },
    {
     "name": "stdout",
     "output_type": "stream",
     "text": [
      "Non programmer session:\n",
      " Correct Proportion: 68.87% |\n",
      " Correct in 5 not 3: 75.08% |\n",
      " Correct in 15 not 5: 82.73% |\n",
      " Has Prediction and is Correct: 68.87% |\n",
      " Incorrect Proportion: 30.76% |\n",
      " None Proportion: 1.17% |\n",
      " First Prediction: 48.29% |\n",
      " Average Success Freq: 1.32 |\n",
      " Average Fail Freq: 1.40 \n",
      "\n"
     ]
    },
    {
     "name": "stderr",
     "output_type": "stream",
     "text": [
      "                                                        \r"
     ]
    },
    {
     "name": "stdout",
     "output_type": "stream",
     "text": [
      "Novice session:\n",
      " Correct Proportion: 79.67% |\n",
      " Correct in 5 not 3: 83.60% |\n",
      " Correct in 15 not 5: 88.01% |\n",
      " Has Prediction and is Correct: 79.67% |\n",
      " Incorrect Proportion: 20.20% |\n",
      " None Proportion: 0.64% |\n",
      " First Prediction: 61.12% |\n",
      " Average Success Freq: 0.42 |\n",
      " Average Fail Freq: 0.44 \n",
      "\n"
     ]
    }
   ],
   "source": [
    "for i in range(1, 5):\n",
    "    print(\"Accuracy predicting command {} from commands {} through {}:\\n\".format(i+1, 1, i))\n",
    "\n",
    "    print(\"Scientist session:\\n\", get_accuracy(science_session, graph_depth=i), '\\n')\n",
    "    print(\"Experienced session:\\n\", get_accuracy(experienced_session, graph_depth=i), '\\n')\n",
    "    print(\"Non programmer session:\\n\", get_accuracy(non_session, graph_depth=i), '\\n')\n",
    "    print(\"Novice session:\\n\", get_accuracy(novice_session, graph_depth=i), '\\n')"
   ]
  },
  {
   "cell_type": "markdown",
   "metadata": {},
   "source": [
    "Consolidated predicting next command and saves it. Graph depth of `-1` should accomplish this."
   ]
  },
  {
   "cell_type": "code",
   "execution_count": 20,
   "metadata": {},
   "outputs": [
    {
     "name": "stderr",
     "output_type": "stream",
     "text": [
      "                                                       \r"
     ]
    },
    {
     "name": "stdout",
     "output_type": "stream",
     "text": [
      "Correct Proportion: 41.87% |\n",
      " Correct in 5 not 3: 48.35% |\n",
      " Correct in 15 not 5: 60.57% |\n",
      " Has Prediction and is Correct: 41.87% |\n",
      " Incorrect Proportion: 56.23% |\n",
      " None Proportion: 3.27% |\n",
      " First Prediction: 26.27% |\n",
      " Average Success Freq: 0.02 |\n",
      " Average Fail Freq: 0.02\n"
     ]
    },
    {
     "name": "stderr",
     "output_type": "stream",
     "text": [
      "                                                       \r"
     ]
    },
    {
     "name": "stdout",
     "output_type": "stream",
     "text": [
      "Correct Proportion: 44.55% |\n",
      " Correct in 5 not 3: 51.53% |\n",
      " Correct in 15 not 5: 62.86% |\n",
      " Has Prediction and is Correct: 44.55% |\n",
      " Incorrect Proportion: 53.61% |\n",
      " None Proportion: 3.31% |\n",
      " First Prediction: 27.23% |\n",
      " Average Success Freq: 0.05 |\n",
      " Average Fail Freq: 0.05\n"
     ]
    },
    {
     "name": "stderr",
     "output_type": "stream",
     "text": [
      "                                                       \r"
     ]
    },
    {
     "name": "stdout",
     "output_type": "stream",
     "text": [
      "Correct Proportion: 45.25% |\n",
      " Correct in 5 not 3: 53.45% |\n",
      " Correct in 15 not 5: 65.63% |\n",
      " Has Prediction and is Correct: 45.25% |\n",
      " Incorrect Proportion: 53.73% |\n",
      " None Proportion: 1.87% |\n",
      " First Prediction: 27.29% |\n",
      " Average Success Freq: 0.20 |\n",
      " Average Fail Freq: 0.22\n"
     ]
    },
    {
     "name": "stderr",
     "output_type": "stream",
     "text": [
      "                                                       "
     ]
    },
    {
     "name": "stdout",
     "output_type": "stream",
     "text": [
      "Correct Proportion: 64.12% |\n",
      " Correct in 5 not 3: 70.11% |\n",
      " Correct in 15 not 5: 78.49% |\n",
      " Has Prediction and is Correct: 64.12% |\n",
      " Incorrect Proportion: 35.33% |\n",
      " None Proportion: 1.51% |\n",
      " First Prediction: 40.91% |\n",
      " Average Success Freq: 0.10 |\n",
      " Average Fail Freq: 0.08\n"
     ]
    },
    {
     "name": "stderr",
     "output_type": "stream",
     "text": [
      "\r"
     ]
    }
   ],
   "source": [
    "import os\n",
    "import csv\n",
    "\n",
    "dataset_names = [\"Science data\", \"Experienced data\", \"Non programmer data\", \"Novice data\"]\n",
    "datasets = [science_session, experienced_session, non_session, novice_session]\n",
    "\n",
    "for i in range(len(datasets)):\n",
    "    fail_frequencies = []\n",
    "    succeed_frequencies = []\n",
    "\n",
    "    print(get_accuracy(datasets[i], fail_frequencies=fail_frequencies, succeed_frequencies=succeed_frequencies, print_fails=True, graph_depth=-1))\n",
    "\n",
    "    os.makedirs(os.path.dirname(\"fails/frequencies_all/\" + dataset_names[i] + \".csv\"), exist_ok=True)\n",
    "    with open(\"fails/frequencies_all/\" + dataset_names[i] + \".csv\", \"w\", newline='') as file:\n",
    "        writer = csv.writer(file)\n",
    "        writer.writerow(fail_frequencies)\n",
    "\n",
    "    os.makedirs(os.path.dirname(\"successes/frequencies_all/\" + dataset_names[i] + \".csv\"), exist_ok=True)\n",
    "    with open(\"successes/frequencies_all/\" + dataset_names[i] + \".csv\", \"w\", newline='') as file:\n",
    "        writer = csv.writer(file)\n",
    "        writer.writerow(succeed_frequencies)\n"
   ]
  },
  {
   "cell_type": "markdown",
   "metadata": {},
   "source": [
    "Save files for all data"
   ]
  },
  {
   "cell_type": "code",
   "execution_count": 22,
   "metadata": {},
   "outputs": [
    {
     "name": "stderr",
     "output_type": "stream",
     "text": [
      "                                                        \r"
     ]
    }
   ],
   "source": [
    "import os\n",
    "import pprint\n",
    "\n",
    "pp = pprint.PrettyPrinter(indent=4)\n",
    "\n",
    "dataset_names = [\"Science data\", \"Experienced data\", \"Non programmer data\", \"Novice data\"]\n",
    "datasets = [science_session, experienced_session, non_session, novice_session]\n",
    "\n",
    "for i in range(len(datasets)):\n",
    "    for j in range (1, 5):\n",
    "        fail_list = []\n",
    "        succeed_list = []\n",
    "        correct_5_not_3 = []\n",
    "        correct_15_not_5 = []\n",
    "\n",
    "        get_accuracy(datasets[i], fail_list=fail_list, succeed_list=succeed_list, correct_5_not_3=correct_5_not_3, correct_15_not_5=correct_15_not_5, print_fails=True, graph_depth=j)\n",
    "\n",
    "        os.makedirs(os.path.dirname(\"fails/predicting_\" + str(j+1) + \"/\" + dataset_names[i] + \".txt\"), exist_ok=True)\n",
    "        with open(\"fails/predicting_\" + str(j+1) + \"/\" + dataset_names[i] + \".txt\", \"w\") as file:\n",
    "            file.write(pp.pformat(fail_list))\n",
    "\n",
    "        os.makedirs(os.path.dirname(\"successes/predicting_\" + str(j+1) + \"/\" + dataset_names[i] + \".txt\"), exist_ok=True)\n",
    "        with open(\"successes/predicting_\" + str(j+1) + \"/\" + dataset_names[i] + \".txt\", \"w\") as file:\n",
    "            file.write(pp.pformat(succeed_list))\n",
    "\n",
    "        os.makedirs(os.path.dirname(\"correct_5_not_3/predicting_\" + str(j+1) + \"/\" + dataset_names[i] + \".txt\"), exist_ok=True)\n",
    "        with open(\"correct_5_not_3/predicting_\" + str(j+1) + \"/\" + dataset_names[i] + \".txt\", \"w\") as file:\n",
    "            file.write(pp.pformat(correct_5_not_3))\n",
    "\n",
    "        os.makedirs(os.path.dirname(\"correct_15_not_5/predicting_\" + str(j+1) + \"/\" + dataset_names[i] + \".txt\"), exist_ok=True)\n",
    "        with open(\"correct_15_not_5/predicting_\" + str(j+1) + \"/\" + dataset_names[i] + \".txt\", \"w\") as file:\n",
    "            file.write(pp.pformat(correct_15_not_5))\n"
   ]
  },
  {
   "cell_type": "markdown",
   "metadata": {},
   "source": [
    "Save frequencies for successes and failures to CSV"
   ]
  },
  {
   "cell_type": "code",
   "execution_count": 23,
   "metadata": {},
   "outputs": [
    {
     "name": "stderr",
     "output_type": "stream",
     "text": [
      "                                                        \r"
     ]
    }
   ],
   "source": [
    "import os\n",
    "import csv\n",
    "\n",
    "dataset_names = [\"Science data\", \"Experienced data\", \"Non programmer data\", \"Novice data\"]\n",
    "datasets = [science_session, experienced_session, non_session, novice_session]\n",
    "\n",
    "for i in range(len(datasets)):\n",
    "    for j in range (1, 5):\n",
    "        fail_frequencies = []\n",
    "        succeed_frequencies = []\n",
    "\n",
    "        get_accuracy(datasets[i], fail_frequencies=fail_frequencies, succeed_frequencies=succeed_frequencies, print_fails=True, graph_depth=j)\n",
    "\n",
    "        os.makedirs(os.path.dirname(\"fails/frequencies_\" + str(j+1) + \"/\" + dataset_names[i] + \".csv\"), exist_ok=True)\n",
    "        with open(\"fails/frequencies_\" + str(j+1) + \"/\" + dataset_names[i] + \".csv\", \"w\", newline='') as file:\n",
    "            writer = csv.writer(file)\n",
    "            writer.writerow(fail_frequencies)\n",
    "\n",
    "        os.makedirs(os.path.dirname(\"successes/frequencies_\" + str(j+1) + \"/\" + dataset_names[i] + \".csv\"), exist_ok=True)\n",
    "        with open(\"successes/frequencies_\" + str(j+1) + \"/\" + dataset_names[i] + \".csv\", \"w\", newline='') as file:\n",
    "            writer = csv.writer(file)\n",
    "            writer.writerow(succeed_frequencies)\n"
   ]
  },
  {
   "cell_type": "markdown",
   "metadata": {},
   "source": [
    "Sampled Commands Parse and Replace Args\n",
    "\n",
    "Change to sample at end stage after replacing args not for parsing by session"
   ]
  },
  {
   "cell_type": "code",
   "execution_count": 34,
   "metadata": {},
   "outputs": [
    {
     "name": "stderr",
     "output_type": "stream",
     "text": [
      "100%|██████████| 10/10 [00:03<00:00,  2.83it/s]\n",
      "100%|██████████| 7/7 [00:01<00:00,  4.40it/s]\n",
      "100%|██████████| 5/5 [00:00<00:00,  8.55it/s]\n",
      "100%|██████████| 11/11 [00:02<00:00,  4.74it/s]\n"
     ]
    }
   ],
   "source": [
    "from random import sample\n",
    "import math\n",
    "\n",
    "subset_size = 5\n",
    "sample_size = .2\n",
    "\n",
    "science_session_sample = parser.parse_commands_per_session(sample(parser.scientists_files, math.floor(sample_size * len(parser.scientists_files))))\n",
    "science_session_sample = parser.parse_commands_into_subsets_sliding_window(science_session_sample, subset_size)\n",
    "science_session_sample = parser.replace_args_nested(science_session_sample)\n",
    "\n",
    "experienced_session_sample = parser.parse_commands_per_session(sample(parser.experienced_files, math.floor(sample_size * len(parser.experienced_files))))\n",
    "experienced_session_sample = parser.parse_commands_into_subsets_sliding_window(experienced_session_sample, subset_size)\n",
    "experienced_session_sample = parser.replace_args_nested(experienced_session_sample)\n",
    "\n",
    "non_session_sample = parser.parse_commands_per_session(sample(parser.non_programmers_files, math.floor(sample_size * len(parser.non_programmers_files))))\n",
    "non_session_sample = parser.parse_commands_into_subsets_sliding_window(non_session_sample, subset_size)\n",
    "non_session_sample = parser.replace_args_nested(non_session_sample)\n",
    "\n",
    "novice_session_sample = parser.parse_commands_per_session(sample(parser.novice_files, math.floor(sample_size * len(parser.novice_files))))\n",
    "novice_session_sample = parser.parse_commands_into_subsets_sliding_window(novice_session_sample, subset_size)\n",
    "novice_session_sample = parser.replace_args_nested(novice_session_sample)"
   ]
  },
  {
   "cell_type": "markdown",
   "metadata": {},
   "source": [
    "Accuracy predicting N+1 command from N commands with subset of data"
   ]
  },
  {
   "cell_type": "code",
   "execution_count": 35,
   "metadata": {},
   "outputs": [
    {
     "name": "stdout",
     "output_type": "stream",
     "text": [
      "187420\n",
      "Accuracy Predicting Command 2 from commands 1 through 1:\n",
      "\n"
     ]
    },
    {
     "name": "stderr",
     "output_type": "stream",
     "text": [
      "                                                       \r"
     ]
    },
    {
     "name": "stdout",
     "output_type": "stream",
     "text": [
      "Scientist session sample:\n",
      " Correct Proportion: 41.53% |\n",
      " Correct in 5 not 3: 50.18% |\n",
      " Correct in 15 not 5: 69.45% |\n",
      " Has Prediction and is Correct: 41.53% |\n",
      " Incorrect Proportion: 58.40% |\n",
      " None Proportion: 0.10% |\n",
      " First Prediction: 23.73% |\n",
      " Average Success Freq: 0.03 |\n",
      " Average Fail Freq: 0.03\n"
     ]
    },
    {
     "name": "stderr",
     "output_type": "stream",
     "text": [
      "                                                     \r"
     ]
    },
    {
     "name": "stdout",
     "output_type": "stream",
     "text": [
      "Experienced session sample:\n",
      " Correct Proportion: 41.54% |\n",
      " Correct in 5 not 3: 50.29% |\n",
      " Correct in 15 not 5: 68.92% |\n",
      " Has Prediction and is Correct: 41.54% |\n",
      " Incorrect Proportion: 58.41% |\n",
      " None Proportion: 0.07% |\n",
      " First Prediction: 23.38% |\n",
      " Average Success Freq: 0.08 |\n",
      " Average Fail Freq: 0.08\n"
     ]
    },
    {
     "name": "stderr",
     "output_type": "stream",
     "text": [
      "                                                     \r"
     ]
    },
    {
     "name": "stdout",
     "output_type": "stream",
     "text": [
      "Non programmer session sample:\n",
      " Correct Proportion: 42.86% |\n",
      " Correct in 5 not 3: 49.76% |\n",
      " Correct in 15 not 5: 70.80% |\n",
      " Has Prediction and is Correct: 42.86% |\n",
      " Incorrect Proportion: 57.02% |\n",
      " None Proportion: 0.21% |\n",
      " First Prediction: 25.30% |\n",
      " Average Success Freq: 0.33 |\n",
      " Average Fail Freq: 0.33\n"
     ]
    },
    {
     "name": "stderr",
     "output_type": "stream",
     "text": [
      "                                                       \r"
     ]
    },
    {
     "name": "stdout",
     "output_type": "stream",
     "text": [
      "Novice session sample:\n",
      " Correct Proportion: 60.51% |\n",
      " Correct in 5 not 3: 67.54% |\n",
      " Correct in 15 not 5: 80.05% |\n",
      " Has Prediction and is Correct: 60.51% |\n",
      " Incorrect Proportion: 39.46% |\n",
      " None Proportion: 0.08% |\n",
      " First Prediction: 39.73% |\n",
      " Average Success Freq: 0.09 |\n",
      " Average Fail Freq: 0.07\n"
     ]
    },
    {
     "name": "stderr",
     "output_type": "stream",
     "text": [
      "                                                       \r"
     ]
    },
    {
     "name": "stdout",
     "output_type": "stream",
     "text": [
      "All sample session:\n",
      " Correct Proportion: 46.17% |\n",
      " Correct in 5 not 3: 53.80% |\n",
      " Correct in 15 not 5: 70.48% |\n",
      " Has Prediction and is Correct: 46.17% |\n",
      " Incorrect Proportion: 53.82% |\n",
      " None Proportion: 0.01% |\n",
      " First Prediction: 27.93% |\n",
      " Average Success Freq: 0.04 |\n",
      " Average Fail Freq: 0.04\n",
      "Accuracy Predicting Command 3 from commands 1 through 2:\n",
      "\n"
     ]
    },
    {
     "name": "stderr",
     "output_type": "stream",
     "text": [
      "                                                       \r"
     ]
    },
    {
     "name": "stdout",
     "output_type": "stream",
     "text": [
      "Scientist session sample:\n",
      " Correct Proportion: 60.68% |\n",
      " Correct in 5 not 3: 69.77% |\n",
      " Correct in 15 not 5: 85.41% |\n",
      " Has Prediction and is Correct: 60.68% |\n",
      " Incorrect Proportion: 39.32% |\n",
      " None Proportion: 0.01% |\n",
      " First Prediction: 38.15% |\n",
      " Average Success Freq: 0.09 |\n",
      " Average Fail Freq: 0.08\n"
     ]
    },
    {
     "name": "stderr",
     "output_type": "stream",
     "text": [
      "                                                     \r"
     ]
    },
    {
     "name": "stdout",
     "output_type": "stream",
     "text": [
      "Experienced session sample:\n",
      " Correct Proportion: 62.01% |\n",
      " Correct in 5 not 3: 71.36% |\n",
      " Correct in 15 not 5: 85.36% |\n",
      " Has Prediction and is Correct: 62.01% |\n",
      " Incorrect Proportion: 37.99% |\n",
      " None Proportion: 0.00% |\n",
      " First Prediction: 40.28% |\n",
      " Average Success Freq: 0.20 |\n",
      " Average Fail Freq: 0.18\n"
     ]
    },
    {
     "name": "stderr",
     "output_type": "stream",
     "text": [
      "                                                     \r"
     ]
    },
    {
     "name": "stdout",
     "output_type": "stream",
     "text": [
      "Non programmer session sample:\n",
      " Correct Proportion: 57.63% |\n",
      " Correct in 5 not 3: 66.03% |\n",
      " Correct in 15 not 5: 81.07% |\n",
      " Has Prediction and is Correct: 57.63% |\n",
      " Incorrect Proportion: 42.33% |\n",
      " None Proportion: 0.08% |\n",
      " First Prediction: 35.47% |\n",
      " Average Success Freq: 0.84 |\n",
      " Average Fail Freq: 0.76\n"
     ]
    },
    {
     "name": "stderr",
     "output_type": "stream",
     "text": [
      "                                                     \r"
     ]
    },
    {
     "name": "stdout",
     "output_type": "stream",
     "text": [
      "Novice session sample:\n",
      " Correct Proportion: 72.30% |\n",
      " Correct in 5 not 3: 79.16% |\n",
      " Correct in 15 not 5: 89.90% |\n",
      " Has Prediction and is Correct: 72.30% |\n",
      " Incorrect Proportion: 27.70% |\n",
      " None Proportion: 0.00% |\n",
      " First Prediction: 50.00% |\n",
      " Average Success Freq: 0.17 |\n",
      " Average Fail Freq: 0.14\n"
     ]
    },
    {
     "name": "stderr",
     "output_type": "stream",
     "text": [
      "                                                       \r"
     ]
    },
    {
     "name": "stdout",
     "output_type": "stream",
     "text": [
      "All sample session:\n",
      " Correct Proportion: 63.85% |\n",
      " Correct in 5 not 3: 72.26% |\n",
      " Correct in 15 not 5: 86.39% |\n",
      " Has Prediction and is Correct: 63.85% |\n",
      " Incorrect Proportion: 36.15% |\n",
      " None Proportion: 0.01% |\n",
      " First Prediction: 41.90% |\n",
      " Average Success Freq: 0.05 |\n",
      " Average Fail Freq: 0.05\n",
      "Accuracy Predicting Command 4 from commands 1 through 3:\n",
      "\n"
     ]
    },
    {
     "name": "stderr",
     "output_type": "stream",
     "text": [
      "                                                      \r"
     ]
    },
    {
     "name": "stdout",
     "output_type": "stream",
     "text": [
      "Scientist session sample:\n",
      " Correct Proportion: 74.68% |\n",
      " Correct in 5 not 3: 81.97% |\n",
      " Correct in 15 not 5: 91.31% |\n",
      " Has Prediction and is Correct: 74.68% |\n",
      " Incorrect Proportion: 25.31% |\n",
      " None Proportion: 0.04% |\n",
      " First Prediction: 54.09% |\n",
      " Average Success Freq: 0.11 |\n",
      " Average Fail Freq: 0.11\n"
     ]
    },
    {
     "name": "stderr",
     "output_type": "stream",
     "text": [
      "                                                      \r"
     ]
    },
    {
     "name": "stdout",
     "output_type": "stream",
     "text": [
      "Experienced session sample:\n",
      " Correct Proportion: 75.21% |\n",
      " Correct in 5 not 3: 81.79% |\n",
      " Correct in 15 not 5: 90.17% |\n",
      " Has Prediction and is Correct: 75.21% |\n",
      " Incorrect Proportion: 24.79% |\n",
      " None Proportion: 0.03% |\n",
      " First Prediction: 55.34% |\n",
      " Average Success Freq: 0.24 |\n",
      " Average Fail Freq: 0.23\n"
     ]
    },
    {
     "name": "stderr",
     "output_type": "stream",
     "text": [
      "                                       \r"
     ]
    },
    {
     "name": "stdout",
     "output_type": "stream",
     "text": [
      "Non programmer session sample:\n",
      " Correct Proportion: 70.14% |\n",
      " Correct in 5 not 3: 77.05% |\n",
      " Correct in 15 not 5: 90.05% |\n",
      " Has Prediction and is Correct: 70.14% |\n",
      " Incorrect Proportion: 29.86% |\n",
      " None Proportion: 0.00% |\n",
      " First Prediction: 42.62% |\n",
      " Average Success Freq: 1.03 |\n",
      " Average Fail Freq: 0.98\n"
     ]
    },
    {
     "name": "stderr",
     "output_type": "stream",
     "text": [
      "                                                      \r"
     ]
    },
    {
     "name": "stdout",
     "output_type": "stream",
     "text": [
      "Novice session sample:\n",
      " Correct Proportion: 75.25% |\n",
      " Correct in 5 not 3: 81.04% |\n",
      " Correct in 15 not 5: 94.32% |\n",
      " Has Prediction and is Correct: 75.25% |\n",
      " Incorrect Proportion: 24.75% |\n",
      " None Proportion: 0.00% |\n",
      " First Prediction: 46.97% |\n",
      " Average Success Freq: 0.19 |\n",
      " Average Fail Freq: 0.18\n"
     ]
    },
    {
     "name": "stderr",
     "output_type": "stream",
     "text": [
      "                                                        \r"
     ]
    },
    {
     "name": "stdout",
     "output_type": "stream",
     "text": [
      "All sample session:\n",
      " Correct Proportion: 74.88% |\n",
      " Correct in 5 not 3: 81.00% |\n",
      " Correct in 15 not 5: 91.53% |\n",
      " Has Prediction and is Correct: 74.88% |\n",
      " Incorrect Proportion: 25.11% |\n",
      " None Proportion: 0.03% |\n",
      " First Prediction: 52.08% |\n",
      " Average Success Freq: 0.06 |\n",
      " Average Fail Freq: 0.06\n",
      "Accuracy Predicting Command 5 from commands 1 through 4:\n",
      "\n"
     ]
    },
    {
     "name": "stderr",
     "output_type": "stream",
     "text": [
      "                                                      \r"
     ]
    },
    {
     "name": "stdout",
     "output_type": "stream",
     "text": [
      "Scientist session sample:\n",
      " Correct Proportion: 69.32% |\n",
      " Correct in 5 not 3: 72.58% |\n",
      " Correct in 15 not 5: 75.82% |\n",
      " Has Prediction and is Correct: 69.32% |\n",
      " Incorrect Proportion: 29.96% |\n",
      " None Proportion: 2.37% |\n",
      " First Prediction: 54.77% |\n",
      " Average Success Freq: 0.12 |\n",
      " Average Fail Freq: 0.12\n"
     ]
    },
    {
     "name": "stderr",
     "output_type": "stream",
     "text": [
      "                                        \r"
     ]
    },
    {
     "name": "stdout",
     "output_type": "stream",
     "text": [
      "Experienced session sample:\n",
      " Correct Proportion: 74.22% |\n",
      " Correct in 5 not 3: 78.20% |\n",
      " Correct in 15 not 5: 81.36% |\n",
      " Has Prediction and is Correct: 74.22% |\n",
      " Incorrect Proportion: 24.81% |\n",
      " None Proportion: 3.77% |\n",
      " First Prediction: 58.91% |\n",
      " Average Success Freq: 0.26 |\n",
      " Average Fail Freq: 0.26\n"
     ]
    },
    {
     "name": "stderr",
     "output_type": "stream",
     "text": [
      "                                       \r"
     ]
    },
    {
     "name": "stdout",
     "output_type": "stream",
     "text": [
      "Non programmer session sample:\n",
      " Correct Proportion: 67.04% |\n",
      " Correct in 5 not 3: 72.85% |\n",
      " Correct in 15 not 5: 77.56% |\n",
      " Has Prediction and is Correct: 67.04% |\n",
      " Incorrect Proportion: 31.73% |\n",
      " None Proportion: 3.73% |\n",
      " First Prediction: 47.20% |\n",
      " Average Success Freq: 1.13 |\n",
      " Average Fail Freq: 1.11\n"
     ]
    },
    {
     "name": "stderr",
     "output_type": "stream",
     "text": [
      "                                        \r"
     ]
    },
    {
     "name": "stdout",
     "output_type": "stream",
     "text": [
      "Novice session sample:\n",
      " Correct Proportion: 80.66% |\n",
      " Correct in 5 not 3: 83.39% |\n",
      " Correct in 15 not 5: 86.17% |\n",
      " Has Prediction and is Correct: 80.66% |\n",
      " Incorrect Proportion: 19.03% |\n",
      " None Proportion: 1.60% |\n",
      " First Prediction: 57.48% |\n",
      " Average Success Freq: 0.21 |\n",
      " Average Fail Freq: 0.20\n"
     ]
    },
    {
     "name": "stderr",
     "output_type": "stream",
     "text": [
      "                                                      \r"
     ]
    },
    {
     "name": "stdout",
     "output_type": "stream",
     "text": [
      "All sample session:\n",
      " Correct Proportion: 74.32% |\n",
      " Correct in 5 not 3: 77.06% |\n",
      " Correct in 15 not 5: 80.11% |\n",
      " Has Prediction and is Correct: 74.32% |\n",
      " Incorrect Proportion: 24.98% |\n",
      " None Proportion: 2.71% |\n",
      " First Prediction: 57.51% |\n",
      " Average Success Freq: 0.06 |\n",
      " Average Fail Freq: 0.06\n",
      "Accuracy Predicting Command N from commands 1 through N-1\n"
     ]
    },
    {
     "name": "stderr",
     "output_type": "stream",
     "text": [
      "                                                       \r"
     ]
    },
    {
     "name": "stdout",
     "output_type": "stream",
     "text": [
      "Scientist session sample:\n",
      " Correct Proportion: 60.41% |\n",
      " Correct in 5 not 3: 67.56% |\n",
      " Correct in 15 not 5: 79.16% |\n",
      " Has Prediction and is Correct: 60.41% |\n",
      " Incorrect Proportion: 39.35% |\n",
      " None Proportion: 0.60% |\n",
      " First Prediction: 41.68% |\n",
      " Average Success Freq: 0.14 |\n",
      " Average Fail Freq: 0.15\n"
     ]
    },
    {
     "name": "stderr",
     "output_type": "stream",
     "text": [
      "                                                     \r"
     ]
    },
    {
     "name": "stdout",
     "output_type": "stream",
     "text": [
      "Experienced session sample:\n",
      " Correct Proportion: 62.49% |\n",
      " Correct in 5 not 3: 69.19% |\n",
      " Correct in 15 not 5: 80.29% |\n",
      " Has Prediction and is Correct: 62.49% |\n",
      " Incorrect Proportion: 37.16% |\n",
      " None Proportion: 0.92% |\n",
      " First Prediction: 43.90% |\n",
      " Average Success Freq: 0.32 |\n",
      " Average Fail Freq: 0.33\n"
     ]
    },
    {
     "name": "stderr",
     "output_type": "stream",
     "text": [
      "                                                     \r"
     ]
    },
    {
     "name": "stdout",
     "output_type": "stream",
     "text": [
      "Non programmer session sample:\n",
      " Correct Proportion: 56.52% |\n",
      " Correct in 5 not 3: 63.15% |\n",
      " Correct in 15 not 5: 76.94% |\n",
      " Has Prediction and is Correct: 56.52% |\n",
      " Incorrect Proportion: 43.14% |\n",
      " None Proportion: 0.79% |\n",
      " First Prediction: 35.67% |\n",
      " Average Success Freq: 1.36 |\n",
      " Average Fail Freq: 1.45\n"
     ]
    },
    {
     "name": "stderr",
     "output_type": "stream",
     "text": [
      "                                                       \r"
     ]
    },
    {
     "name": "stdout",
     "output_type": "stream",
     "text": [
      "Novice session sample:\n",
      " Correct Proportion: 71.23% |\n",
      " Correct in 5 not 3: 77.16% |\n",
      " Correct in 15 not 5: 87.22% |\n",
      " Has Prediction and is Correct: 71.23% |\n",
      " Incorrect Proportion: 28.66% |\n",
      " None Proportion: 0.37% |\n",
      " First Prediction: 47.93% |\n",
      " Average Success Freq: 0.28 |\n",
      " Average Fail Freq: 0.28\n"
     ]
    },
    {
     "name": "stderr",
     "output_type": "stream",
     "text": [
      "                                                       \r"
     ]
    },
    {
     "name": "stdout",
     "output_type": "stream",
     "text": [
      "All sample session:\n",
      " Correct Proportion: 63.81% |\n",
      " Correct in 5 not 3: 70.14% |\n",
      " Correct in 15 not 5: 81.65% |\n",
      " Has Prediction and is Correct: 63.81% |\n",
      " Incorrect Proportion: 35.95% |\n",
      " None Proportion: 0.66% |\n",
      " First Prediction: 43.86% |\n",
      " Average Success Freq: 0.09 |\n",
      " Average Fail Freq: 0.10\n"
     ]
    }
   ],
   "source": [
    "all = science_session_sample + experienced_session_sample + non_session_sample + novice_session_sample\n",
    "print(len(all))\n",
    "\n",
    "for i in range(1, 5):\n",
    "    print(\"Accuracy Predicting Command {} from commands {} through {}:\\n\".format(i+1, 1, i))\n",
    "\n",
    "    print(\"Scientist session sample:\\n\", get_accuracy(science_session_sample, graph_depth=i))\n",
    "    print(\"Experienced session sample:\\n\", get_accuracy(experienced_session_sample, graph_depth=i))\n",
    "    print(\"Non programmer session sample:\\n\", get_accuracy(non_session_sample, graph_depth=i))\n",
    "    print(\"Novice session sample:\\n\", get_accuracy(novice_session_sample, graph_depth=i))\n",
    "    print(\"All sample session:\\n\", get_accuracy(all, graph_depth=i))\n",
    "\n",
    "print(\"Accuracy Predicting Command N from commands 1 through N-1\")\n",
    "\n",
    "print(\"Scientist session sample:\\n\", get_accuracy(science_session_sample, graph_depth=-1))\n",
    "print(\"Experienced session sample:\\n\", get_accuracy(experienced_session_sample, graph_depth=-1))\n",
    "print(\"Non programmer session sample:\\n\", get_accuracy(non_session_sample, graph_depth=-1))\n",
    "print(\"Novice session sample:\\n\", get_accuracy(novice_session_sample, graph_depth=-1))\n",
    "print(\"All sample session:\\n\", get_accuracy(all, graph_depth=-1))"
   ]
  },
  {
   "cell_type": "markdown",
   "metadata": {},
   "source": [
    "Predict N from 1..n-1 in samples"
   ]
  },
  {
   "cell_type": "code",
   "execution_count": 36,
   "metadata": {},
   "outputs": [
    {
     "name": "stderr",
     "output_type": "stream",
     "text": [
      "                                                       \r"
     ]
    },
    {
     "name": "stdout",
     "output_type": "stream",
     "text": [
      "Scientist session sample:\n",
      " Correct Proportion: 60.42% |\n",
      " Correct in 5 not 3: 67.55% |\n",
      " Correct in 15 not 5: 79.16% |\n",
      " Has Prediction and is Correct: 60.42% |\n",
      " Incorrect Proportion: 39.34% |\n",
      " None Proportion: 0.60% |\n",
      " First Prediction: 41.67% |\n",
      " Average Success Freq: 0.21 |\n",
      " Average Fail Freq: 0.23\n"
     ]
    },
    {
     "name": "stderr",
     "output_type": "stream",
     "text": [
      "                                                     \r"
     ]
    },
    {
     "name": "stdout",
     "output_type": "stream",
     "text": [
      "Experienced session sample:\n",
      " Correct Proportion: 62.49% |\n",
      " Correct in 5 not 3: 69.19% |\n",
      " Correct in 15 not 5: 80.29% |\n",
      " Has Prediction and is Correct: 62.49% |\n",
      " Incorrect Proportion: 37.16% |\n",
      " None Proportion: 0.92% |\n",
      " First Prediction: 43.90% |\n",
      " Average Success Freq: 0.45 |\n",
      " Average Fail Freq: 0.50\n"
     ]
    },
    {
     "name": "stderr",
     "output_type": "stream",
     "text": [
      "                                                     \r"
     ]
    },
    {
     "name": "stdout",
     "output_type": "stream",
     "text": [
      "Non programmer session sample:\n",
      " Correct Proportion: 56.52% |\n",
      " Correct in 5 not 3: 63.15% |\n",
      " Correct in 15 not 5: 76.94% |\n",
      " Has Prediction and is Correct: 56.52% |\n",
      " Incorrect Proportion: 43.14% |\n",
      " None Proportion: 0.79% |\n",
      " First Prediction: 35.67% |\n",
      " Average Success Freq: 1.93 |\n",
      " Average Fail Freq: 2.14\n"
     ]
    },
    {
     "name": "stderr",
     "output_type": "stream",
     "text": [
      "                                                       \r"
     ]
    },
    {
     "name": "stdout",
     "output_type": "stream",
     "text": [
      "Novice session sample:\n",
      " Correct Proportion: 71.23% |\n",
      " Correct in 5 not 3: 77.16% |\n",
      " Correct in 15 not 5: 87.22% |\n",
      " Has Prediction and is Correct: 71.23% |\n",
      " Incorrect Proportion: 28.66% |\n",
      " None Proportion: 0.37% |\n",
      " First Prediction: 47.93% |\n",
      " Average Success Freq: 0.38 |\n",
      " Average Fail Freq: 0.41\n"
     ]
    }
   ],
   "source": [
    "i=-1\n",
    "\n",
    "print(\"Scientist session sample:\\n\", get_accuracy(science_session_sample, graph_depth=i))\n",
    "print(\"Experienced session sample:\\n\", get_accuracy(experienced_session_sample, graph_depth=i))\n",
    "print(\"Non programmer session sample:\\n\", get_accuracy(non_session_sample, graph_depth=i))\n",
    "print(\"Novice session sample:\\n\", get_accuracy(novice_session_sample, graph_depth=i))"
   ]
  },
  {
   "cell_type": "markdown",
   "metadata": {},
   "source": [
    "Expand pipes and replace args"
   ]
  },
  {
   "cell_type": "code",
   "execution_count": 37,
   "metadata": {},
   "outputs": [],
   "source": [
    "science = parser.filter_commands_with_pipe(parser.scientists_commands)\n",
    "experienced = parser.filter_commands_with_pipe(parser.experienced_commands)\n",
    "non = parser.filter_commands_with_pipe(parser.non_programmers_commands)\n",
    "novice = parser.filter_commands_with_pipe(parser.novice_commands)\n",
    "\n",
    "science_pipes = parser.expand_piped_commands(science)\n",
    "experienced_pipes = parser.expand_piped_commands(experienced)\n",
    "non_pipes = parser.expand_piped_commands(non)\n",
    "novice_pipes = parser.expand_piped_commands(novice)\n",
    "\n",
    "science_pipes_expand = parser.replace_arg_expanded_pipe(science_pipes)\n",
    "experienced_pipes_expand = parser.replace_arg_expanded_pipe(experienced_pipes)\n",
    "non_pipes_expand = parser.replace_arg_expanded_pipe(non_pipes)\n",
    "novice_pipes_expand = parser.replace_arg_expanded_pipe(novice_pipes)"
   ]
  },
  {
   "cell_type": "code",
   "execution_count": 38,
   "metadata": {},
   "outputs": [
    {
     "name": "stdout",
     "output_type": "stream",
     "text": [
      "[]\n"
     ]
    },
    {
     "name": "stderr",
     "output_type": "stream",
     "text": [
      "                                                   \r"
     ]
    },
    {
     "name": "stdout",
     "output_type": "stream",
     "text": [
      "Science pipes metrics:\n",
      " Correct Proportion: 40.17% |\n",
      " Correct in 5 not 3: 41.47% |\n",
      " Correct in 15 not 5: 51.62% |\n",
      " Has Prediction and is Correct: 40.17% |\n",
      " Incorrect Proportion: 58.32% |\n",
      " None Proportion: 2.53% |\n",
      " First Prediction: 30.74% |\n",
      " Average Success Freq: 8.17 |\n",
      " Average Fail Freq: 8.79 \n",
      "\n"
     ]
    },
    {
     "name": "stderr",
     "output_type": "stream",
     "text": [
      "                                       \r"
     ]
    },
    {
     "name": "stdout",
     "output_type": "stream",
     "text": [
      "Experienced pipes metrics:\n",
      " Correct Proportion: 23.26% |\n",
      " Correct in 5 not 3: 26.05% |\n",
      " Correct in 15 not 5: 53.49% |\n",
      " Has Prediction and is Correct: 23.26% |\n",
      " Incorrect Proportion: 75.34% |\n",
      " None Proportion: 1.83% |\n",
      " First Prediction: 18.26% |\n",
      " Average Success Freq: 17.81 |\n",
      " Average Fail Freq: 19.16 \n",
      "\n"
     ]
    },
    {
     "name": "stderr",
     "output_type": "stream",
     "text": [
      "                                                   \r"
     ]
    },
    {
     "name": "stdout",
     "output_type": "stream",
     "text": [
      "Non programmers pipes metrics:\n",
      " Correct Proportion: 24.17% |\n",
      " Correct in 5 not 3: 25.54% |\n",
      " Correct in 15 not 5: 80.70% |\n",
      " Has Prediction and is Correct: 24.17% |\n",
      " Incorrect Proportion: 75.83% |\n",
      " None Proportion: 0.00% |\n",
      " First Prediction: 21.25% |\n",
      " Average Success Freq: 7.54 |\n",
      " Average Fail Freq: 8.10 \n",
      "\n"
     ]
    },
    {
     "name": "stderr",
     "output_type": "stream",
     "text": [
      "                                      \r"
     ]
    },
    {
     "name": "stdout",
     "output_type": "stream",
     "text": [
      "Novice pipes metrics:\n",
      " Correct Proportion: 25.58% |\n",
      " Correct in 5 not 3: 25.58% |\n",
      " Correct in 15 not 5: 25.58% |\n",
      " Has Prediction and is Correct: 25.58% |\n",
      " Incorrect Proportion: 72.73% |\n",
      " None Proportion: 2.27% |\n",
      " First Prediction: 0.00% |\n",
      " Average Success Freq: 89.91 |\n",
      " Average Fail Freq: 96.66 \n",
      "\n"
     ]
    }
   ],
   "source": [
    "print(\"Science pipes metrics:\\n\", get_accuracy(science_pipes_expand), \"\\n\")\n",
    "print(\"Experienced pipes metrics:\\n\", get_accuracy(experienced_pipes_expand), \"\\n\")\n",
    "print(\"Non programmers pipes metrics:\\n\", get_accuracy(non_pipes_expand), \"\\n\")\n",
    "print(\"Novice pipes metrics:\\n\", get_accuracy(novice_pipes_expand), \"\\n\")"
   ]
  }
 ],
 "metadata": {
  "interpreter": {
   "hash": "d6a02243acaf6442a8dfab70d4c1e9169b9d22808d9e1a1dd816394099b97fa0"
  },
  "kernelspec": {
   "display_name": "Python 3.9.10 ('venv': venv)",
   "language": "python",
   "name": "python3"
  },
  "language_info": {
   "codemirror_mode": {
    "name": "ipython",
    "version": 3
   },
   "file_extension": ".py",
   "mimetype": "text/x-python",
   "name": "python",
   "nbconvert_exporter": "python",
   "pygments_lexer": "ipython3",
   "version": "3.9.12"
  },
  "orig_nbformat": 4
 },
 "nbformat": 4,
 "nbformat_minor": 2
}
