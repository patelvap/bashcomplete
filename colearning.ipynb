{
 "cells": [
  {
   "cell_type": "markdown",
   "metadata": {},
   "source": [
    "Construct Graph Function"
   ]
  },
  {
   "cell_type": "code",
   "execution_count": 8,
   "metadata": {},
   "outputs": [],
   "source": [
    "from graph_no_fuzz import Node\n",
    "\n",
    "def adjust_session(session, frequencies = []):\n",
    "    if len(session) == 2:\n",
    "        if session[0] == session[1]:\n",
    "            session = [session[0]]\n",
    "            frequencies = [2]\n",
    "        else:\n",
    "            frequencies = [1] * len(session)\n",
    "    elif len(session) == 3:\n",
    "        if session[0] == session[1] and session[0] == session[2]:\n",
    "            session = session[:1]\n",
    "            frequencies = [3]\n",
    "        else:\n",
    "            frequencies = [1] * len(session)\n",
    "    elif len(session) == 4:\n",
    "        if session[0] == session[2] and session[1] == session[3]:\n",
    "            session = [session[0], session[1]]\n",
    "            frequencies = [2, 2]\n",
    "        else:\n",
    "            frequencies = [1] * len(session)\n",
    "    elif len(session) == 5:\n",
    "        if session[0] == session[1] and session[0] == session[2]:\n",
    "            session = [session[0], session[3], session[4]]\n",
    "            frequencies = [3, 1, 1]\n",
    "        elif session[0] == session[2] and session[1] == session[3]:\n",
    "            session = [session[0], session[1], session[4]]\n",
    "            frequencies = [2, 2, 1]\n",
    "        else:\n",
    "            frequencies = [1] * len(session)\n",
    "    else:\n",
    "        frequencies = [1] * len(session)\n",
    "\n",
    "    return session, frequencies\n",
    "\n",
    "\n",
    "def construct_graph(command_list, command_dict={}):\n",
    "\n",
    "    filter_empty = lambda x: (len(x) > 0)\n",
    "    cur_node = None\n",
    "    child_node = None\n",
    "    \n",
    "    for session in command_list:\n",
    "        # remove commands of length 0 ( not good to modify list within loop )\n",
    "        session = list(filter(filter_empty, session))\n",
    "\n",
    "        try: \n",
    "            first_cmd = session[0]\n",
    "        except Exception as inst:\n",
    "            print(session)\n",
    "            continue\n",
    "\n",
    "        program = session[0].split()[0]\n",
    "\n",
    "        # change this to frequency array of length program\n",
    "        # and add frequency based on index to it    \n",
    "        freq_addition = []\n",
    "        session, freq_addition = adjust_session(session=session)\n",
    "\n",
    "        if command_dict.get(program) is None:\n",
    "            cur_node = Node(program=program, frequency=freq_addition[0])\n",
    "            command_dict[program] = cur_node \n",
    "        else:\n",
    "            cur_node = command_dict.get(program)\n",
    "            cur_node.frequency += freq_addition[0]\n",
    "\n",
    "        if cur_node.commands.get(first_cmd) is None:\n",
    "            cur_node.commands[first_cmd] = freq_addition[0]\n",
    "        else:\n",
    "            cur_node.commands[first_cmd] += freq_addition[0]\n",
    "\n",
    "        for cmd in range(1, len(session)):\n",
    "\n",
    "            if cmd >= len(freq_addition):\n",
    "                    print(session, len(session))\n",
    "                    print(freq_addition, len(freq_addition))\n",
    "\n",
    "            if session[cmd].isprintable() is False:\n",
    "                break\n",
    "            else:\n",
    "                program = session[cmd].split()[0]\n",
    "\n",
    "            if cur_node.children.get(program) is None:\n",
    "                child_node = Node(program = program, frequency=freq_addition[cmd])\n",
    "                cur_node.children[program] = child_node\n",
    "            else:\n",
    "                child_node = cur_node.children.get(program)\n",
    "                child_node.frequency += freq_addition[cmd]\n",
    "            \n",
    "            if child_node.commands.get(session[cmd]) is None:\n",
    "                child_node.commands[session[cmd]] = freq_addition[cmd]\n",
    "            else:\n",
    "                child_node.commands[session[cmd]] += freq_addition[cmd]\n",
    "            \n",
    "            cur_node = child_node\n",
    "        \n",
    "    return command_dict"
   ]
  },
  {
   "cell_type": "markdown",
   "metadata": {},
   "source": [
    "Get Prediction Function"
   ]
  },
  {
   "cell_type": "code",
   "execution_count": 9,
   "metadata": {},
   "outputs": [],
   "source": [
    "def get_prediction(command_list: list[str], graph, result_size=5, graph_depth=4):\n",
    "    if len(command_list) == 0:\n",
    "        return None\n",
    "\n",
    "    commands = command_list[:graph_depth]\n",
    "    # should be labeled last command\n",
    "    last_command = command_list[graph_depth]\n",
    "\n",
    "    if len(commands) == 0:\n",
    "        return None, [-1]\n",
    "\n",
    "    program = commands[0].split()[0]\n",
    "\n",
    "    frequencies = []\n",
    "    \n",
    "    if graph.get(program) is None:\n",
    "        frequencies.append(-1)\n",
    "        return None, frequencies\n",
    "    else:\n",
    "        node = graph[program]\n",
    "        frequencies.append(node.frequency)\n",
    "\n",
    "    for command in commands[1:]:\n",
    "        program = command.split()[0]\n",
    "        if node.children.get(program) is not None:\n",
    "            node = node.children[program]\n",
    "            frequencies.append(node.frequency)\n",
    "        else:\n",
    "            frequencies.append(-1)\n",
    "            return None, frequencies\n",
    "    \n",
    "    # last frequency if it has it\n",
    "    next_program = last_command.split()[0]\n",
    "\n",
    "    if node.children.get(next_program) is not None:\n",
    "        frequencies.append(node.children[next_program].frequency)\n",
    "    else:\n",
    "        frequencies.append(-1)\n",
    "    \n",
    "    # previous command should be command_list[depth-1]\n",
    "    return node.get_prediction(previous_command=command_list[graph_depth-1], num_to_return=result_size), frequencies"
   ]
  },
  {
   "cell_type": "code",
   "execution_count": 17,
   "metadata": {},
   "outputs": [],
   "source": [
    "from thefuzz import fuzz\n",
    "from thefuzz import process\n",
    "\n",
    "from statistics import mean\n",
    "\n",
    "from tqdm import tqdm\n",
    "\n",
    "import pprint\n",
    "pp = pprint.PrettyPrinter(indent=4)\n",
    "\n",
    "def append_list(lst, results, commands, graph_depth):\n",
    "    lst.append({\"Results\": results, \"Expected\": commands[graph_depth], \"Command Sequence\": commands})\n",
    "\n",
    "def get_accuracy_colearn(train_data, test_data, fail_list = [], fail_frequencies= [], succeed_list = [], succeed_frequencies = [], correct_5_not_3= [], correct_15_not_5 = [], print_fails=False, graph_depth=-1):\n",
    "    train_graph = construct_graph(train_data)\n",
    "    \n",
    "    # filter out nodes that can't get prediction because not enough length so don't contribute and will cause error\n",
    "    if (graph_depth != -1):\n",
    "        test_data = [x for x in test_data if len(x) > graph_depth]\n",
    "    else:\n",
    "        test_data = [x for x in test_data if len(x) >= 2]\n",
    "\n",
    "    test_size = len(test_data)\n",
    "\n",
    "    return_3 = 3\n",
    "    return_5 = 5\n",
    "    return_15 = 15\n",
    "\n",
    "    correct = 0\n",
    "    correct_with_5 = 0\n",
    "    correct_with_15 = 0\n",
    "    first_prediction = 0\n",
    "    has_prediction = 0\n",
    "    incorrect = 0\n",
    "    none_count = 0\n",
    "\n",
    "    for commands in tqdm(test_data, leave=False):\n",
    "        results_3, frequencies = get_prediction(commands, train_graph, return_3, graph_depth)\n",
    "        results_5, _ = get_prediction(commands, train_graph, return_5, graph_depth)\n",
    "        results_15, _ = get_prediction(commands, train_graph, return_15, graph_depth)\n",
    "\n",
    "        command_freq = [(commands[i], frequencies[i]) for i in range(len(frequencies))]\n",
    "        \n",
    "        prev_correct = correct\n",
    "        prev5_correct =  correct_with_5\n",
    "\n",
    "        if results_3 is not None:\n",
    "            has_prediction += 1\n",
    "\n",
    "            for i in range(len(results_3)):\n",
    "                if fuzz.ratio(results_3[i][0], commands[graph_depth]) > 85:\n",
    "                    correct += 1\n",
    "\n",
    "                    succeed_frequencies.append(mean(frequencies))\n",
    "\n",
    "                    if correct <= 100:\n",
    "                        append_list(succeed_list, results_5, command_freq, graph_depth)\n",
    "\n",
    "                    if i == 0:\n",
    "                        first_prediction += 1\n",
    "                \n",
    "                    break\n",
    "\n",
    "            if prev_correct == correct:\n",
    "                fail_frequencies.append(mean(frequencies))\n",
    "                incorrect += 1\n",
    "\n",
    "            for i in range(len(results_5)):\n",
    "                if fuzz.ratio(results_5[i][0], commands[graph_depth]) > 85:\n",
    "                    correct_with_5 += 1\n",
    "\n",
    "                    if correct_with_5 - correct <= 100 and prev_correct == correct:\n",
    "                        append_list(correct_5_not_3, results_5, command_freq, graph_depth)\n",
    "\n",
    "                    break\n",
    "\n",
    "            for i in range(len(results_15)):\n",
    "                if fuzz.ratio(results_15[i][0], commands[graph_depth]) > 85:\n",
    "                    correct_with_15 += 1\n",
    "\n",
    "                    if correct_with_15 - correct <= 100 and prev5_correct == correct_with_5:\n",
    "                        append_list(correct_15_not_5, results_15, command_freq, graph_depth)\n",
    "\n",
    "                    break\n",
    "\n",
    "        else:\n",
    "            none_count += 1\n",
    "\n",
    "        if results_5 is not None and prev_correct == correct and print_fails:\n",
    "            append_list(fail_list, results_5, command_freq, graph_depth)  \n",
    "                              \n",
    "    return 'Correct Proportion: {:.2f}% |\\n Correct in 5 not 3: {:.2f}% |\\n Correct in 15 not 5: {:.2f}% |\\n Has Prediction and is Correct: {:.2f}% |\\n Incorrect Proportion: {:.2f}% |\\n None Proportion: {:.2f}% |\\n First Prediction: {:.2f}% |\\n Average Success Freq: {:.2f} |\\n Average Fail Freq: {:.2f}'.format(100 * correct/(test_size-none_count), 100 * correct_with_5/(test_size-none_count), 100 * correct_with_15/(test_size-none_count), 100 * correct/has_prediction, 100 * incorrect/test_size, 100 * none_count/test_size, 100 * first_prediction/test_size, mean(succeed_frequencies)/len(train_data), mean(fail_frequencies)/len(train_data))\n"
   ]
  },
  {
   "cell_type": "code",
   "execution_count": 11,
   "metadata": {},
   "outputs": [
    {
     "name": "stderr",
     "output_type": "stream",
     "text": [
      "100%|██████████| 52/52 [00:09<00:00,  5.27it/s]\n",
      "100%|██████████| 36/36 [00:05<00:00,  6.55it/s]\n",
      "100%|██████████| 25/25 [00:02<00:00, 11.04it/s]\n",
      "100%|██████████| 56/56 [00:06<00:00,  8.83it/s]\n"
     ]
    }
   ],
   "source": [
    "from parse import Parser\n",
    "\n",
    "parser = Parser()"
   ]
  },
  {
   "cell_type": "markdown",
   "metadata": {},
   "source": [
    "Colearning train tests, all but last file"
   ]
  },
  {
   "cell_type": "code",
   "execution_count": 12,
   "metadata": {},
   "outputs": [
    {
     "name": "stderr",
     "output_type": "stream",
     "text": [
      "100%|██████████| 51/51 [00:10<00:00,  4.92it/s]\n",
      "100%|██████████| 35/35 [00:05<00:00,  6.11it/s]\n",
      "100%|██████████| 24/24 [00:02<00:00, 10.31it/s]\n",
      "100%|██████████| 55/55 [00:06<00:00,  8.30it/s]\n"
     ]
    }
   ],
   "source": [
    "science_session_train = parser.parse_commands_per_session(parser.scientists_files[:-1])\n",
    "science_session_train = parser.parse_commands_into_subsets_sliding_window(science_session_train, 5)\n",
    "science_session_train = parser.replace_args_nested(science_session_train)\n",
    "\n",
    "experienced_session_train = parser.parse_commands_per_session(parser.experienced_files[:-1])\n",
    "experienced_session_train = parser.parse_commands_into_subsets_sliding_window(experienced_session_train, 5)\n",
    "experienced_session_train = parser.replace_args_nested(experienced_session_train)\n",
    "\n",
    "non_session_train = parser.parse_commands_per_session(parser.non_programmers_files[:-1])\n",
    "non_session_train = parser.parse_commands_into_subsets_sliding_window(non_session_train, 5)\n",
    "non_session_train = parser.replace_args_nested(non_session_train)\n",
    "\n",
    "novice_session_train = parser.parse_commands_per_session(parser.novice_files[:-1])\n",
    "novice_session_train = parser.parse_commands_into_subsets_sliding_window(novice_session_train, 5)\n",
    "novice_session_train = parser.replace_args_nested(novice_session_train)"
   ]
  },
  {
   "cell_type": "markdown",
   "metadata": {},
   "source": [
    "Colearning test set, last file"
   ]
  },
  {
   "cell_type": "code",
   "execution_count": 13,
   "metadata": {},
   "outputs": [
    {
     "name": "stderr",
     "output_type": "stream",
     "text": [
      "100%|██████████| 1/1 [00:00<00:00, 11.59it/s]\n",
      "100%|██████████| 1/1 [00:00<00:00,  5.44it/s]\n",
      "100%|██████████| 1/1 [00:00<00:00,  6.61it/s]\n",
      "100%|██████████| 1/1 [00:00<00:00,  9.80it/s]\n"
     ]
    }
   ],
   "source": [
    "science_session_test = parser.parse_commands_per_session(parser.scientists_files[-1:])\n",
    "science_session_test = parser.parse_commands_into_subsets_sliding_window(science_session_test, 5)\n",
    "science_session_test = parser.replace_args_nested(science_session_test)\n",
    "\n",
    "experienced_session_test = parser.parse_commands_per_session(parser.experienced_files[-1:])\n",
    "experienced_session_test = parser.parse_commands_into_subsets_sliding_window(experienced_session_test, 5)\n",
    "experienced_session_test = parser.replace_args_nested(experienced_session_test)\n",
    "\n",
    "non_session_test = parser.parse_commands_per_session(parser.non_programmers_files[-1:])\n",
    "non_session_test = parser.parse_commands_into_subsets_sliding_window(non_session_test, 5)\n",
    "non_session_test = parser.replace_args_nested(non_session_test)\n",
    "\n",
    "novice_session_test = parser.parse_commands_per_session(parser.novice_files[-1:])\n",
    "novice_session_test = parser.parse_commands_into_subsets_sliding_window(novice_session_test, 5)\n",
    "novice_session_test = parser.replace_args_nested(novice_session_test)"
   ]
  },
  {
   "cell_type": "markdown",
   "metadata": {},
   "source": [
    "Accuracy predicting N+1 command from N commands with all commands in graph\n",
    "\n",
    "TODO: rename/add train/test args"
   ]
  },
  {
   "cell_type": "code",
   "execution_count": 20,
   "metadata": {},
   "outputs": [
    {
     "name": "stdout",
     "output_type": "stream",
     "text": [
      "Accuracy predicting command 2 from commands 1 through 1:\n",
      "\n"
     ]
    },
    {
     "name": "stderr",
     "output_type": "stream",
     "text": [
      "                                                    \r"
     ]
    },
    {
     "name": "stdout",
     "output_type": "stream",
     "text": [
      "Scientist session:\n",
      " Correct Proportion: 35.14% |\n",
      " Correct in 5 not 3: 40.94% |\n",
      " Correct in 15 not 5: 53.86% |\n",
      " Has Prediction and is Correct: 35.14% |\n",
      " Incorrect Proportion: 64.45% |\n",
      " None Proportion: 0.62% |\n",
      " First Prediction: 20.50% |\n",
      " Average Success Freq: 0.28 |\n",
      " Average Fail Freq: 0.19\n"
     ]
    },
    {
     "name": "stderr",
     "output_type": "stream",
     "text": [
      "                                                     \r"
     ]
    },
    {
     "name": "stdout",
     "output_type": "stream",
     "text": [
      "Experienced session:\n",
      " Correct Proportion: 28.65% |\n",
      " Correct in 5 not 3: 32.78% |\n",
      " Correct in 15 not 5: 43.98% |\n",
      " Has Prediction and is Correct: 28.65% |\n",
      " Incorrect Proportion: 62.79% |\n",
      " None Proportion: 12.00% |\n",
      " First Prediction: 14.16% |\n",
      " Average Success Freq: 0.54 |\n",
      " Average Fail Freq: 0.36\n"
     ]
    },
    {
     "name": "stderr",
     "output_type": "stream",
     "text": [
      "                                                    \r"
     ]
    },
    {
     "name": "stdout",
     "output_type": "stream",
     "text": [
      "Non programmer session:\n",
      " Correct Proportion: 22.79% |\n",
      " Correct in 5 not 3: 33.61% |\n",
      " Correct in 15 not 5: 51.57% |\n",
      " Has Prediction and is Correct: 22.79% |\n",
      " Incorrect Proportion: 76.62% |\n",
      " None Proportion: 0.76% |\n",
      " First Prediction: 15.62% |\n",
      " Average Success Freq: 1.87 |\n",
      " Average Fail Freq: 1.25\n"
     ]
    },
    {
     "name": "stderr",
     "output_type": "stream",
     "text": [
      "                                                     \r"
     ]
    },
    {
     "name": "stdout",
     "output_type": "stream",
     "text": [
      "Novice session:\n",
      " Correct Proportion: 40.66% |\n",
      " Correct in 5 not 3: 42.68% |\n",
      " Correct in 15 not 5: 44.14% |\n",
      " Has Prediction and is Correct: 40.66% |\n",
      " Incorrect Proportion: 57.72% |\n",
      " None Proportion: 2.74% |\n",
      " First Prediction: 6.33% |\n",
      " Average Success Freq: 0.54 |\n",
      " Average Fail Freq: 0.38\n"
     ]
    },
    {
     "name": "stderr",
     "output_type": "stream",
     "text": [
      "                                                       \r"
     ]
    },
    {
     "name": "stdout",
     "output_type": "stream",
     "text": [
      "All sessions:\n",
      " Correct Proportion: 31.04% |\n",
      " Correct in 5 not 3: 36.74% |\n",
      " Correct in 15 not 5: 47.47% |\n",
      " Has Prediction and is Correct: 31.04% |\n",
      " Incorrect Proportion: 65.08% |\n",
      " None Proportion: 5.63% |\n",
      " First Prediction: 13.90% |\n",
      " Average Success Freq: 0.17 |\n",
      " Average Fail Freq: 0.12\n",
      "Accuracy predicting command 3 from commands 1 through 2:\n",
      "\n"
     ]
    },
    {
     "name": "stderr",
     "output_type": "stream",
     "text": [
      "                                                     \r"
     ]
    },
    {
     "name": "stdout",
     "output_type": "stream",
     "text": [
      "Scientist session:\n",
      " Correct Proportion: 33.89% |\n",
      " Correct in 5 not 3: 40.11% |\n",
      " Correct in 15 not 5: 49.05% |\n",
      " Has Prediction and is Correct: 33.89% |\n",
      " Incorrect Proportion: 62.91% |\n",
      " None Proportion: 4.84% |\n",
      " First Prediction: 21.11% |\n",
      " Average Success Freq: 0.40 |\n",
      " Average Fail Freq: 0.28\n"
     ]
    },
    {
     "name": "stderr",
     "output_type": "stream",
     "text": [
      "                                                     \r"
     ]
    },
    {
     "name": "stdout",
     "output_type": "stream",
     "text": [
      "Experienced session:\n",
      " Correct Proportion: 29.04% |\n",
      " Correct in 5 not 3: 34.75% |\n",
      " Correct in 15 not 5: 42.06% |\n",
      " Has Prediction and is Correct: 29.04% |\n",
      " Incorrect Proportion: 48.55% |\n",
      " None Proportion: 31.58% |\n",
      " First Prediction: 13.17% |\n",
      " Average Success Freq: 0.69 |\n",
      " Average Fail Freq: 0.48\n"
     ]
    },
    {
     "name": "stderr",
     "output_type": "stream",
     "text": [
      "                                                     \r"
     ]
    },
    {
     "name": "stdout",
     "output_type": "stream",
     "text": [
      "Non programmer session:\n",
      " Correct Proportion: 25.75% |\n",
      " Correct in 5 not 3: 31.31% |\n",
      " Correct in 15 not 5: 44.46% |\n",
      " Has Prediction and is Correct: 25.75% |\n",
      " Incorrect Proportion: 69.41% |\n",
      " None Proportion: 6.52% |\n",
      " First Prediction: 12.22% |\n",
      " Average Success Freq: 2.23 |\n",
      " Average Fail Freq: 1.58\n"
     ]
    },
    {
     "name": "stderr",
     "output_type": "stream",
     "text": [
      "                                                      \r"
     ]
    },
    {
     "name": "stdout",
     "output_type": "stream",
     "text": [
      "Novice session:\n",
      " Correct Proportion: 32.58% |\n",
      " Correct in 5 not 3: 35.07% |\n",
      " Correct in 15 not 5: 41.51% |\n",
      " Has Prediction and is Correct: 32.58% |\n",
      " Incorrect Proportion: 54.00% |\n",
      " None Proportion: 19.90% |\n",
      " First Prediction: 13.73% |\n",
      " Average Success Freq: 0.66 |\n",
      " Average Fail Freq: 0.47\n"
     ]
    },
    {
     "name": "stderr",
     "output_type": "stream",
     "text": [
      "                                                       \r"
     ]
    },
    {
     "name": "stdout",
     "output_type": "stream",
     "text": [
      "All sessions:\n",
      " Correct Proportion: 30.04% |\n",
      " Correct in 5 not 3: 34.87% |\n",
      " Correct in 15 not 5: 43.87% |\n",
      " Has Prediction and is Correct: 30.04% |\n",
      " Incorrect Proportion: 56.50% |\n",
      " None Proportion: 19.23% |\n",
      " First Prediction: 14.36% |\n",
      " Average Success Freq: 0.18 |\n",
      " Average Fail Freq: 0.13\n",
      "Accuracy predicting command 4 from commands 1 through 3:\n",
      "\n"
     ]
    },
    {
     "name": "stderr",
     "output_type": "stream",
     "text": [
      "                                                      \r"
     ]
    },
    {
     "name": "stdout",
     "output_type": "stream",
     "text": [
      "Scientist session:\n",
      " Correct Proportion: 29.74% |\n",
      " Correct in 5 not 3: 36.14% |\n",
      " Correct in 15 not 5: 43.64% |\n",
      " Has Prediction and is Correct: 29.74% |\n",
      " Incorrect Proportion: 56.12% |\n",
      " None Proportion: 20.12% |\n",
      " First Prediction: 15.88% |\n",
      " Average Success Freq: 0.42 |\n",
      " Average Fail Freq: 0.31\n"
     ]
    },
    {
     "name": "stderr",
     "output_type": "stream",
     "text": [
      "                                                      \r"
     ]
    },
    {
     "name": "stdout",
     "output_type": "stream",
     "text": [
      "Experienced session:\n",
      " Correct Proportion: 31.31% |\n",
      " Correct in 5 not 3: 35.25% |\n",
      " Correct in 15 not 5: 40.29% |\n",
      " Has Prediction and is Correct: 31.31% |\n",
      " Incorrect Proportion: 29.87% |\n",
      " None Proportion: 56.52% |\n",
      " First Prediction: 8.23% |\n",
      " Average Success Freq: 0.72 |\n",
      " Average Fail Freq: 0.52\n"
     ]
    },
    {
     "name": "stderr",
     "output_type": "stream",
     "text": [
      "                                                      \r"
     ]
    },
    {
     "name": "stdout",
     "output_type": "stream",
     "text": [
      "Non programmer session:\n",
      " Correct Proportion: 25.66% |\n",
      " Correct in 5 not 3: 30.39% |\n",
      " Correct in 15 not 5: 40.18% |\n",
      " Has Prediction and is Correct: 25.66% |\n",
      " Incorrect Proportion: 57.64% |\n",
      " None Proportion: 22.47% |\n",
      " First Prediction: 9.62% |\n",
      " Average Success Freq: 2.31 |\n",
      " Average Fail Freq: 1.69\n"
     ]
    },
    {
     "name": "stderr",
     "output_type": "stream",
     "text": [
      "                                        \r"
     ]
    },
    {
     "name": "stdout",
     "output_type": "stream",
     "text": [
      "Novice session:\n",
      " Correct Proportion: 25.27% |\n",
      " Correct in 5 not 3: 44.75% |\n",
      " Correct in 15 not 5: 47.16% |\n",
      " Has Prediction and is Correct: 25.27% |\n",
      " Incorrect Proportion: 33.17% |\n",
      " None Proportion: 55.61% |\n",
      " First Prediction: 8.69% |\n",
      " Average Success Freq: 0.69 |\n",
      " Average Fail Freq: 0.51\n"
     ]
    },
    {
     "name": "stderr",
     "output_type": "stream",
     "text": [
      "                                                      \r"
     ]
    },
    {
     "name": "stdout",
     "output_type": "stream",
     "text": [
      "All sessions:\n",
      " Correct Proportion: 28.26% |\n",
      " Correct in 5 not 3: 35.52% |\n",
      " Correct in 15 not 5: 42.19% |\n",
      " Has Prediction and is Correct: 28.26% |\n",
      " Incorrect Proportion: 40.75% |\n",
      " None Proportion: 43.19% |\n",
      " First Prediction: 9.76% |\n",
      " Average Success Freq: 0.18 |\n",
      " Average Fail Freq: 0.13\n",
      "Accuracy predicting command 5 from commands 1 through 4:\n",
      "\n"
     ]
    },
    {
     "name": "stderr",
     "output_type": "stream",
     "text": [
      "                                       \r"
     ]
    },
    {
     "name": "stdout",
     "output_type": "stream",
     "text": [
      "Scientist session:\n",
      " Correct Proportion: 25.65% |\n",
      " Correct in 5 not 3: 32.30% |\n",
      " Correct in 15 not 5: 37.77% |\n",
      " Has Prediction and is Correct: 25.65% |\n",
      " Incorrect Proportion: 43.78% |\n",
      " None Proportion: 41.12% |\n",
      " First Prediction: 9.51% |\n",
      " Average Success Freq: 0.43 |\n",
      " Average Fail Freq: 0.32\n"
     ]
    },
    {
     "name": "stderr",
     "output_type": "stream",
     "text": [
      "                                        \r"
     ]
    },
    {
     "name": "stdout",
     "output_type": "stream",
     "text": [
      "Experienced session:\n",
      " Correct Proportion: 30.93% |\n",
      " Correct in 5 not 3: 32.20% |\n",
      " Correct in 15 not 5: 36.02% |\n",
      " Has Prediction and is Correct: 30.93% |\n",
      " Incorrect Proportion: 17.52% |\n",
      " None Proportion: 74.64% |\n",
      " First Prediction: 5.96% |\n",
      " Average Success Freq: 0.73 |\n",
      " Average Fail Freq: 0.54\n"
     ]
    },
    {
     "name": "stderr",
     "output_type": "stream",
     "text": [
      "                                       \r"
     ]
    },
    {
     "name": "stdout",
     "output_type": "stream",
     "text": [
      "Non programmer session:\n",
      " Correct Proportion: 26.52% |\n",
      " Correct in 5 not 3: 30.82% |\n",
      " Correct in 15 not 5: 34.23% |\n",
      " Has Prediction and is Correct: 26.52% |\n",
      " Incorrect Proportion: 42.58% |\n",
      " None Proportion: 42.06% |\n",
      " First Prediction: 7.48% |\n",
      " Average Success Freq: 2.34 |\n",
      " Average Fail Freq: 1.75\n"
     ]
    },
    {
     "name": "stderr",
     "output_type": "stream",
     "text": [
      "                                        \r"
     ]
    },
    {
     "name": "stdout",
     "output_type": "stream",
     "text": [
      "Novice session:\n",
      " Correct Proportion: 16.73% |\n",
      " Correct in 5 not 3: 16.73% |\n",
      " Correct in 15 not 5: 19.77% |\n",
      " Has Prediction and is Correct: 16.73% |\n",
      " Incorrect Proportion: 21.77% |\n",
      " None Proportion: 73.86% |\n",
      " First Prediction: 3.88% |\n",
      " Average Success Freq: 0.71 |\n",
      " Average Fail Freq: 0.53\n"
     ]
    },
    {
     "name": "stderr",
     "output_type": "stream",
     "text": [
      "                                        \r"
     ]
    },
    {
     "name": "stdout",
     "output_type": "stream",
     "text": [
      "All sessions:\n",
      " Correct Proportion: 25.90% |\n",
      " Correct in 5 not 3: 29.35% |\n",
      " Correct in 15 not 5: 33.37% |\n",
      " Has Prediction and is Correct: 25.90% |\n",
      " Incorrect Proportion: 27.94% |\n",
      " None Proportion: 62.29% |\n",
      " First Prediction: 6.36% |\n",
      " Average Success Freq: 0.18 |\n",
      " Average Fail Freq: 0.14\n",
      "Accuracy predicting command N from commands 1 through N-1:\n",
      "\n"
     ]
    },
    {
     "name": "stderr",
     "output_type": "stream",
     "text": [
      "                                                     \r"
     ]
    },
    {
     "name": "stdout",
     "output_type": "stream",
     "text": [
      "Scientist session:\n",
      " Correct Proportion: 31.32% |\n",
      " Correct in 5 not 3: 37.54% |\n",
      " Correct in 15 not 5: 46.82% |\n",
      " Has Prediction and is Correct: 31.32% |\n",
      " Incorrect Proportion: 58.13% |\n",
      " None Proportion: 15.36% |\n",
      " First Prediction: 16.79% |\n",
      " Average Success Freq: 0.45 |\n",
      " Average Fail Freq: 0.33\n"
     ]
    },
    {
     "name": "stderr",
     "output_type": "stream",
     "text": [
      "                                                     \r"
     ]
    },
    {
     "name": "stdout",
     "output_type": "stream",
     "text": [
      "Experienced session:\n",
      " Correct Proportion: 29.35% |\n",
      " Correct in 5 not 3: 33.58% |\n",
      " Correct in 15 not 5: 41.66% |\n",
      " Has Prediction and is Correct: 29.35% |\n",
      " Incorrect Proportion: 40.41% |\n",
      " None Proportion: 42.81% |\n",
      " First Prediction: 10.70% |\n",
      " Average Success Freq: 0.79 |\n",
      " Average Fail Freq: 0.59\n"
     ]
    },
    {
     "name": "stderr",
     "output_type": "stream",
     "text": [
      "                                                     \r"
     ]
    },
    {
     "name": "stdout",
     "output_type": "stream",
     "text": [
      "Non programmer session:\n",
      " Correct Proportion: 25.09% |\n",
      " Correct in 5 not 3: 31.85% |\n",
      " Correct in 15 not 5: 44.85% |\n",
      " Has Prediction and is Correct: 25.09% |\n",
      " Incorrect Proportion: 62.80% |\n",
      " None Proportion: 16.16% |\n",
      " First Prediction: 11.82% |\n",
      " Average Success Freq: 2.62 |\n",
      " Average Fail Freq: 1.95\n"
     ]
    },
    {
     "name": "stderr",
     "output_type": "stream",
     "text": [
      "                                                     \r"
     ]
    },
    {
     "name": "stdout",
     "output_type": "stream",
     "text": [
      "Novice session:\n",
      " Correct Proportion: 32.98% |\n",
      " Correct in 5 not 3: 37.85% |\n",
      " Correct in 15 not 5: 46.96% |\n",
      " Has Prediction and is Correct: 32.98% |\n",
      " Incorrect Proportion: 42.44% |\n",
      " None Proportion: 36.67% |\n",
      " First Prediction: 8.16% |\n",
      " Average Success Freq: 0.78 |\n",
      " Average Fail Freq: 0.59\n"
     ]
    },
    {
     "name": "stderr",
     "output_type": "stream",
     "text": [
      "                                                       \r"
     ]
    },
    {
     "name": "stdout",
     "output_type": "stream",
     "text": [
      "All sessions:\n",
      " Correct Proportion: 29.37% |\n",
      " Correct in 5 not 3: 34.75% |\n",
      " Correct in 15 not 5: 44.64% |\n",
      " Has Prediction and is Correct: 29.37% |\n",
      " Incorrect Proportion: 48.69% |\n",
      " None Proportion: 31.06% |\n",
      " First Prediction: 11.38% |\n",
      " Average Success Freq: 0.22 |\n",
      " Average Fail Freq: 0.16\n"
     ]
    }
   ],
   "source": [
    "all_train = science_session_train + experienced_session_train + non_session_train + novice_session_train\n",
    "all_test = science_session_test + experienced_session_test + non_session_test + novice_session_test\n",
    "\n",
    "for i in range(1, 5):\n",
    "    print(\"Accuracy predicting command {} from commands {} through {}:\\n\".format(i+1, 1, i))\n",
    "\n",
    "    print(\"Scientist session:\\n\", get_accuracy_colearn(science_session_train, science_session_test, graph_depth=i))\n",
    "    print(\"Experienced session:\\n\", get_accuracy_colearn(experienced_session_train, experienced_session_test, graph_depth=i))\n",
    "    print(\"Non programmer session:\\n\", get_accuracy_colearn(non_session_train, non_session_test, graph_depth=i))\n",
    "    print(\"Novice session:\\n\", get_accuracy_colearn(novice_session_train, novice_session_test, graph_depth=i))\n",
    "    print(\"All sessions:\\n\", get_accuracy_colearn(all_train, all_test, graph_depth=i))\n",
    "\n",
    "i=-1\n",
    "print(\"Accuracy predicting command N from commands 1 through N-1:\\n\")\n",
    "print(\"Scientist session:\\n\", get_accuracy_colearn(science_session_train, science_session_test, graph_depth=i))\n",
    "print(\"Experienced session:\\n\", get_accuracy_colearn(experienced_session_train, experienced_session_test, graph_depth=i))\n",
    "print(\"Non programmer session:\\n\", get_accuracy_colearn(non_session_train, non_session_test, graph_depth=i))\n",
    "print(\"Novice session:\\n\", get_accuracy_colearn(novice_session_train, novice_session_test, graph_depth=i))\n",
    "print(\"All sessions:\\n\", get_accuracy_colearn(all_train, all_test, graph_depth=i))"
   ]
  }
 ],
 "metadata": {
  "interpreter": {
   "hash": "d6a02243acaf6442a8dfab70d4c1e9169b9d22808d9e1a1dd816394099b97fa0"
  },
  "kernelspec": {
   "display_name": "Python 3.9.10 ('venv': venv)",
   "language": "python",
   "name": "python3"
  },
  "language_info": {
   "codemirror_mode": {
    "name": "ipython",
    "version": 3
   },
   "file_extension": ".py",
   "mimetype": "text/x-python",
   "name": "python",
   "nbconvert_exporter": "python",
   "pygments_lexer": "ipython3",
   "version": "3.9.12"
  },
  "orig_nbformat": 4
 },
 "nbformat": 4,
 "nbformat_minor": 2
}
