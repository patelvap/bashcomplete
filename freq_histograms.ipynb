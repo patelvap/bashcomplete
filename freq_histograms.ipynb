{
 "cells": [
  {
   "cell_type": "code",
   "execution_count": 2,
   "metadata": {},
   "outputs": [],
   "source": [
    "import csv\n",
    "import numpy as np\n",
    "import matplotlib.pyplot as plt\n",
    "%matplotlib inline"
   ]
  },
  {
   "cell_type": "code",
   "execution_count": 35,
   "metadata": {},
   "outputs": [],
   "source": [
    "top_dir_names = [\"fails\", \"successes\"]\n",
    "dir_names = [\"frequencies_2\", \"frequencies_3\", \"frequencies_4\", \"frequencies_5\", \"frequencies_all\"]\n",
    "file_names = [\"Science data.csv\", \"Experienced data.csv\", \"Non programmer data.csv\", \"Novice data.csv\"]"
   ]
  },
  {
   "cell_type": "code",
   "execution_count": 52,
   "metadata": {},
   "outputs": [],
   "source": [
    "for top_dir in top_dir_names:\n",
    "    for dir in dir_names:\n",
    "        for file in file_names:\n",
    "            with open(top_dir + '/' + dir + '/' + file, 'r') as f:\n",
    "                data = list(csv.reader(f, delimiter=','))\n",
    "                \n",
    "                data = np.array(data)\n",
    "                data = data[0]\n",
    "                data = data.astype(np.float32)\n",
    "\n",
    "                plt.hist(data, bins=30)\n",
    "                plt.title(dir + ' ' + file.split('.')[0])\n",
    "                plt.xlabel('Average Frequency of Commands Parsed when Predicting')\n",
    "                plt.ylabel('Frequency of bin')\n",
    "                plt.savefig(top_dir + '/' + dir + '/' + file.split('.')[0] + '.png')\n",
    "                plt.close()"
   ]
  },
  {
   "cell_type": "code",
   "execution_count": 48,
   "metadata": {},
   "outputs": [
    {
     "data": {
      "text/plain": [
       "(array([8.65494208e-05, 4.37990307e-05, 3.40198484e-05, 1.81561126e-05,\n",
       "        1.42298049e-05, 1.15594345e-05, 3.48246255e-05, 6.90151635e-06,\n",
       "        0.00000000e+00, 0.00000000e+00, 0.00000000e+00, 0.00000000e+00,\n",
       "        0.00000000e+00, 0.00000000e+00, 0.00000000e+00, 2.58623961e-05,\n",
       "        0.00000000e+00, 0.00000000e+00, 1.13399474e-06, 0.00000000e+00,\n",
       "        4.49696649e-05, 3.37393917e-05, 1.21569113e-05, 1.20959438e-05,\n",
       "        2.85327708e-06]),\n",
       " array([1.500000e+00, 2.613480e+03, 5.225460e+03, 7.837440e+03,\n",
       "        1.044942e+04, 1.306140e+04, 1.567338e+04, 1.828536e+04,\n",
       "        2.089734e+04, 2.350932e+04, 2.612130e+04, 2.873328e+04,\n",
       "        3.134526e+04, 3.395724e+04, 3.656922e+04, 3.918120e+04,\n",
       "        4.179318e+04, 4.440516e+04, 4.701714e+04, 4.962912e+04,\n",
       "        5.224110e+04, 5.485308e+04, 5.746506e+04, 6.007704e+04,\n",
       "        6.268902e+04, 6.530100e+04], dtype=float32),\n",
       " <BarContainer object of 25 artists>)"
      ]
     },
     "execution_count": 48,
     "metadata": {},
     "output_type": "execute_result"
    },
    {
     "data": {
      "image/png": "[encoded data removed]",
      "text/plain": [
       "<Figure size 432x288 with 1 Axes>"
      ]
     },
     "metadata": {
      "needs_background": "light"
     },
     "output_type": "display_data"
    }
   ],
   "source": [
    "with open('fails/frequencies_2/Science data.csv', 'r') as file:\n",
    "    data = list(csv.reader(file, delimiter=','))\n",
    "\n",
    "data = np.array(data)\n",
    "data = data.astype(np.float32)\n",
    "data = data[0]\n",
    "plt.hist(data, density=True, bins=25)"
   ]
  },
  {
   "cell_type": "code",
   "execution_count": null,
   "metadata": {},
   "outputs": [],
   "source": []
  }
 ],
 "metadata": {
  "interpreter": {
   "hash": "d6a02243acaf6442a8dfab70d4c1e9169b9d22808d9e1a1dd816394099b97fa0"
  },
  "kernelspec": {
   "display_name": "Python 3.9.12 ('venv': venv)",
   "language": "python",
   "name": "python3"
  },
  "language_info": {
   "codemirror_mode": {
    "name": "ipython",
    "version": 3
   },
   "file_extension": ".py",
   "mimetype": "text/x-python",
   "name": "python",
   "nbconvert_exporter": "python",
   "pygments_lexer": "ipython3",
   "version": "3.9.12"
  },
  "orig_nbformat": 4
 },
 "nbformat": 4,
 "nbformat_minor": 2
}
