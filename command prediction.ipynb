{
 "cells": [
  {
   "cell_type": "code",
   "execution_count": 2,
   "metadata": {},
   "outputs": [],
   "source": [
    "import bashlex\n",
    "import re\n",
    "import os"
   ]
  },
  {
   "cell_type": "code",
   "execution_count": 3,
   "metadata": {},
   "outputs": [],
   "source": [
    "re_command_filter = \"C \"\n",
    "re_error_filter = \"X \"\n",
    "re_session_filter = \"S \""
   ]
  },
  {
   "cell_type": "code",
   "execution_count": 4,
   "metadata": {},
   "outputs": [],
   "source": [
    "scientists_dir = \"./unix-data/computer-scientists/\"\n",
    "experienced_dir = \"./unix-data/experienced-programmers/\"\n",
    "non_programmers_dir = \"./unix-data/non-programmers/\"\n",
    "novice_dir = \"./unix-data/novice-programmers/\"\n",
    "\n",
    "scientists_files = os.listdir(scientists_dir)\n",
    "experienced_files = os.listdir(experienced_dir)\n",
    "non_programmers_files = os.listdir(non_programmers_dir)\n",
    "novice_files = os.listdir(novice_dir)\n",
    "\n",
    "scientist_commands = []\n",
    "experienced_commands = []\n",
    "non_programmers_commands = []\n",
    "novice_commands = []\n",
    "\n",
    "scientist_parsed = []\n",
    "experienced_parsed = []\n",
    "non_programmers_parsed = []\n",
    "novice_parsed = []"
   ]
  },
  {
   "cell_type": "markdown",
   "metadata": {},
   "source": [
    "Generates list of files"
   ]
  },
  {
   "cell_type": "code",
   "execution_count": 5,
   "metadata": {},
   "outputs": [],
   "source": [
    "for i in range(len(scientists_files)):\n",
    "    scientists_files[i] = scientists_dir + scientists_files[i]\n",
    "\n",
    "for i in range(len(experienced_files)):\n",
    "    experienced_files[i] = experienced_dir + experienced_files[i]\n",
    "\n",
    "for i in range(len(non_programmers_files)):\n",
    "    non_programmers_files[i] = non_programmers_dir + non_programmers_files[i]\n",
    "\n",
    "for i in range(len(novice_files)):\n",
    "    novice_files[i] = novice_dir + novice_files[i]"
   ]
  },
  {
   "cell_type": "markdown",
   "metadata": {},
   "source": [
    "Opens files to read"
   ]
  },
  {
   "cell_type": "code",
   "execution_count": 15,
   "metadata": {},
   "outputs": [],
   "source": [
    "for file_path in scientists_files:\n",
    "    file1 = open(file_path, encoding=\"ISO-8859-1\")\n",
    "    lines = file1.readlines()\n",
    "\n",
    "    for line in lines:\n",
    "        if re.match(re_command_filter, line) is not None:\n",
    "            scientist_commands.append(line[2:-1])\n",
    "            try:\n",
    "                parts = bashlex.parse(scientist_commands[-1])\n",
    "                scientist_parsed.append(parts[0].dump())\n",
    "            except Exception as inst:\n",
    "                pass"
   ]
  },
  {
   "cell_type": "code",
   "execution_count": 16,
   "metadata": {},
   "outputs": [],
   "source": [
    "for file_path in experienced_files:\n",
    "    file1 = open(file_path, encoding=\"ISO-8859-1\")\n",
    "    lines = file1.readlines()\n",
    "\n",
    "    for line in lines:\n",
    "        if re.match(re_command_filter, line) is not None:\n",
    "            experienced_commands.append(line[2:-1])\n",
    "            try:\n",
    "                parts = bashlex.parse(experienced_commands[-1])\n",
    "                experienced_parsed.append(parts[0].dump())\n",
    "            except Exception as inst:\n",
    "                pass"
   ]
  },
  {
   "cell_type": "code",
   "execution_count": 18,
   "metadata": {},
   "outputs": [],
   "source": [
    "for file_path in non_programmers_files:\n",
    "    file1 = open(file_path, encoding=\"ISO-8859-1\")\n",
    "    lines = file1.readlines()\n",
    "\n",
    "    for line in lines:\n",
    "        if re.match(re_command_filter, line) is not None:\n",
    "            non_programmers_commands.append(line[2:-1])\n",
    "            try:\n",
    "                parts = bashlex.parse(non_programmers_commands[-1])\n",
    "                non_programmers_parsed.append(parts[0].dump())\n",
    "            except Exception as inst:\n",
    "                pass"
   ]
  },
  {
   "cell_type": "code",
   "execution_count": 20,
   "metadata": {},
   "outputs": [],
   "source": [
    "for file_path in novice_files:\n",
    "    file1 = open(file_path, encoding=\"ISO-8859-1\")\n",
    "    lines = file1.readlines()\n",
    "\n",
    "    for line in lines:\n",
    "        if re.match(re_command_filter, line) is not None:\n",
    "            novice_commands.append(line[2:-1])\n",
    "            try:\n",
    "                parts = bashlex.parse(novice_commands[-1])\n",
    "                novice_parsed.append(parts[0].dump())\n",
    "            except Exception as inst:\n",
    "                pass"
   ]
  },
  {
   "cell_type": "code",
   "execution_count": null,
   "metadata": {},
   "outputs": [],
   "source": []
  }
 ],
 "metadata": {
  "kernelspec": {
   "display_name": "Python 3",
   "language": "python",
   "name": "python3"
  },
  "language_info": {
   "codemirror_mode": {
    "name": "ipython",
    "version": 3
   },
   "file_extension": ".py",
   "mimetype": "text/x-python",
   "name": "python",
   "nbconvert_exporter": "python",
   "pygments_lexer": "ipython3",
   "version": "3.7.3"
  }
 },
 "nbformat": 4,
 "nbformat_minor": 4
}
