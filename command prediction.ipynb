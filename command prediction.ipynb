{
 "cells": [
  {
   "cell_type": "code",
   "execution_count": 1,
   "metadata": {},
   "outputs": [],
   "source": [
    "import bashlex\n",
    "import copy\n",
    "import re\n",
    "import os\n",
    "\n",
    "from tqdm import tqdm"
   ]
  },
  {
   "cell_type": "code",
   "execution_count": 2,
   "metadata": {},
   "outputs": [],
   "source": [
    "re_command_filter = \"C\"\n",
    "re_error_filter = \"X\"\n",
    "re_start_filter = \"S\" "
   ]
  },
  {
   "cell_type": "code",
   "execution_count": 3,
   "metadata": {},
   "outputs": [],
   "source": [
    "scientists_dir = \"./unix-data/computer-scientists/\"\n",
    "experienced_dir = \"./unix-data/experienced-programmers/\"\n",
    "non_programmers_dir = \"./unix-data/non-programmers/\"\n",
    "novice_dir = \"./unix-data/novice-programmers/\"\n",
    "\n",
    "scientists_files = os.listdir(scientists_dir)\n",
    "experienced_files = os.listdir(experienced_dir)\n",
    "non_programmers_files = os.listdir(non_programmers_dir)\n",
    "novice_files = os.listdir(novice_dir)\n",
    "\n",
    "scientist_commands = []\n",
    "experienced_commands = []\n",
    "non_programmers_commands = []\n",
    "novice_commands = []\n",
    "\n",
    "scientist_parsed = []\n",
    "experienced_parsed = []\n",
    "non_programmers_parsed = []\n",
    "novice_parsed = []"
   ]
  },
  {
   "cell_type": "markdown",
   "metadata": {},
   "source": [
    "Generates list of files"
   ]
  },
  {
   "cell_type": "code",
   "execution_count": 4,
   "metadata": {},
   "outputs": [],
   "source": [
    "for i in range(len(scientists_files)):\n",
    "    scientists_files[i] = scientists_dir + scientists_files[i]\n",
    "\n",
    "for i in range(len(experienced_files)):\n",
    "    experienced_files[i] = experienced_dir + experienced_files[i]\n",
    "\n",
    "for i in range(len(non_programmers_files)):\n",
    "    non_programmers_files[i] = non_programmers_dir + non_programmers_files[i]\n",
    "\n",
    "for i in range(len(novice_files)):\n",
    "    novice_files[i] = novice_dir + novice_files[i]"
   ]
  },
  {
   "cell_type": "markdown",
   "metadata": {},
   "source": [
    "Parse function that returns nested list of parsed commands based on session"
   ]
  },
  {
   "cell_type": "code",
   "execution_count": 5,
   "metadata": {},
   "outputs": [],
   "source": [
    "def parse_commands_per_session(command_list, parsed_list, files_list):\n",
    "    for file_path in tqdm(files_list):\n",
    "        file1 = open(file_path, encoding=\"ISO-8859-1\")\n",
    "        lines = file1.readlines()\n",
    "\n",
    "        command_sublist = []\n",
    "        parsed_sublist = []\n",
    "\n",
    "        for line in range(len(lines)):\n",
    "            \n",
    "            if re.match(re_start_filter, lines[line]) is not None:\n",
    "                if len(command_sublist) != 0 and len(parsed_sublist) != 0:\n",
    "                    command_list.append(copy.deepcopy(command_sublist))\n",
    "                    parsed_list.append(copy.deepcopy(parsed_sublist))\n",
    "\n",
    "\n",
    "                command_sublist = []\n",
    "                parsed_sublist = []\n",
    "            \n",
    "            if re.match(re_command_filter, lines[line]) is not None:\n",
    "                command_sublist.append(lines[line][2:-1])\n",
    "                \n",
    "                try:\n",
    "                    parts = list(bashlex.split(command_sublist[-1]))\n",
    "                    parsed_sublist.append(parts)\n",
    "                except Exception as inst:\n",
    "                    command_sublist.pop(-1)\n",
    "                    \n",
    "    \n",
    "    # Not necessary as list is created by ref parameter \n",
    "    return command_list\n",
    "            "
   ]
  },
  {
   "cell_type": "markdown",
   "metadata": {},
   "source": [
    "Function that parses just by command"
   ]
  },
  {
   "cell_type": "code",
   "execution_count": 6,
   "metadata": {},
   "outputs": [],
   "source": [
    "def parse_commands(command_list, parsed_list, files_list):\n",
    "    for file_path in tqdm(files_list): \n",
    "        file1 = open(file_path, encoding=\"ISO-8859-1\")\n",
    "        lines = file1.readlines()\n",
    "\n",
    "        for line in range(len(lines)):\n",
    "            if re.match(re_command_filter, lines[line]) is not None:\n",
    "                command_list.append(lines[line][2:-1])\n",
    "                \n",
    "                try:\n",
    "                    parts = list(bashlex.split(command_list[-1]))\n",
    "                    parsed_list.append(parts)\n",
    "                except Exception as inst:\n",
    "                    command_list.pop(-1)\n",
    "\n",
    "    return command_list"
   ]
  },
  {
   "cell_type": "code",
   "execution_count": 7,
   "metadata": {},
   "outputs": [
    {
     "name": "stderr",
     "output_type": "stream",
     "text": [
      "100%|██████████| 52/52 [00:05<00:00,  9.27it/s]\n",
      "100%|██████████| 36/36 [00:03<00:00, 11.66it/s]\n",
      "100%|██████████| 25/25 [00:01<00:00, 19.57it/s]\n",
      "100%|██████████| 56/56 [00:03<00:00, 15.48it/s]\n"
     ]
    }
   ],
   "source": [
    "scientist_commands = parse_commands_per_session(scientist_commands, scientist_parsed, scientists_files)\n",
    "experienced_commands = parse_commands_per_session(experienced_commands, experienced_parsed, experienced_files)\n",
    "non_programmers_commands = parse_commands_per_session(non_programmers_commands, non_programmers_parsed, non_programmers_files)\n",
    "novice_commands = parse_commands_per_session(novice_commands, novice_parsed, novice_files)\n",
    "\n",
    "filter_empty = lambda x: (len(x) > 0)\n",
    "\n",
    "scientist_commands = list(filter(filter_empty, scientist_commands))\n",
    "experienced_commands = list(filter(filter_empty, experienced_commands))\n",
    "non_programmers_commands = list(filter(filter_empty, non_programmers_commands))\n",
    "novice_commands = list(filter(filter_empty, novice_commands))"
   ]
  },
  {
   "cell_type": "code",
   "execution_count": 8,
   "metadata": {},
   "outputs": [
    {
     "name": "stdout",
     "output_type": "stream",
     "text": [
      "7699\n",
      "3823\n",
      "1881\n",
      "5109\n",
      "['cat pre cr31 | tbl | nroff -me > cr31out &', 'f', 'mail ling', 'more cr31out']\n"
     ]
    }
   ],
   "source": [
    "print(len(scientist_parsed))\n",
    "print(len(experienced_parsed))\n",
    "print(len(non_programmers_parsed))\n",
    "print(len(novice_parsed))\n",
    "\n",
    "print(scientist_commands[1])"
   ]
  },
  {
   "cell_type": "markdown",
   "metadata": {},
   "source": [
    "Defunct, predicts next argument in command with this structure"
   ]
  },
  {
   "cell_type": "code",
   "execution_count": 9,
   "metadata": {},
   "outputs": [],
   "source": [
    "from graph import Node\n",
    "\n",
    "def construct_graph_defunct(parsed_commands, command_dict = {}):\n",
    "\n",
    "    for cmd in parsed_commands:\n",
    "\n",
    "        cur_node = None\n",
    "\n",
    "        if command_dict.get(cmd[0]) is None:\n",
    "            cur_node = Node(command = cmd[0], frequency = 1)\n",
    "            command_dict[cmd[0]] = cur_node\n",
    "        else:\n",
    "            command_dict.get(cmd[0]).frequency += 1\n",
    "            cur_node = command_dict.get(cmd[0])\n",
    "\n",
    "        for i in range(1, len(cmd)):\n",
    "            child_node = None\n",
    "\n",
    "            if cur_node.children.get(cmd[i]) is None:\n",
    "                child_node = Node(cmd[i], 1)\n",
    "                cur_node.children[cmd[i]] = child_node\n",
    "            else:\n",
    "                cur_node.children.get(cmd[i]).frequency += 1\n",
    "                child_node = cur_node.children.get(cmd[i])\n",
    "            \n",
    "            cur_node = child_node\n",
    "        \n",
    "    return command_dict\n"
   ]
  },
  {
   "cell_type": "markdown",
   "metadata": {},
   "source": [
    "Graph structure for next command. Use command list instead of bashlex output since we are comparing whole commands as nodes in a graph.\n",
    "\n",
    "Making command dict key the program (e.g. `cat`) and value the node with that program and have that nodes children be the full command. And then have the children of those nodes be determined by fuzzy matching. So a node can be a child to many parents if its fuzzy matched."
   ]
  },
  {
   "cell_type": "code",
   "execution_count": 10,
   "metadata": {},
   "outputs": [],
   "source": [
    "from graph import Node\n",
    "\n",
    "def construct_graph(command_list, command_dict={}):\n",
    "\n",
    "    filter_empty = lambda x: (len(x) > 0)\n",
    "    cur_node = None\n",
    "    child_node = None\n",
    "    \n",
    "    for session in command_list:\n",
    "        # remove commands of length 0 ( not good to modify list within loop )\n",
    "        \n",
    "        session = list(filter(filter_empty, session))\n",
    "\n",
    "        \n",
    "\n",
    "        first_cmd = session[0]\n",
    "\n",
    "        program = session[0].split()[0]\n",
    "\n",
    "        if command_dict.get(program) is None:\n",
    "            cur_node = Node(program=program, frequency=1)\n",
    "            command_dict[program] = cur_node \n",
    "        else:\n",
    "            cur_node = command_dict.get(program)\n",
    "            cur_node.frequency += 1\n",
    "\n",
    "        if cur_node.commands.get(first_cmd) is None:\n",
    "            cur_node.commands[first_cmd] = 1\n",
    "        else:\n",
    "            cur_node.commands[first_cmd] += 1\n",
    "\n",
    "        for cmd in range(1, len(session)):\n",
    "\n",
    "            if session[cmd].isprintable() is False:\n",
    "                break\n",
    "            else:\n",
    "                program = session[cmd].split()[0]\n",
    "\n",
    "            if cur_node.children.get(program) is None:\n",
    "                child_node = Node(program = program, frequency=1)\n",
    "                cur_node.children[program] = child_node\n",
    "            else:\n",
    "                child_node = cur_node.children.get(program)\n",
    "                child_node.frequency += 1\n",
    "            \n",
    "            if child_node.commands.get(session[cmd]) is None:\n",
    "                child_node.commands[session[cmd]] = 1\n",
    "            else:\n",
    "                child_node.commands[session[cmd]] += 1\n",
    "            \n",
    "            cur_node = child_node\n",
    "        \n",
    "                \n",
    "        \n",
    "    return command_dict"
   ]
  },
  {
   "cell_type": "code",
   "execution_count": 12,
   "metadata": {},
   "outputs": [],
   "source": [
    "import pprint\n",
    "pp = pprint.PrettyPrinter(indent = 4)\n",
    "scientist_graph = construct_graph(scientist_commands)\n"
   ]
  },
  {
   "cell_type": "code",
   "execution_count": null,
   "metadata": {},
   "outputs": [],
   "source": []
  }
 ],
 "metadata": {
  "kernelspec": {
   "display_name": "Python 3",
   "language": "python",
   "name": "python3"
  },
  "language_info": {
   "codemirror_mode": {
    "name": "ipython",
    "version": 3
   },
   "file_extension": ".py",
   "mimetype": "text/x-python",
   "name": "python",
   "nbconvert_exporter": "python",
   "pygments_lexer": "ipython3",
   "version": "3.9.9"
  }
 },
 "nbformat": 4,
 "nbformat_minor": 4
}
