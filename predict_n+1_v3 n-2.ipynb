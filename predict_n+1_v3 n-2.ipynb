{
 "cells": [
  {
   "cell_type": "markdown",
   "metadata": {},
   "source": [
    "Notebook to predict N+1 command where N is 1..4 and command sets can be up to len 5"
   ]
  },
  {
   "cell_type": "markdown",
   "metadata": {},
   "source": [
    "Construct Graph Function"
   ]
  },
  {
   "cell_type": "code",
   "execution_count": 1,
   "metadata": {},
   "outputs": [],
   "source": [
    "from graph import Node\n",
    "\n",
    "def adjust_session(session, frequencies = []):\n",
    "    if len(session) == 2:\n",
    "        if session[0] == session[1]:\n",
    "            session = [session[0]]\n",
    "            frequencies = [2]\n",
    "        else:\n",
    "            frequencies = [1] * len(session)\n",
    "    elif len(session) == 3:\n",
    "        if session[0] == session[1] and session[0] == session[2]:\n",
    "            session = session[:1]\n",
    "            frequencies = [3]\n",
    "        else:\n",
    "            frequencies = [1] * len(session)\n",
    "    elif len(session) == 4:\n",
    "        if session[0] == session[2] and session[1] == session[3]:\n",
    "            session = [session[0], session[1]]\n",
    "            frequencies = [2, 2]\n",
    "        else:\n",
    "            frequencies = [1] * len(session)\n",
    "    elif len(session) == 5:\n",
    "        if session[0] == session[1] and session[0] == session[2]:\n",
    "            session = [session[0], session[3], session[4]]\n",
    "            frequencies = [3, 1, 1]\n",
    "        elif session[0] == session[2] and session[1] == session[3]:\n",
    "            session = [session[0], session[1], session[4]]\n",
    "            frequencies = [2, 2, 1]\n",
    "        else:\n",
    "            frequencies = [1] * len(session)\n",
    "    else:\n",
    "        frequencies = [1] * len(session)\n",
    "\n",
    "    return session, frequencies\n",
    "\n",
    "\n",
    "def construct_graph(command_list, command_dict={}):\n",
    "\n",
    "    filter_empty = lambda x: (len(x) > 0)\n",
    "    cur_node = None\n",
    "    child_node = None\n",
    "    \n",
    "    for session in command_list:\n",
    "        # remove commands of length 0 ( not good to modify list within loop )\n",
    "        session = list(filter(filter_empty, session))\n",
    "\n",
    "        try: \n",
    "            first_cmd = session[0]\n",
    "        except Exception as inst:\n",
    "            print(session)\n",
    "            continue\n",
    "\n",
    "        program = session[0].split()[0]\n",
    "\n",
    "        # change this to frequency array of length program\n",
    "        # and add frequency based on index to it    \n",
    "        freq_addition = []\n",
    "        session, freq_addition = adjust_session(session=session)\n",
    "\n",
    "        if command_dict.get(program) is None:\n",
    "            cur_node = Node(program=program, frequency=freq_addition[0])\n",
    "            command_dict[program] = cur_node \n",
    "        else:\n",
    "            cur_node = command_dict.get(program)\n",
    "            cur_node.frequency += freq_addition[0]\n",
    "\n",
    "        if cur_node.commands.get(first_cmd) is None:\n",
    "            cur_node.commands[first_cmd] = freq_addition[0]\n",
    "        else:\n",
    "            cur_node.commands[first_cmd] += freq_addition[0]\n",
    "\n",
    "        for cmd in range(1, len(session)):\n",
    "\n",
    "            if cmd >= len(freq_addition):\n",
    "                    print(session, len(session))\n",
    "                    print(freq_addition, len(freq_addition))\n",
    "\n",
    "            if session[cmd].isprintable() is False:\n",
    "                break\n",
    "            else:\n",
    "                program = session[cmd].split()[0]\n",
    "\n",
    "            if cur_node.children.get(program) is None:\n",
    "                child_node = Node(program = program, frequency=freq_addition[cmd])\n",
    "                cur_node.children[program] = child_node\n",
    "            else:\n",
    "                child_node = cur_node.children.get(program)\n",
    "                child_node.frequency += freq_addition[cmd]\n",
    "            \n",
    "            if child_node.commands.get(session[cmd]) is None:\n",
    "                child_node.commands[session[cmd]] = freq_addition[cmd]\n",
    "            else:\n",
    "                child_node.commands[session[cmd]] += freq_addition[cmd]\n",
    "            \n",
    "            cur_node = child_node\n",
    "        \n",
    "    return command_dict"
   ]
  },
  {
   "cell_type": "markdown",
   "metadata": {},
   "source": [
    "Get Prediction Function"
   ]
  },
  {
   "cell_type": "code",
   "execution_count": 2,
   "metadata": {},
   "outputs": [],
   "source": [
    "def get_prediction(command_list: list[str], graph, result_size=5, graph_depth=4):\n",
    "    if len(command_list) == 0:\n",
    "        return None\n",
    "\n",
    "    commands = command_list[:graph_depth]\n",
    "    # should be labeled last command\n",
    "    last_command = command_list[graph_depth]\n",
    "\n",
    "    if len(commands) == 0:\n",
    "        return None, [-1]\n",
    "\n",
    "    program = commands[0].split()[0]\n",
    "\n",
    "    frequencies = []\n",
    "    \n",
    "    if graph.get(program) is None:\n",
    "        frequencies.append(-1)\n",
    "        return None, frequencies\n",
    "    else:\n",
    "        node = graph[program]\n",
    "        frequencies.append(node.frequency)\n",
    "\n",
    "    for command in commands[1:]:\n",
    "        program = command.split()[0]\n",
    "        if node.children.get(program) is not None:\n",
    "            node = node.children[program]\n",
    "            frequencies.append(node.frequency)\n",
    "        else:\n",
    "            frequencies.append(-1)\n",
    "            return None, frequencies\n",
    "    \n",
    "    # last frequency if it has it\n",
    "    next_program = last_command.split()[0]\n",
    "\n",
    "    if node.children.get(next_program) is not None:\n",
    "        frequencies.append(node.children[next_program].frequency)\n",
    "    else:\n",
    "        frequencies.append(-1)\n",
    "    \n",
    "    # previous command should be command_list[depth-1]\n",
    "    return node.get_prediction(previous_command=command_list[graph_depth-1], num_to_return=result_size), frequencies"
   ]
  },
  {
   "cell_type": "markdown",
   "metadata": {},
   "source": [
    "Accuracy Function"
   ]
  },
  {
   "cell_type": "code",
   "execution_count": 3,
   "metadata": {},
   "outputs": [],
   "source": [
    "from thefuzz import fuzz\n",
    "from thefuzz import process\n",
    "\n",
    "from statistics import mean\n",
    "\n",
    "from tqdm import tqdm\n",
    "\n",
    "from sklearn.model_selection import train_test_split\n",
    "\n",
    "import pprint\n",
    "pp = pprint.PrettyPrinter(indent=4)\n",
    "\n",
    "def append_list(lst, results, commands, graph_depth):\n",
    "    lst.append({\"Results\": results, \"Expected\": commands[graph_depth], \"Command Sequence\": commands})\n",
    "\n",
    "def get_accuracy(command_subsets, fail_list = [], fail_frequencies= [], succeed_list = [], succeed_frequencies = [], correct_5_not_3= [], correct_15_not_5 = [], print_fails=False, graph_depth=-1):\n",
    "    train_data, test_data = train_test_split(command_subsets, test_size=0.2, train_size=0.8, random_state=42)\n",
    "\n",
    "    train_graph = construct_graph(train_data)\n",
    "\n",
    "    # filter out nodes that can't get prediction because not enough length so don't contribute and will cause error\n",
    "    if (graph_depth != -1):\n",
    "        test_data = [x for x in test_data if len(x) > graph_depth]\n",
    "    else:\n",
    "        test_data = [x for x in test_data if len(x) >= 2]\n",
    "        \n",
    "    test_size = len(test_data)\n",
    "\n",
    "    return_3 = 3\n",
    "    return_5 = 5\n",
    "    return_15 = 15\n",
    "\n",
    "    correct = 0\n",
    "    correct_with_5 = 0\n",
    "    correct_with_15 = 0\n",
    "    first_prediction = 0\n",
    "    has_prediction = 0\n",
    "    incorrect = 0\n",
    "    none_count = 0\n",
    "\n",
    "    for commands in tqdm(test_data, leave=False):\n",
    "        results_3, frequencies = get_prediction(commands, train_graph, return_3, graph_depth)\n",
    "        results_5, _ = get_prediction(commands, train_graph, return_5, graph_depth)\n",
    "        results_15, _ = get_prediction(commands, train_graph, return_15, graph_depth)\n",
    "\n",
    "        command_freq = [(commands[i], frequencies[i]) for i in range(len(frequencies))]\n",
    "        \n",
    "        prev_correct = correct\n",
    "        prev5_correct =  correct_with_5\n",
    "\n",
    "        if results_3 is not None:\n",
    "            has_prediction += 1\n",
    "\n",
    "            for i in range(len(results_3)):\n",
    "                if fuzz.ratio(results_3[i][0], commands[graph_depth]) > 85:\n",
    "                    correct += 1\n",
    "\n",
    "                    succeed_frequencies.append(mean(frequencies))\n",
    "\n",
    "                    if correct <= 100:\n",
    "                        append_list(succeed_list, results_5, command_freq, graph_depth)\n",
    "\n",
    "                    if i == 0:\n",
    "                        first_prediction += 1\n",
    "                \n",
    "                    break\n",
    "\n",
    "            if prev_correct == correct:\n",
    "                fail_frequencies.append(mean(frequencies))\n",
    "                incorrect += 1\n",
    "\n",
    "            for i in range(len(results_5)):\n",
    "                if fuzz.ratio(results_5[i][0], commands[graph_depth]) > 85:\n",
    "                    correct_with_5 += 1\n",
    "\n",
    "                    if correct_with_5 - correct <= 100 and prev_correct == correct:\n",
    "                        append_list(correct_5_not_3, results_5, command_freq, graph_depth)\n",
    "\n",
    "                    break\n",
    "\n",
    "            for i in range(len(results_15)):\n",
    "                if fuzz.ratio(results_15[i][0], commands[graph_depth]) > 85:\n",
    "                    correct_with_15 += 1\n",
    "\n",
    "                    if correct_with_15 - correct <= 100 and prev5_correct == correct_with_5:\n",
    "                        append_list(correct_15_not_5, results_15, command_freq, graph_depth)\n",
    "\n",
    "                    break\n",
    "\n",
    "        else:\n",
    "            none_count += 1\n",
    "\n",
    "        if results_5 is not None and prev_correct == correct and print_fails:\n",
    "            append_list(fail_list, results_5, command_freq, graph_depth)  \n",
    "                              \n",
    "    return 'Correct Proportion: {:.2f}% |\\n Correct in 5 not 3: {:.2f}% |\\n Correct in 15 not 5: {:.2f}% |\\n Has Prediction and is Correct: {:.2f}% |\\n Incorrect Proportion: {:.2f}% |\\n None Proportion: {:.2f}% |\\n First Prediction: {:.2f}% |\\n Average Success Freq: {:.2f} |\\n Average Fail Freq: {:.2f}'.format(100 * correct/(test_size-none_count), 100 * correct_with_5/(test_size-none_count), 100 * correct_with_15/(test_size-none_count), 100 * correct/has_prediction, 100 * incorrect/test_size, 100 * none_count/test_size, 100 * first_prediction/test_size, mean(succeed_frequencies)/len(train_data), mean(fail_frequencies)/len(train_data))\n"
   ]
  },
  {
   "cell_type": "code",
   "execution_count": 4,
   "metadata": {},
   "outputs": [
    {
     "name": "stderr",
     "output_type": "stream",
     "text": [
      "100%|██████████| 52/52 [00:10<00:00,  4.97it/s]\n",
      "100%|██████████| 36/36 [00:05<00:00,  6.14it/s]\n",
      "100%|██████████| 25/25 [00:02<00:00, 10.50it/s]\n",
      "100%|██████████| 56/56 [00:06<00:00,  8.43it/s]\n"
     ]
    }
   ],
   "source": [
    "from parse import Parser\n",
    "\n",
    "parser = Parser()"
   ]
  },
  {
   "cell_type": "markdown",
   "metadata": {},
   "source": [
    "All Commands Parse and Replace Args"
   ]
  },
  {
   "cell_type": "code",
   "execution_count": 5,
   "metadata": {},
   "outputs": [
    {
     "name": "stderr",
     "output_type": "stream",
     "text": [
      "100%|██████████| 52/52 [00:11<00:00,  4.67it/s]\n",
      "100%|██████████| 36/36 [00:06<00:00,  5.58it/s]\n",
      "100%|██████████| 25/25 [00:02<00:00,  9.29it/s]\n",
      "100%|██████████| 56/56 [00:07<00:00,  7.72it/s]\n"
     ]
    }
   ],
   "source": [
    "subset_size = 5\n",
    "\n",
    "science_session = parser.parse_commands_per_session(parser.scientists_files)\n",
    "science_session = parser.parse_commands_into_subsets_sliding_window(science_session, subset_size)\n",
    "science_session = parser.replace_args_nested(science_session)\n",
    "\n",
    "experienced_session = parser.parse_commands_per_session(parser.experienced_files)\n",
    "experienced_session = parser.parse_commands_into_subsets_sliding_window(experienced_session, subset_size)\n",
    "experienced_session = parser.replace_args_nested(experienced_session)\n",
    "\n",
    "non_session = parser.parse_commands_per_session(parser.non_programmers_files)\n",
    "non_session = parser.parse_commands_into_subsets_sliding_window(non_session, subset_size)\n",
    "non_session = parser.replace_args_nested(non_session)\n",
    "\n",
    "novice_session = parser.parse_commands_per_session(parser.novice_files)\n",
    "novice_session = parser.parse_commands_into_subsets_sliding_window(novice_session, subset_size)\n",
    "novice_session = parser.replace_args_nested(novice_session)"
   ]
  },
  {
   "cell_type": "markdown",
   "metadata": {},
   "source": [
    "Predicting last command from 1..n-1 commands"
   ]
  },
  {
   "cell_type": "code",
   "execution_count": 6,
   "metadata": {},
   "outputs": [
    {
     "name": "stderr",
     "output_type": "stream",
     "text": [
      "                                                      \r"
     ]
    },
    {
     "name": "stdout",
     "output_type": "stream",
     "text": [
      "Scientist session:\n",
      " Correct Proportion: 33.40% |\n",
      " Correct in 5 not 3: 39.99% |\n",
      " Correct in 15 not 5: 54.49% |\n",
      " Has Prediction and is Correct: 33.40% |\n",
      " Incorrect Proportion: 64.41% |\n",
      " None Proportion: 3.27% |\n",
      " First Prediction: 20.32% |\n",
      " Average Success Freq: 0.02 |\n",
      " Average Fail Freq: 0.02 \n",
      "\n"
     ]
    },
    {
     "name": "stderr",
     "output_type": "stream",
     "text": [
      "                                                      \r"
     ]
    },
    {
     "name": "stdout",
     "output_type": "stream",
     "text": [
      "Experienced session:\n",
      " Correct Proportion: 34.89% |\n",
      " Correct in 5 not 3: 41.38% |\n",
      " Correct in 15 not 5: 55.91% |\n",
      " Has Prediction and is Correct: 34.89% |\n",
      " Incorrect Proportion: 62.95% |\n",
      " None Proportion: 3.31% |\n",
      " First Prediction: 20.94% |\n",
      " Average Success Freq: 0.03 |\n",
      " Average Fail Freq: 0.05 \n",
      "\n"
     ]
    },
    {
     "name": "stderr",
     "output_type": "stream",
     "text": [
      "                                                      \r"
     ]
    },
    {
     "name": "stdout",
     "output_type": "stream",
     "text": [
      "Non programmer session:\n",
      " Correct Proportion: 33.66% |\n",
      " Correct in 5 not 3: 41.04% |\n",
      " Correct in 15 not 5: 56.42% |\n",
      " Has Prediction and is Correct: 33.66% |\n",
      " Incorrect Proportion: 65.10% |\n",
      " None Proportion: 1.87% |\n",
      " First Prediction: 20.20% |\n",
      " Average Success Freq: 0.10 |\n",
      " Average Fail Freq: 0.16 \n",
      "\n"
     ]
    },
    {
     "name": "stderr",
     "output_type": "stream",
     "text": [
      "                                                      \r"
     ]
    },
    {
     "name": "stdout",
     "output_type": "stream",
     "text": [
      "Novice session:\n",
      " Correct Proportion: 60.07% |\n",
      " Correct in 5 not 3: 65.32% |\n",
      " Correct in 15 not 5: 74.78% |\n",
      " Has Prediction and is Correct: 60.07% |\n",
      " Incorrect Proportion: 39.32% |\n",
      " None Proportion: 1.51% |\n",
      " First Prediction: 37.58% |\n",
      " Average Success Freq: 0.06 |\n",
      " Average Fail Freq: 0.06 \n",
      "\n"
     ]
    }
   ],
   "source": [
    "i = -1\n",
    "\n",
    "print(\"Scientist session:\\n\", get_accuracy(science_session, graph_depth=i), '\\n')\n",
    "print(\"Experienced session:\\n\", get_accuracy(experienced_session, graph_depth=i), '\\n')\n",
    "print(\"Non programmer session:\\n\", get_accuracy(non_session, graph_depth=i), '\\n')\n",
    "print(\"Novice session:\\n\", get_accuracy(novice_session, graph_depth=i), '\\n')"
   ]
  },
  {
   "cell_type": "markdown",
   "metadata": {},
   "source": [
    "Predicting N from 1..N-1 for all"
   ]
  },
  {
   "cell_type": "code",
   "execution_count": 7,
   "metadata": {},
   "outputs": [
    {
     "name": "stderr",
     "output_type": "stream",
     "text": [
      "                                                        \r"
     ]
    },
    {
     "name": "stdout",
     "output_type": "stream",
     "text": [
      "Correct Proportion: 51.39% |\n",
      " Correct in 5 not 3: 57.76% |\n",
      " Correct in 15 not 5: 71.88% |\n",
      " Has Prediction and is Correct: 51.39% |\n",
      " Incorrect Proportion: 48.40% |\n",
      " None Proportion: 0.43% |\n",
      " First Prediction: 34.36% |\n",
      " Average Success Freq: 0.02 |\n",
      " Average Fail Freq: 0.03\n"
     ]
    }
   ],
   "source": [
    "i = -1\n",
    "\n",
    "all = science_session + experienced_session + non_session + novice_session\n",
    "\n",
    "print(get_accuracy(all, graph_depth=i))"
   ]
  },
  {
   "cell_type": "markdown",
   "metadata": {},
   "source": [
    "Predicting for all"
   ]
  },
  {
   "cell_type": "code",
   "execution_count": 8,
   "metadata": {},
   "outputs": [
    {
     "name": "stdout",
     "output_type": "stream",
     "text": [
      "Accuracy predicting command 2 from commands 1 through 1:\n",
      "\n"
     ]
    },
    {
     "name": "stderr",
     "output_type": "stream",
     "text": [
      "                                                        \r"
     ]
    },
    {
     "name": "stdout",
     "output_type": "stream",
     "text": [
      "Correct Proportion: 31.74% |\n",
      " Correct in 5 not 3: 37.24% |\n",
      " Correct in 15 not 5: 55.11% |\n",
      " Has Prediction and is Correct: 31.74% |\n",
      " Incorrect Proportion: 68.26% |\n",
      " None Proportion: 0.00% |\n",
      " First Prediction: 19.91% |\n",
      " Average Success Freq: 0.04 |\n",
      " Average Fail Freq: 0.05 \n",
      "\n",
      "Accuracy predicting command 3 from commands 1 through 2:\n",
      "\n"
     ]
    },
    {
     "name": "stderr",
     "output_type": "stream",
     "text": [
      "                                                        \r"
     ]
    },
    {
     "name": "stdout",
     "output_type": "stream",
     "text": [
      "Correct Proportion: 46.98% |\n",
      " Correct in 5 not 3: 54.33% |\n",
      " Correct in 15 not 5: 71.99% |\n",
      " Has Prediction and is Correct: 46.98% |\n",
      " Incorrect Proportion: 53.02% |\n",
      " None Proportion: 0.00% |\n",
      " First Prediction: 29.12% |\n",
      " Average Success Freq: 0.04 |\n",
      " Average Fail Freq: 0.06 \n",
      "\n",
      "Accuracy predicting command 4 from commands 1 through 3:\n",
      "\n"
     ]
    },
    {
     "name": "stderr",
     "output_type": "stream",
     "text": [
      "                                                       \r"
     ]
    },
    {
     "name": "stdout",
     "output_type": "stream",
     "text": [
      "Correct Proportion: 62.26% |\n",
      " Correct in 5 not 3: 70.48% |\n",
      " Correct in 15 not 5: 84.24% |\n",
      " Has Prediction and is Correct: 62.26% |\n",
      " Incorrect Proportion: 37.73% |\n",
      " None Proportion: 0.03% |\n",
      " First Prediction: 39.42% |\n",
      " Average Success Freq: 0.05 |\n",
      " Average Fail Freq: 0.06 \n",
      "\n",
      "Accuracy predicting command 5 from commands 1 through 4:\n",
      "\n"
     ]
    },
    {
     "name": "stderr",
     "output_type": "stream",
     "text": [
      "                                                        \r"
     ]
    },
    {
     "name": "stdout",
     "output_type": "stream",
     "text": [
      "Correct Proportion: 66.71% |\n",
      " Correct in 5 not 3: 71.84% |\n",
      " Correct in 15 not 5: 78.27% |\n",
      " Has Prediction and is Correct: 66.71% |\n",
      " Incorrect Proportion: 32.69% |\n",
      " None Proportion: 1.81% |\n",
      " First Prediction: 49.53% |\n",
      " Average Success Freq: 0.05 |\n",
      " Average Fail Freq: 0.06 \n",
      "\n"
     ]
    }
   ],
   "source": [
    "all = science_session + experienced_session + non_session + novice_session\n",
    "\n",
    "for i in range(1, 5):\n",
    "    print(\"Accuracy predicting command {} from commands {} through {}:\\n\".format(i+1, 1, i))\n",
    "\n",
    "    print(get_accuracy(all, graph_depth=i), '\\n')"
   ]
  },
  {
   "cell_type": "markdown",
   "metadata": {},
   "source": [
    "Sampling 0.2 of all   "
   ]
  },
  {
   "cell_type": "code",
   "execution_count": 9,
   "metadata": {},
   "outputs": [
    {
     "name": "stdout",
     "output_type": "stream",
     "text": [
      "Accuracy predicting command 2 from commands 1 through 1:\n",
      "\n"
     ]
    },
    {
     "name": "stderr",
     "output_type": "stream",
     "text": [
      "                                                      \r"
     ]
    },
    {
     "name": "stdout",
     "output_type": "stream",
     "text": [
      "Correct Proportion: 32.16% |\n",
      " Correct in 5 not 3: 37.80% |\n",
      " Correct in 15 not 5: 55.58% |\n",
      " Has Prediction and is Correct: 32.16% |\n",
      " Incorrect Proportion: 67.84% |\n",
      " None Proportion: 0.00% |\n",
      " First Prediction: 20.35% |\n",
      " Average Success Freq: 0.26 |\n",
      " Average Fail Freq: 0.34 \n",
      "\n",
      "Accuracy predicting command 3 from commands 1 through 2:\n",
      "\n"
     ]
    },
    {
     "name": "stderr",
     "output_type": "stream",
     "text": [
      "                                                      \r"
     ]
    },
    {
     "name": "stdout",
     "output_type": "stream",
     "text": [
      "Correct Proportion: 48.39% |\n",
      " Correct in 5 not 3: 55.88% |\n",
      " Correct in 15 not 5: 73.28% |\n",
      " Has Prediction and is Correct: 48.39% |\n",
      " Incorrect Proportion: 51.61% |\n",
      " None Proportion: 0.00% |\n",
      " First Prediction: 30.21% |\n",
      " Average Success Freq: 0.27 |\n",
      " Average Fail Freq: 0.35 \n",
      "\n",
      "Accuracy predicting command 4 from commands 1 through 3:\n",
      "\n"
     ]
    },
    {
     "name": "stderr",
     "output_type": "stream",
     "text": [
      "                                                       \r"
     ]
    },
    {
     "name": "stdout",
     "output_type": "stream",
     "text": [
      "Correct Proportion: 64.31% |\n",
      " Correct in 5 not 3: 72.42% |\n",
      " Correct in 15 not 5: 85.93% |\n",
      " Has Prediction and is Correct: 64.31% |\n",
      " Incorrect Proportion: 35.69% |\n",
      " None Proportion: 0.01% |\n",
      " First Prediction: 42.05% |\n",
      " Average Success Freq: 0.27 |\n",
      " Average Fail Freq: 0.35 \n",
      "\n",
      "Accuracy predicting command 5 from commands 1 through 4:\n",
      "\n"
     ]
    },
    {
     "name": "stderr",
     "output_type": "stream",
     "text": [
      "                                                     \r"
     ]
    },
    {
     "name": "stdout",
     "output_type": "stream",
     "text": [
      "Correct Proportion: 78.00% |\n",
      " Correct in 5 not 3: 83.13% |\n",
      " Correct in 15 not 5: 89.43% |\n",
      " Has Prediction and is Correct: 78.00% |\n",
      " Incorrect Proportion: 21.72% |\n",
      " None Proportion: 1.27% |\n",
      " First Prediction: 60.55% |\n",
      " Average Success Freq: 0.27 |\n",
      " Average Fail Freq: 0.35 \n",
      "\n"
     ]
    },
    {
     "name": "stderr",
     "output_type": "stream",
     "text": [
      "                                                      \r"
     ]
    },
    {
     "name": "stdout",
     "output_type": "stream",
     "text": [
      "Correct Proportion: 54.52% |\n",
      " Correct in 5 not 3: 61.05% |\n",
      " Correct in 15 not 5: 74.86% |\n",
      " Has Prediction and is Correct: 54.52% |\n",
      " Incorrect Proportion: 45.34% |\n",
      " None Proportion: 0.30% |\n",
      " First Prediction: 37.42% |\n",
      " Average Success Freq: 0.28 |\n",
      " Average Fail Freq: 0.37 \n",
      "\n"
     ]
    }
   ],
   "source": [
    "from random import sample \n",
    "import math\n",
    "\n",
    "all = science_session + experienced_session + non_session + novice_session\n",
    "all = sample(all, math.floor(.2 * len(all)))\n",
    "\n",
    "for i in range(1, 5):\n",
    "    print(\"Accuracy predicting command {} from commands {} through {}:\\n\".format(i+1, 1, i))\n",
    "\n",
    "    print(get_accuracy(all, graph_depth=i), '\\n')\n",
    "\n",
    "print(get_accuracy(all, graph_depth=-1), '\\n')"
   ]
  },
  {
   "cell_type": "markdown",
   "metadata": {},
   "source": [
    "Sampling 0.1 of all "
   ]
  },
  {
   "cell_type": "code",
   "execution_count": 10,
   "metadata": {},
   "outputs": [
    {
     "name": "stdout",
     "output_type": "stream",
     "text": [
      "Accuracy predicting command 2 from commands 1 through 1:\n"
     ]
    },
    {
     "name": "stderr",
     "output_type": "stream",
     "text": [
      "                                                      \r"
     ]
    },
    {
     "name": "stdout",
     "output_type": "stream",
     "text": [
      "Correct Proportion: 31.44% |\n",
      " Correct in 5 not 3: 37.34% |\n",
      " Correct in 15 not 5: 55.23% |\n",
      " Has Prediction and is Correct: 31.44% |\n",
      " Incorrect Proportion: 68.56% |\n",
      " None Proportion: 0.00% |\n",
      " First Prediction: 19.81% |\n",
      " Average Success Freq: 0.59 |\n",
      " Average Fail Freq: 0.77 \n",
      "\n",
      "Accuracy predicting command 3 from commands 1 through 2:\n"
     ]
    },
    {
     "name": "stderr",
     "output_type": "stream",
     "text": [
      "                                                      \r"
     ]
    },
    {
     "name": "stdout",
     "output_type": "stream",
     "text": [
      "Correct Proportion: 48.92% |\n",
      " Correct in 5 not 3: 56.19% |\n",
      " Correct in 15 not 5: 73.29% |\n",
      " Has Prediction and is Correct: 48.92% |\n",
      " Incorrect Proportion: 51.08% |\n",
      " None Proportion: 0.00% |\n",
      " First Prediction: 30.11% |\n",
      " Average Success Freq: 0.60 |\n",
      " Average Fail Freq: 0.78 \n",
      "\n",
      "Accuracy predicting command 4 from commands 1 through 3:\n"
     ]
    },
    {
     "name": "stderr",
     "output_type": "stream",
     "text": [
      "                                                     \r"
     ]
    },
    {
     "name": "stdout",
     "output_type": "stream",
     "text": [
      "Correct Proportion: 64.68% |\n",
      " Correct in 5 not 3: 72.70% |\n",
      " Correct in 15 not 5: 86.04% |\n",
      " Has Prediction and is Correct: 64.68% |\n",
      " Incorrect Proportion: 35.31% |\n",
      " None Proportion: 0.01% |\n",
      " First Prediction: 41.28% |\n",
      " Average Success Freq: 0.60 |\n",
      " Average Fail Freq: 0.79 \n",
      "\n",
      "Accuracy predicting command 5 from commands 1 through 4:\n"
     ]
    },
    {
     "name": "stderr",
     "output_type": "stream",
     "text": [
      "                                                     \r"
     ]
    },
    {
     "name": "stdout",
     "output_type": "stream",
     "text": [
      "Correct Proportion: 79.07% |\n",
      " Correct in 5 not 3: 84.08% |\n",
      " Correct in 15 not 5: 90.68% |\n",
      " Has Prediction and is Correct: 79.07% |\n",
      " Incorrect Proportion: 20.65% |\n",
      " None Proportion: 1.36% |\n",
      " First Prediction: 61.74% |\n",
      " Average Success Freq: 0.60 |\n",
      " Average Fail Freq: 0.79 \n",
      "\n"
     ]
    },
    {
     "name": "stderr",
     "output_type": "stream",
     "text": [
      "                                                      \r"
     ]
    },
    {
     "name": "stdout",
     "output_type": "stream",
     "text": [
      "Correct Proportion: 54.85% |\n",
      " Correct in 5 not 3: 61.38% |\n",
      " Correct in 15 not 5: 75.46% |\n",
      " Has Prediction and is Correct: 54.85% |\n",
      " Incorrect Proportion: 45.00% |\n",
      " None Proportion: 0.32% |\n",
      " First Prediction: 37.52% |\n",
      " Average Success Freq: 0.61 |\n",
      " Average Fail Freq: 0.80 \n",
      "\n"
     ]
    }
   ],
   "source": [
    "from random import sample \n",
    "import math\n",
    "\n",
    "all = science_session + experienced_session + non_session + novice_session\n",
    "all = sample(all, math.floor(.1 * len(all)))\n",
    "\n",
    "for i in range(1, 5):\n",
    "    print(\"Accuracy predicting command {} from commands {} through {}:\".format(i+1, 1, i))\n",
    "\n",
    "    print(get_accuracy(all, graph_depth=i), '\\n')\n",
    "\n",
    "print(get_accuracy(all, graph_depth=-1), '\\n')"
   ]
  },
  {
   "cell_type": "markdown",
   "metadata": {},
   "source": [
    "~500 command sets"
   ]
  },
  {
   "cell_type": "code",
   "execution_count": 11,
   "metadata": {},
   "outputs": [
    {
     "name": "stdout",
     "output_type": "stream",
     "text": [
      "978861\n",
      "489\n",
      "Accuracy predicting command 2 from commands 1 through 1:\n",
      "\n"
     ]
    },
    {
     "name": "stderr",
     "output_type": "stream",
     "text": [
      "                                                \r"
     ]
    },
    {
     "name": "stdout",
     "output_type": "stream",
     "text": [
      "Correct Proportion: 34.69% |\n",
      " Correct in 5 not 3: 40.82% |\n",
      " Correct in 15 not 5: 54.08% |\n",
      " Has Prediction and is Correct: 34.69% |\n",
      " Incorrect Proportion: 65.31% |\n",
      " None Proportion: 0.00% |\n",
      " First Prediction: 24.49% |\n",
      " Average Success Freq: 122.83 |\n",
      " Average Fail Freq: 160.76 \n",
      "\n",
      "Accuracy predicting command 3 from commands 1 through 2:\n",
      "\n"
     ]
    },
    {
     "name": "stderr",
     "output_type": "stream",
     "text": [
      "                                      \r"
     ]
    },
    {
     "name": "stdout",
     "output_type": "stream",
     "text": [
      "Correct Proportion: 53.42% |\n",
      " Correct in 5 not 3: 60.27% |\n",
      " Correct in 15 not 5: 75.34% |\n",
      " Has Prediction and is Correct: 53.42% |\n",
      " Incorrect Proportion: 46.58% |\n",
      " None Proportion: 0.00% |\n",
      " First Prediction: 36.99% |\n",
      " Average Success Freq: 122.84 |\n",
      " Average Fail Freq: 160.77 \n",
      "\n",
      "Accuracy predicting command 4 from commands 1 through 3:\n",
      "\n"
     ]
    },
    {
     "name": "stderr",
     "output_type": "stream",
     "text": [
      "                                      \r"
     ]
    },
    {
     "name": "stdout",
     "output_type": "stream",
     "text": [
      "Correct Proportion: 56.86% |\n",
      " Correct in 5 not 3: 66.67% |\n",
      " Correct in 15 not 5: 82.35% |\n",
      " Has Prediction and is Correct: 56.86% |\n",
      " Incorrect Proportion: 43.14% |\n",
      " None Proportion: 0.00% |\n",
      " First Prediction: 35.29% |\n",
      " Average Success Freq: 122.85 |\n",
      " Average Fail Freq: 160.78 \n",
      "\n",
      "Accuracy predicting command 5 from commands 1 through 4:\n",
      "\n"
     ]
    },
    {
     "name": "stderr",
     "output_type": "stream",
     "text": [
      "                                      \r"
     ]
    },
    {
     "name": "stdout",
     "output_type": "stream",
     "text": [
      "Correct Proportion: 70.83% |\n",
      " Correct in 5 not 3: 79.17% |\n",
      " Correct in 15 not 5: 83.33% |\n",
      " Has Prediction and is Correct: 70.83% |\n",
      " Incorrect Proportion: 28.00% |\n",
      " None Proportion: 4.00% |\n",
      " First Prediction: 60.00% |\n",
      " Average Success Freq: 122.85 |\n",
      " Average Fail Freq: 160.78 \n",
      "\n"
     ]
    },
    {
     "name": "stderr",
     "output_type": "stream",
     "text": [
      "                                                \r"
     ]
    },
    {
     "name": "stdout",
     "output_type": "stream",
     "text": [
      "Correct Proportion: 53.61% |\n",
      " Correct in 5 not 3: 61.86% |\n",
      " Correct in 15 not 5: 72.16% |\n",
      " Has Prediction and is Correct: 53.61% |\n",
      " Incorrect Proportion: 45.92% |\n",
      " None Proportion: 1.02% |\n",
      " First Prediction: 39.80% |\n",
      " Average Success Freq: 122.87 |\n",
      " Average Fail Freq: 160.79 \n",
      "\n"
     ]
    }
   ],
   "source": [
    "from random import sample \n",
    "import math\n",
    "\n",
    "all = science_session + experienced_session + non_session + novice_session\n",
    "print(len(all))\n",
    "\n",
    "all = sample(all, math.floor(.0005 * len(all)))\n",
    "print(len(all))\n",
    "\n",
    "for i in range(1, 5):\n",
    "    print(\"Accuracy predicting command {} from commands {} through {}:\\n\".format(i+1, 1, i))\n",
    "\n",
    "    print(get_accuracy(all, graph_depth=i), '\\n')\n",
    "\n",
    "print(get_accuracy(all, graph_depth=-1), '\\n')"
   ]
  },
  {
   "cell_type": "markdown",
   "metadata": {},
   "source": [
    "~100 command sets"
   ]
  },
  {
   "cell_type": "code",
   "execution_count": 12,
   "metadata": {},
   "outputs": [
    {
     "name": "stdout",
     "output_type": "stream",
     "text": [
      "978861\n",
      "97\n",
      "Accuracy predicting command 2 from commands 1 through 1:\n",
      "\n"
     ]
    },
    {
     "name": "stderr",
     "output_type": "stream",
     "text": [
      "                                                \r"
     ]
    },
    {
     "name": "stdout",
     "output_type": "stream",
     "text": [
      "Correct Proportion: 15.00% |\n",
      " Correct in 5 not 3: 20.00% |\n",
      " Correct in 15 not 5: 40.00% |\n",
      " Has Prediction and is Correct: 15.00% |\n",
      " Incorrect Proportion: 85.00% |\n",
      " None Proportion: 0.00% |\n",
      " First Prediction: 5.00% |\n",
      " Average Success Freq: 623.93 |\n",
      " Average Fail Freq: 816.52 \n",
      "\n",
      "Accuracy predicting command 3 from commands 1 through 2:\n",
      "\n"
     ]
    },
    {
     "name": "stderr",
     "output_type": "stream",
     "text": [
      "                                      \r"
     ]
    },
    {
     "name": "stdout",
     "output_type": "stream",
     "text": [
      "Correct Proportion: 43.75% |\n",
      " Correct in 5 not 3: 50.00% |\n",
      " Correct in 15 not 5: 87.50% |\n",
      " Has Prediction and is Correct: 43.75% |\n",
      " Incorrect Proportion: 56.25% |\n",
      " None Proportion: 0.00% |\n",
      " First Prediction: 12.50% |\n",
      " Average Success Freq: 623.95 |\n",
      " Average Fail Freq: 816.53 \n",
      "\n",
      "Accuracy predicting command 4 from commands 1 through 3:\n",
      "\n"
     ]
    },
    {
     "name": "stderr",
     "output_type": "stream",
     "text": [
      "                                      \r"
     ]
    },
    {
     "name": "stdout",
     "output_type": "stream",
     "text": [
      "Correct Proportion: 27.27% |\n",
      " Correct in 5 not 3: 54.55% |\n",
      " Correct in 15 not 5: 81.82% |\n",
      " Has Prediction and is Correct: 27.27% |\n",
      " Incorrect Proportion: 72.73% |\n",
      " None Proportion: 0.00% |\n",
      " First Prediction: 18.18% |\n",
      " Average Success Freq: 623.94 |\n",
      " Average Fail Freq: 816.53 \n",
      "\n",
      "Accuracy predicting command 5 from commands 1 through 4:\n",
      "\n"
     ]
    },
    {
     "name": "stderr",
     "output_type": "stream",
     "text": [
      "                                     \r"
     ]
    },
    {
     "name": "stdout",
     "output_type": "stream",
     "text": [
      "Correct Proportion: 60.00% |\n",
      " Correct in 5 not 3: 80.00% |\n",
      " Correct in 15 not 5: 80.00% |\n",
      " Has Prediction and is Correct: 60.00% |\n",
      " Incorrect Proportion: 40.00% |\n",
      " None Proportion: 0.00% |\n",
      " First Prediction: 60.00% |\n",
      " Average Success Freq: 623.95 |\n",
      " Average Fail Freq: 816.53 \n",
      "\n"
     ]
    },
    {
     "name": "stderr",
     "output_type": "stream",
     "text": [
      "                                      \r"
     ]
    },
    {
     "name": "stdout",
     "output_type": "stream",
     "text": [
      "Correct Proportion: 30.00% |\n",
      " Correct in 5 not 3: 45.00% |\n",
      " Correct in 15 not 5: 75.00% |\n",
      " Has Prediction and is Correct: 30.00% |\n",
      " Incorrect Proportion: 70.00% |\n",
      " None Proportion: 0.00% |\n",
      " First Prediction: 15.00% |\n",
      " Average Success Freq: 623.95 |\n",
      " Average Fail Freq: 816.55 \n",
      "\n"
     ]
    }
   ],
   "source": [
    "from random import sample \n",
    "import math\n",
    "\n",
    "all = science_session + experienced_session + non_session + novice_session\n",
    "print(len(all))\n",
    "\n",
    "all = sample(all, math.floor(.0001 * len(all)))\n",
    "print(len(all))\n",
    "\n",
    "for i in range(1, 5):\n",
    "    print(\"Accuracy predicting command {} from commands {} through {}:\\n\".format(i+1, 1, i))\n",
    "\n",
    "    print(get_accuracy(all, graph_depth=i), '\\n')\n",
    "\n",
    "print(get_accuracy(all, graph_depth=-1), '\\n')"
   ]
  },
  {
   "cell_type": "markdown",
   "metadata": {},
   "source": [
    "Accuracy predicting N+1 command from N commands with all commands in graph"
   ]
  },
  {
   "cell_type": "code",
   "execution_count": 13,
   "metadata": {},
   "outputs": [
    {
     "name": "stdout",
     "output_type": "stream",
     "text": [
      "Accuracy predicting command 2 from commands 1 through 1:\n",
      "\n"
     ]
    },
    {
     "name": "stderr",
     "output_type": "stream",
     "text": [
      "                                                      \r"
     ]
    },
    {
     "name": "stdout",
     "output_type": "stream",
     "text": [
      "Scientist session:\n",
      " Correct Proportion: 23.52% |\n",
      " Correct in 5 not 3: 28.62% |\n",
      " Correct in 15 not 5: 48.36% |\n",
      " Has Prediction and is Correct: 23.52% |\n",
      " Incorrect Proportion: 76.48% |\n",
      " None Proportion: 0.00% |\n",
      " First Prediction: 13.74% |\n",
      " Average Success Freq: 0.15 |\n",
      " Average Fail Freq: 0.23 \n",
      "\n"
     ]
    },
    {
     "name": "stderr",
     "output_type": "stream",
     "text": [
      "                                                      \r"
     ]
    },
    {
     "name": "stdout",
     "output_type": "stream",
     "text": [
      "Experienced session:\n",
      " Correct Proportion: 24.02% |\n",
      " Correct in 5 not 3: 29.67% |\n",
      " Correct in 15 not 5: 49.65% |\n",
      " Has Prediction and is Correct: 24.02% |\n",
      " Incorrect Proportion: 75.98% |\n",
      " None Proportion: 0.00% |\n",
      " First Prediction: 13.85% |\n",
      " Average Success Freq: 0.26 |\n",
      " Average Fail Freq: 0.41 \n",
      "\n"
     ]
    },
    {
     "name": "stderr",
     "output_type": "stream",
     "text": [
      "                                                      \r"
     ]
    },
    {
     "name": "stdout",
     "output_type": "stream",
     "text": [
      "Non programmer session:\n",
      " Correct Proportion: 24.16% |\n",
      " Correct in 5 not 3: 31.07% |\n",
      " Correct in 15 not 5: 51.60% |\n",
      " Has Prediction and is Correct: 24.16% |\n",
      " Incorrect Proportion: 75.84% |\n",
      " None Proportion: 0.00% |\n",
      " First Prediction: 15.59% |\n",
      " Average Success Freq: 0.82 |\n",
      " Average Fail Freq: 1.33 \n",
      "\n"
     ]
    },
    {
     "name": "stderr",
     "output_type": "stream",
     "text": [
      "                                                      \r"
     ]
    },
    {
     "name": "stdout",
     "output_type": "stream",
     "text": [
      "Novice session:\n",
      " Correct Proportion: 55.56% |\n",
      " Correct in 5 not 3: 61.64% |\n",
      " Correct in 15 not 5: 73.99% |\n",
      " Has Prediction and is Correct: 55.56% |\n",
      " Incorrect Proportion: 44.44% |\n",
      " None Proportion: 0.00% |\n",
      " First Prediction: 38.04% |\n",
      " Average Success Freq: 0.31 |\n",
      " Average Fail Freq: 0.44 \n",
      "\n",
      "Accuracy predicting command 3 from commands 1 through 2:\n",
      "\n"
     ]
    },
    {
     "name": "stderr",
     "output_type": "stream",
     "text": [
      "                                                      \r"
     ]
    },
    {
     "name": "stdout",
     "output_type": "stream",
     "text": [
      "Scientist session:\n",
      " Correct Proportion: 41.06% |\n",
      " Correct in 5 not 3: 48.65% |\n",
      " Correct in 15 not 5: 68.32% |\n",
      " Has Prediction and is Correct: 41.06% |\n",
      " Incorrect Proportion: 58.94% |\n",
      " None Proportion: 0.00% |\n",
      " First Prediction: 23.91% |\n",
      " Average Success Freq: 0.19 |\n",
      " Average Fail Freq: 0.28 \n",
      "\n"
     ]
    },
    {
     "name": "stderr",
     "output_type": "stream",
     "text": [
      "                                                       \r"
     ]
    },
    {
     "name": "stdout",
     "output_type": "stream",
     "text": [
      "Experienced session:\n",
      " Correct Proportion: 42.39% |\n",
      " Correct in 5 not 3: 51.16% |\n",
      " Correct in 15 not 5: 71.15% |\n",
      " Has Prediction and is Correct: 42.39% |\n",
      " Incorrect Proportion: 57.61% |\n",
      " None Proportion: 0.00% |\n",
      " First Prediction: 25.14% |\n",
      " Average Success Freq: 0.32 |\n",
      " Average Fail Freq: 0.47 \n",
      "\n"
     ]
    },
    {
     "name": "stderr",
     "output_type": "stream",
     "text": [
      "                                                      \r"
     ]
    },
    {
     "name": "stdout",
     "output_type": "stream",
     "text": [
      "Non programmer session:\n",
      " Correct Proportion: 40.19% |\n",
      " Correct in 5 not 3: 48.25% |\n",
      " Correct in 15 not 5: 66.25% |\n",
      " Has Prediction and is Correct: 40.19% |\n",
      " Incorrect Proportion: 59.81% |\n",
      " None Proportion: 0.00% |\n",
      " First Prediction: 24.22% |\n",
      " Average Success Freq: 1.02 |\n",
      " Average Fail Freq: 1.48 \n",
      "\n"
     ]
    },
    {
     "name": "stderr",
     "output_type": "stream",
     "text": [
      "                                                       \r"
     ]
    },
    {
     "name": "stdout",
     "output_type": "stream",
     "text": [
      "Novice session:\n",
      " Correct Proportion: 65.97% |\n",
      " Correct in 5 not 3: 72.12% |\n",
      " Correct in 15 not 5: 83.74% |\n",
      " Has Prediction and is Correct: 65.97% |\n",
      " Incorrect Proportion: 34.03% |\n",
      " None Proportion: 0.00% |\n",
      " First Prediction: 45.14% |\n",
      " Average Success Freq: 0.34 |\n",
      " Average Fail Freq: 0.47 \n",
      "\n",
      "Accuracy predicting command 4 from commands 1 through 3:\n",
      "\n"
     ]
    },
    {
     "name": "stderr",
     "output_type": "stream",
     "text": [
      "                                                       \r"
     ]
    },
    {
     "name": "stdout",
     "output_type": "stream",
     "text": [
      "Scientist session:\n",
      " Correct Proportion: 60.53% |\n",
      " Correct in 5 not 3: 69.13% |\n",
      " Correct in 15 not 5: 83.30% |\n",
      " Has Prediction and is Correct: 60.53% |\n",
      " Incorrect Proportion: 39.45% |\n",
      " None Proportion: 0.03% |\n",
      " First Prediction: 42.55% |\n",
      " Average Success Freq: 0.21 |\n",
      " Average Fail Freq: 0.29 \n",
      "\n"
     ]
    },
    {
     "name": "stderr",
     "output_type": "stream",
     "text": [
      "                                                       \r"
     ]
    },
    {
     "name": "stdout",
     "output_type": "stream",
     "text": [
      "Experienced session:\n",
      " Correct Proportion: 62.57% |\n",
      " Correct in 5 not 3: 71.13% |\n",
      " Correct in 15 not 5: 85.35% |\n",
      " Has Prediction and is Correct: 62.57% |\n",
      " Incorrect Proportion: 37.42% |\n",
      " None Proportion: 0.02% |\n",
      " First Prediction: 43.43% |\n",
      " Average Success Freq: 0.35 |\n",
      " Average Fail Freq: 0.49 \n",
      "\n"
     ]
    },
    {
     "name": "stderr",
     "output_type": "stream",
     "text": [
      "                                                     \r"
     ]
    },
    {
     "name": "stdout",
     "output_type": "stream",
     "text": [
      "Non programmer session:\n",
      " Correct Proportion: 53.61% |\n",
      " Correct in 5 not 3: 62.88% |\n",
      " Correct in 15 not 5: 78.53% |\n",
      " Has Prediction and is Correct: 53.61% |\n",
      " Incorrect Proportion: 46.39% |\n",
      " None Proportion: 0.00% |\n",
      " First Prediction: 34.84% |\n",
      " Average Success Freq: 1.10 |\n",
      " Average Fail Freq: 1.53 \n",
      "\n"
     ]
    },
    {
     "name": "stderr",
     "output_type": "stream",
     "text": [
      "                                                       \r"
     ]
    },
    {
     "name": "stdout",
     "output_type": "stream",
     "text": [
      "Novice session:\n",
      " Correct Proportion: 73.79% |\n",
      " Correct in 5 not 3: 79.94% |\n",
      " Correct in 15 not 5: 90.33% |\n",
      " Has Prediction and is Correct: 73.79% |\n",
      " Incorrect Proportion: 26.21% |\n",
      " None Proportion: 0.02% |\n",
      " First Prediction: 38.42% |\n",
      " Average Success Freq: 0.36 |\n",
      " Average Fail Freq: 0.48 \n",
      "\n",
      "Accuracy predicting command 5 from commands 1 through 4:\n",
      "\n"
     ]
    },
    {
     "name": "stderr",
     "output_type": "stream",
     "text": [
      "                                                        \r"
     ]
    },
    {
     "name": "stdout",
     "output_type": "stream",
     "text": [
      "Scientist session:\n",
      " Correct Proportion: 67.33% |\n",
      " Correct in 5 not 3: 72.18% |\n",
      " Correct in 15 not 5: 78.77% |\n",
      " Has Prediction and is Correct: 67.33% |\n",
      " Incorrect Proportion: 32.01% |\n",
      " None Proportion: 2.03% |\n",
      " First Prediction: 52.05% |\n",
      " Average Success Freq: 0.22 |\n",
      " Average Fail Freq: 0.30 \n",
      "\n"
     ]
    },
    {
     "name": "stderr",
     "output_type": "stream",
     "text": [
      "                                                        \r"
     ]
    },
    {
     "name": "stdout",
     "output_type": "stream",
     "text": [
      "Experienced session:\n",
      " Correct Proportion: 70.71% |\n",
      " Correct in 5 not 3: 75.85% |\n",
      " Correct in 15 not 5: 81.84% |\n",
      " Has Prediction and is Correct: 70.71% |\n",
      " Incorrect Proportion: 28.68% |\n",
      " None Proportion: 2.10% |\n",
      " First Prediction: 54.39% |\n",
      " Average Success Freq: 0.36 |\n",
      " Average Fail Freq: 0.49 \n",
      "\n"
     ]
    },
    {
     "name": "stderr",
     "output_type": "stream",
     "text": [
      "                                                     \r"
     ]
    },
    {
     "name": "stdout",
     "output_type": "stream",
     "text": [
      "Non programmer session:\n",
      " Correct Proportion: 63.19% |\n",
      " Correct in 5 not 3: 70.76% |\n",
      " Correct in 15 not 5: 80.57% |\n",
      " Has Prediction and is Correct: 63.19% |\n",
      " Incorrect Proportion: 36.39% |\n",
      " None Proportion: 1.14% |\n",
      " First Prediction: 44.06% |\n",
      " Average Success Freq: 1.14 |\n",
      " Average Fail Freq: 1.54 \n",
      "\n"
     ]
    },
    {
     "name": "stderr",
     "output_type": "stream",
     "text": [
      "                                                       \r"
     ]
    },
    {
     "name": "stdout",
     "output_type": "stream",
     "text": [
      "Novice session:\n",
      " Correct Proportion: 77.67% |\n",
      " Correct in 5 not 3: 81.87% |\n",
      " Correct in 15 not 5: 87.07% |\n",
      " Has Prediction and is Correct: 77.67% |\n",
      " Incorrect Proportion: 22.19% |\n",
      " None Proportion: 0.65% |\n",
      " First Prediction: 57.84% |\n",
      " Average Success Freq: 0.36 |\n",
      " Average Fail Freq: 0.49 \n",
      "\n"
     ]
    }
   ],
   "source": [
    "for i in range(1, 5):\n",
    "    print(\"Accuracy predicting command {} from commands {} through {}:\\n\".format(i+1, 1, i))\n",
    "\n",
    "    print(\"Scientist session:\\n\", get_accuracy(science_session, graph_depth=i), '\\n')\n",
    "    print(\"Experienced session:\\n\", get_accuracy(experienced_session, graph_depth=i), '\\n')\n",
    "    print(\"Non programmer session:\\n\", get_accuracy(non_session, graph_depth=i), '\\n')\n",
    "    print(\"Novice session:\\n\", get_accuracy(novice_session, graph_depth=i), '\\n')"
   ]
  },
  {
   "cell_type": "markdown",
   "metadata": {},
   "source": [
    "Consolidated predicting next command. Graph depth of `-1` should accomplish this."
   ]
  },
  {
   "cell_type": "code",
   "execution_count": 14,
   "metadata": {},
   "outputs": [
    {
     "name": "stderr",
     "output_type": "stream",
     "text": [
      "                                                      \r"
     ]
    },
    {
     "name": "stdout",
     "output_type": "stream",
     "text": [
      "Correct Proportion: 46.72% |\n",
      " Correct in 5 not 3: 53.21% |\n",
      " Correct in 15 not 5: 68.57% |\n",
      " Has Prediction and is Correct: 46.72% |\n",
      " Incorrect Proportion: 53.03% |\n",
      " None Proportion: 0.48% |\n",
      " First Prediction: 31.84% |\n",
      " Average Success Freq: 0.33 |\n",
      " Average Fail Freq: 0.67\n"
     ]
    },
    {
     "name": "stderr",
     "output_type": "stream",
     "text": [
      "                                                      \r"
     ]
    },
    {
     "name": "stdout",
     "output_type": "stream",
     "text": [
      "Correct Proportion: 48.75% |\n",
      " Correct in 5 not 3: 56.11% |\n",
      " Correct in 15 not 5: 71.27% |\n",
      " Has Prediction and is Correct: 48.75% |\n",
      " Incorrect Proportion: 51.00% |\n",
      " None Proportion: 0.49% |\n",
      " First Prediction: 33.36% |\n",
      " Average Success Freq: 0.50 |\n",
      " Average Fail Freq: 1.08\n"
     ]
    },
    {
     "name": "stderr",
     "output_type": "stream",
     "text": [
      "                                                      \r"
     ]
    },
    {
     "name": "stdout",
     "output_type": "stream",
     "text": [
      "Correct Proportion: 43.79% |\n",
      " Correct in 5 not 3: 52.02% |\n",
      " Correct in 15 not 5: 68.29% |\n",
      " Has Prediction and is Correct: 43.79% |\n",
      " Incorrect Proportion: 56.07% |\n",
      " None Proportion: 0.26% |\n",
      " First Prediction: 28.68% |\n",
      " Average Success Freq: 1.85 |\n",
      " Average Fail Freq: 3.82\n"
     ]
    },
    {
     "name": "stderr",
     "output_type": "stream",
     "text": [
      "                                                      \r"
     ]
    },
    {
     "name": "stdout",
     "output_type": "stream",
     "text": [
      "Correct Proportion: 67.72% |\n",
      " Correct in 5 not 3: 73.36% |\n",
      " Correct in 15 not 5: 83.40% |\n",
      " Has Prediction and is Correct: 67.72% |\n",
      " Incorrect Proportion: 32.23% |\n",
      " None Proportion: 0.16% |\n",
      " First Prediction: 44.35% |\n",
      " Average Success Freq: 1.14 |\n",
      " Average Fail Freq: 1.17\n"
     ]
    }
   ],
   "source": [
    "import os\n",
    "import csv\n",
    "\n",
    "dataset_names = [\"Science data\", \"Experienced data\", \"Non programmer data\", \"Novice data\"]\n",
    "datasets = [science_session, experienced_session, non_session, novice_session]\n",
    "\n",
    "for i in range(len(datasets)):\n",
    "    fail_frequencies = []\n",
    "    succeed_frequencies = []\n",
    "\n",
    "    print(get_accuracy(datasets[i], fail_frequencies=fail_frequencies, succeed_frequencies=succeed_frequencies, print_fails=True, graph_depth=-1))\n",
    "\n",
    "    os.makedirs(os.path.dirname(\"fails/frequencies_all/\" + dataset_names[i] + \".csv\"), exist_ok=True)\n",
    "    with open(\"fails/frequencies_all/\" + dataset_names[i] + \".csv\", \"w\", newline='') as file:\n",
    "        writer = csv.writer(file)\n",
    "        writer.writerow(fail_frequencies)\n",
    "\n",
    "    os.makedirs(os.path.dirname(\"successes/frequencies_all/\" + dataset_names[i] + \".csv\"), exist_ok=True)\n",
    "    with open(\"successes/frequencies_all/\" + dataset_names[i] + \".csv\", \"w\", newline='') as file:\n",
    "        writer = csv.writer(file)\n",
    "        writer.writerow(succeed_frequencies)\n"
   ]
  },
  {
   "cell_type": "markdown",
   "metadata": {},
   "source": [
    "Save files for all data"
   ]
  },
  {
   "cell_type": "code",
   "execution_count": 15,
   "metadata": {},
   "outputs": [
    {
     "name": "stderr",
     "output_type": "stream",
     "text": [
      "                                                      \r"
     ]
    },
    {
     "ename": "KeyboardInterrupt",
     "evalue": "",
     "output_type": "error",
     "traceback": [
      "\u001b[0;31m---------------------------------------------------------------------------\u001b[0m",
      "\u001b[0;31mKeyboardInterrupt\u001b[0m                         Traceback (most recent call last)",
      "\u001b[1;32m/Users/vapatel/Documents/Spring Semester/Comp 992/Comp 991 - Prasun Research/bashcomplete/predict_n+1_v3 n-2.ipynb Cell 30'\u001b[0m in \u001b[0;36m<module>\u001b[0;34m\u001b[0m\n\u001b[1;32m     <a href='vscode-notebook-cell:/Users/vapatel/Documents/Spring%20Semester/Comp%20992/Comp%20991%20-%20Prasun%20Research/bashcomplete/predict_n%2B1_v3%20n-2.ipynb#ch0000029?line=12'>13</a>\u001b[0m correct_5_not_3 \u001b[39m=\u001b[39m []\n\u001b[1;32m     <a href='vscode-notebook-cell:/Users/vapatel/Documents/Spring%20Semester/Comp%20992/Comp%20991%20-%20Prasun%20Research/bashcomplete/predict_n%2B1_v3%20n-2.ipynb#ch0000029?line=13'>14</a>\u001b[0m correct_15_not_5 \u001b[39m=\u001b[39m []\n\u001b[0;32m---> <a href='vscode-notebook-cell:/Users/vapatel/Documents/Spring%20Semester/Comp%20992/Comp%20991%20-%20Prasun%20Research/bashcomplete/predict_n%2B1_v3%20n-2.ipynb#ch0000029?line=15'>16</a>\u001b[0m get_accuracy(datasets[i], fail_list\u001b[39m=\u001b[39;49mfail_list, succeed_list\u001b[39m=\u001b[39;49msucceed_list, correct_5_not_3\u001b[39m=\u001b[39;49mcorrect_5_not_3, correct_15_not_5\u001b[39m=\u001b[39;49mcorrect_15_not_5, print_fails\u001b[39m=\u001b[39;49m\u001b[39mTrue\u001b[39;49;00m, graph_depth\u001b[39m=\u001b[39;49mj)\n\u001b[1;32m     <a href='vscode-notebook-cell:/Users/vapatel/Documents/Spring%20Semester/Comp%20992/Comp%20991%20-%20Prasun%20Research/bashcomplete/predict_n%2B1_v3%20n-2.ipynb#ch0000029?line=17'>18</a>\u001b[0m os\u001b[39m.\u001b[39mmakedirs(os\u001b[39m.\u001b[39mpath\u001b[39m.\u001b[39mdirname(\u001b[39m\"\u001b[39m\u001b[39mfails/predicting_\u001b[39m\u001b[39m\"\u001b[39m \u001b[39m+\u001b[39m \u001b[39mstr\u001b[39m(j\u001b[39m+\u001b[39m\u001b[39m1\u001b[39m) \u001b[39m+\u001b[39m \u001b[39m\"\u001b[39m\u001b[39m/\u001b[39m\u001b[39m\"\u001b[39m \u001b[39m+\u001b[39m dataset_names[i] \u001b[39m+\u001b[39m \u001b[39m\"\u001b[39m\u001b[39m.txt\u001b[39m\u001b[39m\"\u001b[39m), exist_ok\u001b[39m=\u001b[39m\u001b[39mTrue\u001b[39;00m)\n\u001b[1;32m     <a href='vscode-notebook-cell:/Users/vapatel/Documents/Spring%20Semester/Comp%20992/Comp%20991%20-%20Prasun%20Research/bashcomplete/predict_n%2B1_v3%20n-2.ipynb#ch0000029?line=18'>19</a>\u001b[0m \u001b[39mwith\u001b[39;00m \u001b[39mopen\u001b[39m(\u001b[39m\"\u001b[39m\u001b[39mfails/predicting_\u001b[39m\u001b[39m\"\u001b[39m \u001b[39m+\u001b[39m \u001b[39mstr\u001b[39m(j\u001b[39m+\u001b[39m\u001b[39m1\u001b[39m) \u001b[39m+\u001b[39m \u001b[39m\"\u001b[39m\u001b[39m/\u001b[39m\u001b[39m\"\u001b[39m \u001b[39m+\u001b[39m dataset_names[i] \u001b[39m+\u001b[39m \u001b[39m\"\u001b[39m\u001b[39m.txt\u001b[39m\u001b[39m\"\u001b[39m, \u001b[39m\"\u001b[39m\u001b[39mw\u001b[39m\u001b[39m\"\u001b[39m) \u001b[39mas\u001b[39;00m file:\n",
      "\u001b[1;32m/Users/vapatel/Documents/Spring Semester/Comp 992/Comp 991 - Prasun Research/bashcomplete/predict_n+1_v3 n-2.ipynb Cell 7'\u001b[0m in \u001b[0;36mget_accuracy\u001b[0;34m(command_subsets, fail_list, fail_frequencies, succeed_list, succeed_frequencies, correct_5_not_3, correct_15_not_5, print_fails, graph_depth)\u001b[0m\n\u001b[1;32m     <a href='vscode-notebook-cell:/Users/vapatel/Documents/Spring%20Semester/Comp%20992/Comp%20991%20-%20Prasun%20Research/bashcomplete/predict_n%2B1_v3%20n-2.ipynb#ch0000006?line=40'>41</a>\u001b[0m \u001b[39mfor\u001b[39;00m commands \u001b[39min\u001b[39;00m tqdm(test_data, leave\u001b[39m=\u001b[39m\u001b[39mFalse\u001b[39;00m):\n\u001b[1;32m     <a href='vscode-notebook-cell:/Users/vapatel/Documents/Spring%20Semester/Comp%20992/Comp%20991%20-%20Prasun%20Research/bashcomplete/predict_n%2B1_v3%20n-2.ipynb#ch0000006?line=41'>42</a>\u001b[0m     results_3, frequencies \u001b[39m=\u001b[39m get_prediction(commands, train_graph, return_3, graph_depth)\n\u001b[0;32m---> <a href='vscode-notebook-cell:/Users/vapatel/Documents/Spring%20Semester/Comp%20992/Comp%20991%20-%20Prasun%20Research/bashcomplete/predict_n%2B1_v3%20n-2.ipynb#ch0000006?line=42'>43</a>\u001b[0m     results_5, _ \u001b[39m=\u001b[39m get_prediction(commands, train_graph, return_5, graph_depth)\n\u001b[1;32m     <a href='vscode-notebook-cell:/Users/vapatel/Documents/Spring%20Semester/Comp%20992/Comp%20991%20-%20Prasun%20Research/bashcomplete/predict_n%2B1_v3%20n-2.ipynb#ch0000006?line=43'>44</a>\u001b[0m     results_15, _ \u001b[39m=\u001b[39m get_prediction(commands, train_graph, return_15, graph_depth)\n\u001b[1;32m     <a href='vscode-notebook-cell:/Users/vapatel/Documents/Spring%20Semester/Comp%20992/Comp%20991%20-%20Prasun%20Research/bashcomplete/predict_n%2B1_v3%20n-2.ipynb#ch0000006?line=45'>46</a>\u001b[0m     command_freq \u001b[39m=\u001b[39m [(commands[i], frequencies[i]) \u001b[39mfor\u001b[39;00m i \u001b[39min\u001b[39;00m \u001b[39mrange\u001b[39m(\u001b[39mlen\u001b[39m(frequencies))]\n",
      "\u001b[1;32m/Users/vapatel/Documents/Spring Semester/Comp 992/Comp 991 - Prasun Research/bashcomplete/predict_n+1_v3 n-2.ipynb Cell 5'\u001b[0m in \u001b[0;36mget_prediction\u001b[0;34m(command_list, graph, result_size, graph_depth)\u001b[0m\n\u001b[1;32m     <a href='vscode-notebook-cell:/Users/vapatel/Documents/Spring%20Semester/Comp%20992/Comp%20991%20-%20Prasun%20Research/bashcomplete/predict_n%2B1_v3%20n-2.ipynb#ch0000004?line=37'>38</a>\u001b[0m     frequencies\u001b[39m.\u001b[39mappend(\u001b[39m-\u001b[39m\u001b[39m1\u001b[39m)\n\u001b[1;32m     <a href='vscode-notebook-cell:/Users/vapatel/Documents/Spring%20Semester/Comp%20992/Comp%20991%20-%20Prasun%20Research/bashcomplete/predict_n%2B1_v3%20n-2.ipynb#ch0000004?line=39'>40</a>\u001b[0m \u001b[39m# previous command should be command_list[depth-1]\u001b[39;00m\n\u001b[0;32m---> <a href='vscode-notebook-cell:/Users/vapatel/Documents/Spring%20Semester/Comp%20992/Comp%20991%20-%20Prasun%20Research/bashcomplete/predict_n%2B1_v3%20n-2.ipynb#ch0000004?line=40'>41</a>\u001b[0m \u001b[39mreturn\u001b[39;00m node\u001b[39m.\u001b[39;49mget_prediction(previous_command\u001b[39m=\u001b[39;49mcommand_list[graph_depth\u001b[39m-\u001b[39;49m\u001b[39m1\u001b[39;49m], num_to_return\u001b[39m=\u001b[39;49mresult_size), frequencies\n",
      "File \u001b[0;32m~/Documents/Spring Semester/Comp 992/Comp 991 - Prasun Research/bashcomplete/graph.py:51\u001b[0m, in \u001b[0;36mNode.get_prediction\u001b[0;34m(self, previous_command, num_to_return)\u001b[0m\n\u001b[1;32m     <a href='file:///Users/vapatel/Documents/Spring%20Semester/Comp%20992/Comp%20991%20-%20Prasun%20Research/bashcomplete/graph.py?line=46'>47</a>\u001b[0m potential_commands_scored \u001b[39m=\u001b[39m {}\n\u001b[1;32m     <a href='file:///Users/vapatel/Documents/Spring%20Semester/Comp%20992/Comp%20991%20-%20Prasun%20Research/bashcomplete/graph.py?line=48'>49</a>\u001b[0m \u001b[39mfor\u001b[39;00m potential_command \u001b[39min\u001b[39;00m potential_commands:\n\u001b[0;32m---> <a href='file:///Users/vapatel/Documents/Spring%20Semester/Comp%20992/Comp%20991%20-%20Prasun%20Research/bashcomplete/graph.py?line=50'>51</a>\u001b[0m     fuzzy_score \u001b[39m=\u001b[39m fuzz\u001b[39m.\u001b[39;49mratio(previous_command, potential_command[\u001b[39m0\u001b[39;49m])\n\u001b[1;32m     <a href='file:///Users/vapatel/Documents/Spring%20Semester/Comp%20992/Comp%20991%20-%20Prasun%20Research/bashcomplete/graph.py?line=52'>53</a>\u001b[0m     \u001b[39m#set ratio to 1 incase no match; intent of fuzzy ratio is to match with args\u001b[39;00m\n\u001b[1;32m     <a href='file:///Users/vapatel/Documents/Spring%20Semester/Comp%20992/Comp%20991%20-%20Prasun%20Research/bashcomplete/graph.py?line=53'>54</a>\u001b[0m     \u001b[39mif\u001b[39;00m fuzzy_score \u001b[39m==\u001b[39m \u001b[39m0\u001b[39m:\n",
      "File \u001b[0;32m~/Documents/Spring Semester/Comp 992/Comp 991 - Prasun Research/bashcomplete/venv/lib/python3.9/site-packages/thefuzz/utils.py:38\u001b[0m, in \u001b[0;36mcheck_for_none.<locals>.decorator\u001b[0;34m(*args, **kwargs)\u001b[0m\n\u001b[1;32m     <a href='file:///Users/vapatel/Documents/Spring%20Semester/Comp%20992/Comp%20991%20-%20Prasun%20Research/bashcomplete/venv/lib/python3.9/site-packages/thefuzz/utils.py?line=35'>36</a>\u001b[0m \u001b[39mif\u001b[39;00m args[\u001b[39m0\u001b[39m] \u001b[39mis\u001b[39;00m \u001b[39mNone\u001b[39;00m \u001b[39mor\u001b[39;00m args[\u001b[39m1\u001b[39m] \u001b[39mis\u001b[39;00m \u001b[39mNone\u001b[39;00m:\n\u001b[1;32m     <a href='file:///Users/vapatel/Documents/Spring%20Semester/Comp%20992/Comp%20991%20-%20Prasun%20Research/bashcomplete/venv/lib/python3.9/site-packages/thefuzz/utils.py?line=36'>37</a>\u001b[0m     \u001b[39mreturn\u001b[39;00m \u001b[39m0\u001b[39m\n\u001b[0;32m---> <a href='file:///Users/vapatel/Documents/Spring%20Semester/Comp%20992/Comp%20991%20-%20Prasun%20Research/bashcomplete/venv/lib/python3.9/site-packages/thefuzz/utils.py?line=37'>38</a>\u001b[0m \u001b[39mreturn\u001b[39;00m func(\u001b[39m*\u001b[39;49margs, \u001b[39m*\u001b[39;49m\u001b[39m*\u001b[39;49mkwargs)\n",
      "File \u001b[0;32m~/Documents/Spring Semester/Comp 992/Comp 991 - Prasun Research/bashcomplete/venv/lib/python3.9/site-packages/thefuzz/utils.py:29\u001b[0m, in \u001b[0;36mcheck_for_equivalence.<locals>.decorator\u001b[0;34m(*args, **kwargs)\u001b[0m\n\u001b[1;32m     <a href='file:///Users/vapatel/Documents/Spring%20Semester/Comp%20992/Comp%20991%20-%20Prasun%20Research/bashcomplete/venv/lib/python3.9/site-packages/thefuzz/utils.py?line=26'>27</a>\u001b[0m \u001b[39mif\u001b[39;00m args[\u001b[39m0\u001b[39m] \u001b[39m==\u001b[39m args[\u001b[39m1\u001b[39m]:\n\u001b[1;32m     <a href='file:///Users/vapatel/Documents/Spring%20Semester/Comp%20992/Comp%20991%20-%20Prasun%20Research/bashcomplete/venv/lib/python3.9/site-packages/thefuzz/utils.py?line=27'>28</a>\u001b[0m     \u001b[39mreturn\u001b[39;00m \u001b[39m100\u001b[39m\n\u001b[0;32m---> <a href='file:///Users/vapatel/Documents/Spring%20Semester/Comp%20992/Comp%20991%20-%20Prasun%20Research/bashcomplete/venv/lib/python3.9/site-packages/thefuzz/utils.py?line=28'>29</a>\u001b[0m \u001b[39mreturn\u001b[39;00m func(\u001b[39m*\u001b[39;49margs, \u001b[39m*\u001b[39;49m\u001b[39m*\u001b[39;49mkwargs)\n",
      "File \u001b[0;32m~/Documents/Spring Semester/Comp 992/Comp 991 - Prasun Research/bashcomplete/venv/lib/python3.9/site-packages/thefuzz/utils.py:47\u001b[0m, in \u001b[0;36mcheck_empty_string.<locals>.decorator\u001b[0;34m(*args, **kwargs)\u001b[0m\n\u001b[1;32m     <a href='file:///Users/vapatel/Documents/Spring%20Semester/Comp%20992/Comp%20991%20-%20Prasun%20Research/bashcomplete/venv/lib/python3.9/site-packages/thefuzz/utils.py?line=44'>45</a>\u001b[0m \u001b[39mif\u001b[39;00m \u001b[39mlen\u001b[39m(args[\u001b[39m0\u001b[39m]) \u001b[39m==\u001b[39m \u001b[39m0\u001b[39m \u001b[39mor\u001b[39;00m \u001b[39mlen\u001b[39m(args[\u001b[39m1\u001b[39m]) \u001b[39m==\u001b[39m \u001b[39m0\u001b[39m:\n\u001b[1;32m     <a href='file:///Users/vapatel/Documents/Spring%20Semester/Comp%20992/Comp%20991%20-%20Prasun%20Research/bashcomplete/venv/lib/python3.9/site-packages/thefuzz/utils.py?line=45'>46</a>\u001b[0m     \u001b[39mreturn\u001b[39;00m \u001b[39m0\u001b[39m\n\u001b[0;32m---> <a href='file:///Users/vapatel/Documents/Spring%20Semester/Comp%20992/Comp%20991%20-%20Prasun%20Research/bashcomplete/venv/lib/python3.9/site-packages/thefuzz/utils.py?line=46'>47</a>\u001b[0m \u001b[39mreturn\u001b[39;00m func(\u001b[39m*\u001b[39;49margs, \u001b[39m*\u001b[39;49m\u001b[39m*\u001b[39;49mkwargs)\n",
      "File \u001b[0;32m~/Documents/Spring Semester/Comp 992/Comp 991 - Prasun Research/bashcomplete/venv/lib/python3.9/site-packages/thefuzz/fuzz.py:27\u001b[0m, in \u001b[0;36mratio\u001b[0;34m(s1, s2)\u001b[0m\n\u001b[1;32m     <a href='file:///Users/vapatel/Documents/Spring%20Semester/Comp%20992/Comp%20991%20-%20Prasun%20Research/bashcomplete/venv/lib/python3.9/site-packages/thefuzz/fuzz.py?line=20'>21</a>\u001b[0m \u001b[39m@utils\u001b[39m\u001b[39m.\u001b[39mcheck_for_none\n\u001b[1;32m     <a href='file:///Users/vapatel/Documents/Spring%20Semester/Comp%20992/Comp%20991%20-%20Prasun%20Research/bashcomplete/venv/lib/python3.9/site-packages/thefuzz/fuzz.py?line=21'>22</a>\u001b[0m \u001b[39m@utils\u001b[39m\u001b[39m.\u001b[39mcheck_for_equivalence\n\u001b[1;32m     <a href='file:///Users/vapatel/Documents/Spring%20Semester/Comp%20992/Comp%20991%20-%20Prasun%20Research/bashcomplete/venv/lib/python3.9/site-packages/thefuzz/fuzz.py?line=22'>23</a>\u001b[0m \u001b[39m@utils\u001b[39m\u001b[39m.\u001b[39mcheck_empty_string\n\u001b[1;32m     <a href='file:///Users/vapatel/Documents/Spring%20Semester/Comp%20992/Comp%20991%20-%20Prasun%20Research/bashcomplete/venv/lib/python3.9/site-packages/thefuzz/fuzz.py?line=23'>24</a>\u001b[0m \u001b[39mdef\u001b[39;00m \u001b[39mratio\u001b[39m(s1, s2):\n\u001b[1;32m     <a href='file:///Users/vapatel/Documents/Spring%20Semester/Comp%20992/Comp%20991%20-%20Prasun%20Research/bashcomplete/venv/lib/python3.9/site-packages/thefuzz/fuzz.py?line=24'>25</a>\u001b[0m     s1, s2 \u001b[39m=\u001b[39m utils\u001b[39m.\u001b[39mmake_type_consistent(s1, s2)\n\u001b[0;32m---> <a href='file:///Users/vapatel/Documents/Spring%20Semester/Comp%20992/Comp%20991%20-%20Prasun%20Research/bashcomplete/venv/lib/python3.9/site-packages/thefuzz/fuzz.py?line=26'>27</a>\u001b[0m     m \u001b[39m=\u001b[39m SequenceMatcher(\u001b[39mNone\u001b[39;49;00m, s1, s2)\n\u001b[1;32m     <a href='file:///Users/vapatel/Documents/Spring%20Semester/Comp%20992/Comp%20991%20-%20Prasun%20Research/bashcomplete/venv/lib/python3.9/site-packages/thefuzz/fuzz.py?line=27'>28</a>\u001b[0m     \u001b[39mreturn\u001b[39;00m utils\u001b[39m.\u001b[39mintr(\u001b[39m100\u001b[39m \u001b[39m*\u001b[39m m\u001b[39m.\u001b[39mratio())\n",
      "\u001b[0;31mKeyboardInterrupt\u001b[0m: "
     ]
    }
   ],
   "source": [
    "import os\n",
    "import pprint\n",
    "\n",
    "pp = pprint.PrettyPrinter(indent=4)\n",
    "\n",
    "dataset_names = [\"Science data\", \"Experienced data\", \"Non programmer data\", \"Novice data\"]\n",
    "datasets = [science_session, experienced_session, non_session, novice_session]\n",
    "\n",
    "for i in range(len(datasets)):\n",
    "    for j in range (1, 5):\n",
    "        fail_list = []\n",
    "        succeed_list = []\n",
    "        correct_5_not_3 = []\n",
    "        correct_15_not_5 = []\n",
    "\n",
    "        get_accuracy(datasets[i], fail_list=fail_list, succeed_list=succeed_list, correct_5_not_3=correct_5_not_3, correct_15_not_5=correct_15_not_5, print_fails=True, graph_depth=j)\n",
    "\n",
    "        os.makedirs(os.path.dirname(\"fails/predicting_\" + str(j+1) + \"/\" + dataset_names[i] + \".txt\"), exist_ok=True)\n",
    "        with open(\"fails/predicting_\" + str(j+1) + \"/\" + dataset_names[i] + \".txt\", \"w\") as file:\n",
    "            file.write(pp.pformat(fail_list))\n",
    "\n",
    "        os.makedirs(os.path.dirname(\"successes/predicting_\" + str(j+1) + \"/\" + dataset_names[i] + \".txt\"), exist_ok=True)\n",
    "        with open(\"successes/predicting_\" + str(j+1) + \"/\" + dataset_names[i] + \".txt\", \"w\") as file:\n",
    "            file.write(pp.pformat(succeed_list))\n",
    "\n",
    "        os.makedirs(os.path.dirname(\"correct_5_not_3/predicting_\" + str(j+1) + \"/\" + dataset_names[i] + \".txt\"), exist_ok=True)\n",
    "        with open(\"correct_5_not_3/predicting_\" + str(j+1) + \"/\" + dataset_names[i] + \".txt\", \"w\") as file:\n",
    "            file.write(pp.pformat(correct_5_not_3))\n",
    "\n",
    "        os.makedirs(os.path.dirname(\"correct_15_not_5/predicting_\" + str(j+1) + \"/\" + dataset_names[i] + \".txt\"), exist_ok=True)\n",
    "        with open(\"correct_15_not_5/predicting_\" + str(j+1) + \"/\" + dataset_names[i] + \".txt\", \"w\") as file:\n",
    "            file.write(pp.pformat(correct_15_not_5))\n"
   ]
  },
  {
   "cell_type": "markdown",
   "metadata": {},
   "source": [
    "Save frequencies for successes and failures to CSV"
   ]
  },
  {
   "cell_type": "code",
   "execution_count": null,
   "metadata": {},
   "outputs": [
    {
     "name": "stderr",
     "output_type": "stream",
     "text": [
      "                                                        \r"
     ]
    }
   ],
   "source": [
    "import os\n",
    "import csv\n",
    "\n",
    "dataset_names = [\"Science data\", \"Experienced data\", \"Non programmer data\", \"Novice data\"]\n",
    "datasets = [science_session, experienced_session, non_session, novice_session]\n",
    "\n",
    "for i in range(len(datasets)):\n",
    "    for j in range (1, 5):\n",
    "        fail_frequencies = []\n",
    "        succeed_frequencies = []\n",
    "\n",
    "        get_accuracy(datasets[i], fail_frequencies=fail_frequencies, succeed_frequencies=succeed_frequencies, print_fails=True, graph_depth=j)\n",
    "\n",
    "        os.makedirs(os.path.dirname(\"fails/frequencies_\" + str(j+1) + \"/\" + dataset_names[i] + \".csv\"), exist_ok=True)\n",
    "        with open(\"fails/frequencies_\" + str(j+1) + \"/\" + dataset_names[i] + \".csv\", \"w\", newline='') as file:\n",
    "            writer = csv.writer(file)\n",
    "            writer.writerow(fail_frequencies)\n",
    "\n",
    "        os.makedirs(os.path.dirname(\"successes/frequencies_\" + str(j+1) + \"/\" + dataset_names[i] + \".csv\"), exist_ok=True)\n",
    "        with open(\"successes/frequencies_\" + str(j+1) + \"/\" + dataset_names[i] + \".csv\", \"w\", newline='') as file:\n",
    "            writer = csv.writer(file)\n",
    "            writer.writerow(succeed_frequencies)\n"
   ]
  },
  {
   "cell_type": "markdown",
   "metadata": {},
   "source": [
    "Sampled Commands Parse and Replace Args"
   ]
  },
  {
   "cell_type": "code",
   "execution_count": null,
   "metadata": {},
   "outputs": [
    {
     "name": "stderr",
     "output_type": "stream",
     "text": [
      "100%|██████████| 10/10 [00:03<00:00,  3.20it/s]\n",
      "100%|██████████| 7/7 [00:02<00:00,  3.25it/s]\n",
      "100%|██████████| 5/5 [00:00<00:00,  9.45it/s]\n",
      "100%|██████████| 11/11 [00:02<00:00,  3.73it/s]\n"
     ]
    }
   ],
   "source": [
    "from random import sample\n",
    "import math\n",
    "\n",
    "subset_size = 5\n",
    "\n",
    "science_session_sample = parser.parse_commands_per_session(sample(parser.scientists_files, math.floor(0.2 * len(parser.scientists_files))))\n",
    "science_session_sample = parser.parse_commands_into_subsets_sliding_window(science_session_sample, subset_size)\n",
    "science_session_sample = parser.replace_args_nested(science_session_sample)\n",
    "\n",
    "experienced_session_sample = parser.parse_commands_per_session(sample(parser.experienced_files, math.floor(0.2 * len(parser.experienced_files))))\n",
    "experienced_session_sample = parser.parse_commands_into_subsets_sliding_window(experienced_session_sample, subset_size)\n",
    "experienced_session_sample = parser.replace_args_nested(experienced_session_sample)\n",
    "\n",
    "non_session_sample = parser.parse_commands_per_session(sample(parser.non_programmers_files, math.floor(0.2 * len(parser.non_programmers_files))))\n",
    "non_session_sample = parser.parse_commands_into_subsets_sliding_window(non_session_sample, subset_size)\n",
    "non_session_sample = parser.replace_args_nested(non_session_sample)\n",
    "\n",
    "novice_session_sample = parser.parse_commands_per_session(sample(parser.novice_files, math.floor(0.2 * len(parser.novice_files))))\n",
    "novice_session_sample = parser.parse_commands_into_subsets_sliding_window(novice_session_sample, subset_size)\n",
    "novice_session_sample = parser.replace_args_nested(novice_session_sample)"
   ]
  },
  {
   "cell_type": "markdown",
   "metadata": {},
   "source": [
    "Accuracy predicting N+1 command from N commands with subset of data"
   ]
  },
  {
   "cell_type": "code",
   "execution_count": null,
   "metadata": {},
   "outputs": [
    {
     "name": "stdout",
     "output_type": "stream",
     "text": [
      "Accuracy Predicting Command 2 from commands 1 through 1:\n",
      "\n"
     ]
    },
    {
     "name": "stderr",
     "output_type": "stream",
     "text": [
      "                                                      \r"
     ]
    },
    {
     "name": "stdout",
     "output_type": "stream",
     "text": [
      "Scientist session sample:\n",
      " Correct Proportion: 62.75% |\n",
      " Correct in 5 not 3: 69.17% |\n",
      " Correct in 15 not 5: 82.97% |\n",
      " Has Prediction and is Correct: 62.75% |\n",
      " Incorrect Proportion: 37.25% |\n",
      " None Proportion: 0.00% |\n",
      " First Prediction: 45.99% |\n",
      " Average Success Freq: 0.41 |\n",
      " Average Fail Freq: 0.74\n"
     ]
    },
    {
     "name": "stderr",
     "output_type": "stream",
     "text": [
      "                                                      \r"
     ]
    },
    {
     "name": "stdout",
     "output_type": "stream",
     "text": [
      "Experienced session sample:\n",
      " Correct Proportion: 65.86% |\n",
      " Correct in 5 not 3: 73.60% |\n",
      " Correct in 15 not 5: 86.97% |\n",
      " Has Prediction and is Correct: 65.86% |\n",
      " Incorrect Proportion: 34.14% |\n",
      " None Proportion: 0.00% |\n",
      " First Prediction: 45.30% |\n",
      " Average Success Freq: 0.63 |\n",
      " Average Fail Freq: 1.09\n"
     ]
    },
    {
     "name": "stderr",
     "output_type": "stream",
     "text": [
      "                                                   \r"
     ]
    },
    {
     "name": "stdout",
     "output_type": "stream",
     "text": [
      "Non programmer session sample:\n",
      " Correct Proportion: 59.77% |\n",
      " Correct in 5 not 3: 68.18% |\n",
      " Correct in 15 not 5: 83.48% |\n",
      " Has Prediction and is Correct: 59.77% |\n",
      " Incorrect Proportion: 40.23% |\n",
      " None Proportion: 0.00% |\n",
      " First Prediction: 41.34% |\n",
      " Average Success Freq: 3.59 |\n",
      " Average Fail Freq: 6.32\n"
     ]
    },
    {
     "name": "stderr",
     "output_type": "stream",
     "text": [
      "                                                      \r"
     ]
    },
    {
     "name": "stdout",
     "output_type": "stream",
     "text": [
      "Novice session sample:\n",
      " Correct Proportion: 70.98% |\n",
      " Correct in 5 not 3: 77.40% |\n",
      " Correct in 15 not 5: 87.91% |\n",
      " Has Prediction and is Correct: 70.98% |\n",
      " Incorrect Proportion: 29.01% |\n",
      " None Proportion: 0.01% |\n",
      " First Prediction: 46.98% |\n",
      " Average Success Freq: 0.51 |\n",
      " Average Fail Freq: 0.86\n",
      "Accuracy Predicting Command 3 from commands 1 through 2:\n",
      "\n"
     ]
    },
    {
     "name": "stderr",
     "output_type": "stream",
     "text": [
      "                                                      \r"
     ]
    },
    {
     "name": "stdout",
     "output_type": "stream",
     "text": [
      "Scientist session sample:\n",
      " Correct Proportion: 80.30% |\n",
      " Correct in 5 not 3: 86.25% |\n",
      " Correct in 15 not 5: 94.55% |\n",
      " Has Prediction and is Correct: 80.30% |\n",
      " Incorrect Proportion: 19.70% |\n",
      " None Proportion: 0.00% |\n",
      " First Prediction: 62.99% |\n",
      " Average Success Freq: 0.46 |\n",
      " Average Fail Freq: 0.78\n"
     ]
    },
    {
     "name": "stderr",
     "output_type": "stream",
     "text": [
      "                                                    \r"
     ]
    },
    {
     "name": "stdout",
     "output_type": "stream",
     "text": [
      "Experienced session sample:\n",
      " Correct Proportion: 84.59% |\n",
      " Correct in 5 not 3: 89.68% |\n",
      " Correct in 15 not 5: 96.49% |\n",
      " Has Prediction and is Correct: 84.59% |\n",
      " Incorrect Proportion: 15.41% |\n",
      " None Proportion: 0.00% |\n",
      " First Prediction: 64.71% |\n",
      " Average Success Freq: 0.66 |\n",
      " Average Fail Freq: 1.13\n"
     ]
    },
    {
     "name": "stderr",
     "output_type": "stream",
     "text": [
      "                                                    \r"
     ]
    },
    {
     "name": "stdout",
     "output_type": "stream",
     "text": [
      "Non programmer session sample:\n",
      " Correct Proportion: 75.08% |\n",
      " Correct in 5 not 3: 81.99% |\n",
      " Correct in 15 not 5: 91.57% |\n",
      " Has Prediction and is Correct: 75.08% |\n",
      " Incorrect Proportion: 24.92% |\n",
      " None Proportion: 0.00% |\n",
      " First Prediction: 57.07% |\n",
      " Average Success Freq: 3.75 |\n",
      " Average Fail Freq: 6.43\n"
     ]
    },
    {
     "name": "stderr",
     "output_type": "stream",
     "text": [
      "                                                      \r"
     ]
    },
    {
     "name": "stdout",
     "output_type": "stream",
     "text": [
      "Novice session sample:\n",
      " Correct Proportion: 81.68% |\n",
      " Correct in 5 not 3: 87.11% |\n",
      " Correct in 15 not 5: 94.29% |\n",
      " Has Prediction and is Correct: 81.68% |\n",
      " Incorrect Proportion: 18.32% |\n",
      " None Proportion: 0.00% |\n",
      " First Prediction: 63.41% |\n",
      " Average Success Freq: 0.51 |\n",
      " Average Fail Freq: 0.85\n",
      "Accuracy Predicting Command 4 from commands 1 through 3:\n",
      "\n"
     ]
    },
    {
     "name": "stderr",
     "output_type": "stream",
     "text": [
      "                                                     \r"
     ]
    },
    {
     "name": "stdout",
     "output_type": "stream",
     "text": [
      "Scientist session sample:\n",
      " Correct Proportion: 90.65% |\n",
      " Correct in 5 not 3: 94.06% |\n",
      " Correct in 15 not 5: 97.71% |\n",
      " Has Prediction and is Correct: 90.65% |\n",
      " Incorrect Proportion: 9.35% |\n",
      " None Proportion: 0.00% |\n",
      " First Prediction: 77.05% |\n",
      " Average Success Freq: 0.45 |\n",
      " Average Fail Freq: 0.77\n"
     ]
    },
    {
     "name": "stderr",
     "output_type": "stream",
     "text": [
      "                                                     \r"
     ]
    },
    {
     "name": "stdout",
     "output_type": "stream",
     "text": [
      "Experienced session sample:\n",
      " Correct Proportion: 92.92% |\n",
      " Correct in 5 not 3: 95.41% |\n",
      " Correct in 15 not 5: 98.38% |\n",
      " Has Prediction and is Correct: 92.92% |\n",
      " Incorrect Proportion: 7.08% |\n",
      " None Proportion: 0.02% |\n",
      " First Prediction: 80.81% |\n",
      " Average Success Freq: 0.65 |\n",
      " Average Fail Freq: 1.12\n"
     ]
    },
    {
     "name": "stderr",
     "output_type": "stream",
     "text": [
      "                                                   \r"
     ]
    },
    {
     "name": "stdout",
     "output_type": "stream",
     "text": [
      "Non programmer session sample:\n",
      " Correct Proportion: 83.77% |\n",
      " Correct in 5 not 3: 90.21% |\n",
      " Correct in 15 not 5: 96.78% |\n",
      " Has Prediction and is Correct: 83.77% |\n",
      " Incorrect Proportion: 16.23% |\n",
      " None Proportion: 0.00% |\n",
      " First Prediction: 65.63% |\n",
      " Average Success Freq: 3.68 |\n",
      " Average Fail Freq: 6.36\n"
     ]
    },
    {
     "name": "stderr",
     "output_type": "stream",
     "text": [
      "                                                     \r"
     ]
    },
    {
     "name": "stdout",
     "output_type": "stream",
     "text": [
      "Novice session sample:\n",
      " Correct Proportion: 90.72% |\n",
      " Correct in 5 not 3: 93.81% |\n",
      " Correct in 15 not 5: 97.99% |\n",
      " Has Prediction and is Correct: 90.72% |\n",
      " Incorrect Proportion: 9.28% |\n",
      " None Proportion: 0.04% |\n",
      " First Prediction: 72.93% |\n",
      " Average Success Freq: 0.49 |\n",
      " Average Fail Freq: 0.85\n",
      "Accuracy Predicting Command 5 from commands 1 through 4:\n",
      "\n"
     ]
    },
    {
     "name": "stderr",
     "output_type": "stream",
     "text": [
      "                                                     \r"
     ]
    },
    {
     "name": "stdout",
     "output_type": "stream",
     "text": [
      "Scientist session sample:\n",
      " Correct Proportion: 79.13% |\n",
      " Correct in 5 not 3: 80.96% |\n",
      " Correct in 15 not 5: 83.09% |\n",
      " Has Prediction and is Correct: 79.13% |\n",
      " Incorrect Proportion: 20.77% |\n",
      " None Proportion: 0.50% |\n",
      " First Prediction: 69.57% |\n",
      " Average Success Freq: 0.44 |\n",
      " Average Fail Freq: 0.76\n"
     ]
    },
    {
     "name": "stderr",
     "output_type": "stream",
     "text": [
      "                                                     \r"
     ]
    },
    {
     "name": "stdout",
     "output_type": "stream",
     "text": [
      "Experienced session sample:\n",
      " Correct Proportion: 81.25% |\n",
      " Correct in 5 not 3: 82.65% |\n",
      " Correct in 15 not 5: 83.65% |\n",
      " Has Prediction and is Correct: 81.25% |\n",
      " Incorrect Proportion: 18.72% |\n",
      " None Proportion: 0.16% |\n",
      " First Prediction: 72.56% |\n",
      " Average Success Freq: 0.64 |\n",
      " Average Fail Freq: 1.09\n"
     ]
    },
    {
     "name": "stderr",
     "output_type": "stream",
     "text": [
      "                                       \r"
     ]
    },
    {
     "name": "stdout",
     "output_type": "stream",
     "text": [
      "Non programmer session sample:\n",
      " Correct Proportion: 78.09% |\n",
      " Correct in 5 not 3: 81.61% |\n",
      " Correct in 15 not 5: 85.89% |\n",
      " Has Prediction and is Correct: 78.09% |\n",
      " Incorrect Proportion: 21.80% |\n",
      " None Proportion: 0.50% |\n",
      " First Prediction: 63.16% |\n",
      " Average Success Freq: 3.63 |\n",
      " Average Fail Freq: 6.20\n"
     ]
    },
    {
     "name": "stderr",
     "output_type": "stream",
     "text": [
      "                                                     "
     ]
    },
    {
     "name": "stdout",
     "output_type": "stream",
     "text": [
      "Novice session sample:\n",
      " Correct Proportion: 84.80% |\n",
      " Correct in 5 not 3: 87.42% |\n",
      " Correct in 15 not 5: 90.10% |\n",
      " Has Prediction and is Correct: 84.80% |\n",
      " Incorrect Proportion: 15.17% |\n",
      " None Proportion: 0.18% |\n",
      " First Prediction: 69.14% |\n",
      " Average Success Freq: 0.49 |\n",
      " Average Fail Freq: 0.83\n"
     ]
    },
    {
     "name": "stderr",
     "output_type": "stream",
     "text": [
      "\r"
     ]
    }
   ],
   "source": [
    "for i in range(1, 5):\n",
    "    print(\"Accuracy Predicting Command {} from commands {} through {}:\\n\".format(i+1, 1, i))\n",
    "\n",
    "    print(\"Scientist session sample:\\n\", get_accuracy(science_session_sample, graph_depth=i))\n",
    "    print(\"Experienced session sample:\\n\", get_accuracy(experienced_session_sample, graph_depth=i))\n",
    "    print(\"Non programmer session sample:\\n\", get_accuracy(non_session_sample, graph_depth=i))\n",
    "    print(\"Novice session sample:\\n\", get_accuracy(novice_session_sample, graph_depth=i))"
   ]
  },
  {
   "cell_type": "markdown",
   "metadata": {},
   "source": [
    "Predict N from 1..n-1 in samples"
   ]
  },
  {
   "cell_type": "code",
   "execution_count": null,
   "metadata": {},
   "outputs": [
    {
     "name": "stderr",
     "output_type": "stream",
     "text": [
      "                                                      \r"
     ]
    },
    {
     "name": "stdout",
     "output_type": "stream",
     "text": [
      "Scientist session sample:\n",
      " Correct Proportion: 77.59% |\n",
      " Correct in 5 not 3: 82.15% |\n",
      " Correct in 15 not 5: 89.06% |\n",
      " Has Prediction and is Correct: 77.59% |\n",
      " Incorrect Proportion: 22.38% |\n",
      " None Proportion: 0.12% |\n",
      " First Prediction: 63.68% |\n",
      " Average Success Freq: 0.35 |\n",
      " Average Fail Freq: 0.68\n"
     ]
    },
    {
     "name": "stderr",
     "output_type": "stream",
     "text": [
      "                                                      \r"
     ]
    },
    {
     "name": "stdout",
     "output_type": "stream",
     "text": [
      "Experienced session sample:\n",
      " Correct Proportion: 80.30% |\n",
      " Correct in 5 not 3: 84.65% |\n",
      " Correct in 15 not 5: 91.14% |\n",
      " Has Prediction and is Correct: 80.30% |\n",
      " Incorrect Proportion: 19.69% |\n",
      " None Proportion: 0.05% |\n",
      " First Prediction: 65.05% |\n",
      " Average Success Freq: 0.52 |\n",
      " Average Fail Freq: 0.95\n"
     ]
    },
    {
     "name": "stderr",
     "output_type": "stream",
     "text": [
      "                                                    \r"
     ]
    },
    {
     "name": "stdout",
     "output_type": "stream",
     "text": [
      "Non programmer session sample:\n",
      " Correct Proportion: 71.33% |\n",
      " Correct in 5 not 3: 77.58% |\n",
      " Correct in 15 not 5: 88.24% |\n",
      " Has Prediction and is Correct: 71.33% |\n",
      " Incorrect Proportion: 28.64% |\n",
      " None Proportion: 0.11% |\n",
      " First Prediction: 54.21% |\n",
      " Average Success Freq: 2.95 |\n",
      " Average Fail Freq: 5.43\n"
     ]
    },
    {
     "name": "stderr",
     "output_type": "stream",
     "text": [
      "                                                      "
     ]
    },
    {
     "name": "stdout",
     "output_type": "stream",
     "text": [
      "Novice session sample:\n",
      " Correct Proportion: 81.20% |\n",
      " Correct in 5 not 3: 85.48% |\n",
      " Correct in 15 not 5: 91.90% |\n",
      " Has Prediction and is Correct: 81.20% |\n",
      " Incorrect Proportion: 18.79% |\n",
      " None Proportion: 0.06% |\n",
      " First Prediction: 62.20% |\n",
      " Average Success Freq: 0.40 |\n",
      " Average Fail Freq: 0.69\n"
     ]
    },
    {
     "name": "stderr",
     "output_type": "stream",
     "text": [
      "\r"
     ]
    }
   ],
   "source": [
    "i=-1\n",
    "\n",
    "print(\"Scientist session sample:\\n\", get_accuracy(science_session_sample, graph_depth=i))\n",
    "print(\"Experienced session sample:\\n\", get_accuracy(experienced_session_sample, graph_depth=i))\n",
    "print(\"Non programmer session sample:\\n\", get_accuracy(non_session_sample, graph_depth=i))\n",
    "print(\"Novice session sample:\\n\", get_accuracy(novice_session_sample, graph_depth=i))"
   ]
  },
  {
   "cell_type": "markdown",
   "metadata": {},
   "source": [
    "Expand pipes and replace args"
   ]
  },
  {
   "cell_type": "code",
   "execution_count": null,
   "metadata": {},
   "outputs": [],
   "source": [
    "science = parser.filter_commands_with_pipe(parser.scientists_commands)\n",
    "experienced = parser.filter_commands_with_pipe(parser.experienced_commands)\n",
    "non = parser.filter_commands_with_pipe(parser.non_programmers_commands)\n",
    "novice = parser.filter_commands_with_pipe(parser.novice_commands)\n",
    "\n",
    "science_pipes = parser.expand_piped_commands(science)\n",
    "experienced_pipes = parser.expand_piped_commands(experienced)\n",
    "non_pipes = parser.expand_piped_commands(non)\n",
    "novice_pipes = parser.expand_piped_commands(novice)\n",
    "\n",
    "science_pipes_expand = parser.replace_arg_expanded_pipe(science_pipes)\n",
    "experienced_pipes_expand = parser.replace_arg_expanded_pipe(experienced_pipes)\n",
    "non_pipes_expand = parser.replace_arg_expanded_pipe(non_pipes)\n",
    "novice_pipes_expand = parser.replace_arg_expanded_pipe(novice_pipes)"
   ]
  },
  {
   "cell_type": "code",
   "execution_count": null,
   "metadata": {},
   "outputs": [
    {
     "name": "stdout",
     "output_type": "stream",
     "text": [
      "[]\n"
     ]
    },
    {
     "name": "stderr",
     "output_type": "stream",
     "text": [
      "                                       \r"
     ]
    },
    {
     "name": "stdout",
     "output_type": "stream",
     "text": [
      "Science pipes metrics:\n",
      " Correct Proportion: 84.50% |\n",
      " Correct in 5 not 3: 87.34% |\n",
      " Correct in 15 not 5: 92.36% |\n",
      " Has Prediction and is Correct: 84.50% |\n",
      " Incorrect Proportion: 14.95% |\n",
      " None Proportion: 3.58% |\n",
      " First Prediction: 66.95% |\n",
      " Average Success Freq: 0.05 |\n",
      " Average Fail Freq: 0.06 \n",
      "\n"
     ]
    },
    {
     "name": "stderr",
     "output_type": "stream",
     "text": [
      "                                       \r"
     ]
    },
    {
     "name": "stdout",
     "output_type": "stream",
     "text": [
      "Experienced pipes metrics:\n",
      " Correct Proportion: 86.98% |\n",
      " Correct in 5 not 3: 93.02% |\n",
      " Correct in 15 not 5: 95.81% |\n",
      " Has Prediction and is Correct: 86.98% |\n",
      " Incorrect Proportion: 12.79% |\n",
      " None Proportion: 1.83% |\n",
      " First Prediction: 74.43% |\n",
      " Average Success Freq: 0.15 |\n",
      " Average Fail Freq: 0.14 \n",
      "\n"
     ]
    },
    {
     "name": "stderr",
     "output_type": "stream",
     "text": [
      "                                                   \r"
     ]
    },
    {
     "name": "stdout",
     "output_type": "stream",
     "text": [
      "Non programmers pipes metrics:\n",
      " Correct Proportion: 92.01% |\n",
      " Correct in 5 not 3: 93.37% |\n",
      " Correct in 15 not 5: 96.49% |\n",
      " Has Prediction and is Correct: 92.01% |\n",
      " Incorrect Proportion: 7.99% |\n",
      " None Proportion: 0.00% |\n",
      " First Prediction: 77.19% |\n",
      " Average Success Freq: 0.24 |\n",
      " Average Fail Freq: 0.15 \n",
      "\n"
     ]
    },
    {
     "name": "stderr",
     "output_type": "stream",
     "text": [
      "                                      "
     ]
    },
    {
     "name": "stdout",
     "output_type": "stream",
     "text": [
      "Novice pipes metrics:\n",
      " Correct Proportion: 90.48% |\n",
      " Correct in 5 not 3: 92.86% |\n",
      " Correct in 15 not 5: 95.24% |\n",
      " Has Prediction and is Correct: 90.48% |\n",
      " Incorrect Proportion: 9.09% |\n",
      " None Proportion: 4.55% |\n",
      " First Prediction: 52.27% |\n",
      " Average Success Freq: 2.82 |\n",
      " Average Fail Freq: 1.77 \n",
      "\n"
     ]
    },
    {
     "name": "stderr",
     "output_type": "stream",
     "text": [
      "\r"
     ]
    }
   ],
   "source": [
    "print(\"Science pipes metrics:\\n\", get_accuracy(science_pipes_expand), \"\\n\")\n",
    "print(\"Experienced pipes metrics:\\n\", get_accuracy(experienced_pipes_expand), \"\\n\")\n",
    "print(\"Non programmers pipes metrics:\\n\", get_accuracy(non_pipes_expand), \"\\n\")\n",
    "print(\"Novice pipes metrics:\\n\", get_accuracy(novice_pipes_expand), \"\\n\")"
   ]
  }
 ],
 "metadata": {
  "interpreter": {
   "hash": "d6a02243acaf6442a8dfab70d4c1e9169b9d22808d9e1a1dd816394099b97fa0"
  },
  "kernelspec": {
   "display_name": "Python 3.9.10 ('venv': venv)",
   "language": "python",
   "name": "python3"
  },
  "language_info": {
   "codemirror_mode": {
    "name": "ipython",
    "version": 3
   },
   "file_extension": ".py",
   "mimetype": "text/x-python",
   "name": "python",
   "nbconvert_exporter": "python",
   "pygments_lexer": "ipython3",
   "version": "3.9.12"
  },
  "orig_nbformat": 4
 },
 "nbformat": 4,
 "nbformat_minor": 2
}
